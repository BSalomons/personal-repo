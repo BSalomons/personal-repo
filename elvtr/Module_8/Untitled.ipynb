{
 "cells": [
  {
   "cell_type": "code",
   "execution_count": 1,
   "id": "02a49424",
   "metadata": {},
   "outputs": [],
   "source": [
    "import numpy as np\n",
    "import pandas_datareader as pdr\n",
    "import datetime as dt\n",
    "import pandas as pd\n",
    " \n",
    "tickers = ['AAPL', 'MSFT', 'TWTR', 'IBM', '^GSPC']\n",
    "start = dt.datetime(2015, 12, 1)\n",
    "end = dt.datetime(2021, 1, 1)\n",
    " \n",
    "data = pdr.get_data_yahoo(tickers, start, end, interval=\"m\")\n",
    " \n",
    "data = data['Adj Close']\n",
    " \n",
    "log_returns = np.log(data/data.shift())"
   ]
  },
  {
   "cell_type": "code",
   "execution_count": 5,
   "id": "3c05bab9",
   "metadata": {},
   "outputs": [
    {
     "data": {
      "text/html": [
       "<div>\n",
       "<style scoped>\n",
       "    .dataframe tbody tr th:only-of-type {\n",
       "        vertical-align: middle;\n",
       "    }\n",
       "\n",
       "    .dataframe tbody tr th {\n",
       "        vertical-align: top;\n",
       "    }\n",
       "\n",
       "    .dataframe thead th {\n",
       "        text-align: right;\n",
       "    }\n",
       "</style>\n",
       "<table border=\"1\" class=\"dataframe\">\n",
       "  <thead>\n",
       "    <tr style=\"text-align: right;\">\n",
       "      <th>Symbols</th>\n",
       "      <th>AAPL</th>\n",
       "      <th>MSFT</th>\n",
       "      <th>TWTR</th>\n",
       "      <th>IBM</th>\n",
       "      <th>^GSPC</th>\n",
       "    </tr>\n",
       "    <tr>\n",
       "      <th>Symbols</th>\n",
       "      <th></th>\n",
       "      <th></th>\n",
       "      <th></th>\n",
       "      <th></th>\n",
       "      <th></th>\n",
       "    </tr>\n",
       "  </thead>\n",
       "  <tbody>\n",
       "    <tr>\n",
       "      <th>AAPL</th>\n",
       "      <td>0.007254</td>\n",
       "      <td>0.002920</td>\n",
       "      <td>0.003730</td>\n",
       "      <td>0.002452</td>\n",
       "      <td>0.002413</td>\n",
       "    </tr>\n",
       "    <tr>\n",
       "      <th>MSFT</th>\n",
       "      <td>0.002920</td>\n",
       "      <td>0.002638</td>\n",
       "      <td>0.000739</td>\n",
       "      <td>0.001902</td>\n",
       "      <td>0.001534</td>\n",
       "    </tr>\n",
       "    <tr>\n",
       "      <th>TWTR</th>\n",
       "      <td>0.003730</td>\n",
       "      <td>0.000739</td>\n",
       "      <td>0.019788</td>\n",
       "      <td>0.001908</td>\n",
       "      <td>0.001795</td>\n",
       "    </tr>\n",
       "    <tr>\n",
       "      <th>IBM</th>\n",
       "      <td>0.002452</td>\n",
       "      <td>0.001902</td>\n",
       "      <td>0.001908</td>\n",
       "      <td>0.005319</td>\n",
       "      <td>0.002401</td>\n",
       "    </tr>\n",
       "    <tr>\n",
       "      <th>^GSPC</th>\n",
       "      <td>0.002413</td>\n",
       "      <td>0.001534</td>\n",
       "      <td>0.001795</td>\n",
       "      <td>0.002401</td>\n",
       "      <td>0.001924</td>\n",
       "    </tr>\n",
       "  </tbody>\n",
       "</table>\n",
       "</div>"
      ],
      "text/plain": [
       "Symbols      AAPL      MSFT      TWTR       IBM     ^GSPC\n",
       "Symbols                                                  \n",
       "AAPL     0.007254  0.002920  0.003730  0.002452  0.002413\n",
       "MSFT     0.002920  0.002638  0.000739  0.001902  0.001534\n",
       "TWTR     0.003730  0.000739  0.019788  0.001908  0.001795\n",
       "IBM      0.002452  0.001902  0.001908  0.005319  0.002401\n",
       "^GSPC    0.002413  0.001534  0.001795  0.002401  0.001924"
      ]
     },
     "metadata": {},
     "output_type": "display_data"
    },
    {
     "data": {
      "text/plain": [
       "0.0024132274311454006"
      ]
     },
     "execution_count": 5,
     "metadata": {},
     "output_type": "execute_result"
    }
   ],
   "source": [
    "cov = log_returns.cov()\n",
    "var = log_returns['^GSPC'].var()\n",
    "\n",
    "display(cov)\n",
    "\n",
    "cov.loc['AAPL', '^GSPC']"
   ]
  },
  {
   "cell_type": "code",
   "execution_count": null,
   "id": "837fa536",
   "metadata": {},
   "outputs": [],
   "source": []
  }
 ],
 "metadata": {
  "kernelspec": {
   "display_name": "Python 3 (ipykernel)",
   "language": "python",
   "name": "python3"
  },
  "language_info": {
   "codemirror_mode": {
    "name": "ipython",
    "version": 3
   },
   "file_extension": ".py",
   "mimetype": "text/x-python",
   "name": "python",
   "nbconvert_exporter": "python",
   "pygments_lexer": "ipython3",
   "version": "3.10.3"
  }
 },
 "nbformat": 4,
 "nbformat_minor": 5
}
