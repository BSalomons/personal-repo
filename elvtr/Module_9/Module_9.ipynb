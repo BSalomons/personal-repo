{
 "cells": [
  {
   "cell_type": "markdown",
   "id": "b7baa515",
   "metadata": {},
   "source": [
    "# VaR for Portfolios\n",
    "\n",
    "Almost all of the examples are in Excel, but this is much easier in Python."
   ]
  },
  {
   "cell_type": "code",
   "execution_count": 74,
   "id": "25889039",
   "metadata": {},
   "outputs": [],
   "source": [
    "import pandas as pd\n",
    "import numpy as np\n",
    "import pandas_datareader as pdr # you'll need to pip install this first\n",
    "import datetime as dt\n",
    "import matplotlib.pyplot as plt "
   ]
  },
  {
   "cell_type": "code",
   "execution_count": 75,
   "id": "a282e2a8",
   "metadata": {},
   "outputs": [
    {
     "data": {
      "text/html": [
       "<div>\n",
       "<style scoped>\n",
       "    .dataframe tbody tr th:only-of-type {\n",
       "        vertical-align: middle;\n",
       "    }\n",
       "\n",
       "    .dataframe tbody tr th {\n",
       "        vertical-align: top;\n",
       "    }\n",
       "\n",
       "    .dataframe thead th {\n",
       "        text-align: right;\n",
       "    }\n",
       "</style>\n",
       "<table border=\"1\" class=\"dataframe\">\n",
       "  <thead>\n",
       "    <tr style=\"text-align: right;\">\n",
       "      <th>Symbols</th>\n",
       "      <th>AAPL</th>\n",
       "      <th>TSLA</th>\n",
       "      <th>GLD</th>\n",
       "      <th>WFC</th>\n",
       "      <th>IBM</th>\n",
       "      <th>BTC-USD</th>\n",
       "      <th>^GSPC</th>\n",
       "    </tr>\n",
       "    <tr>\n",
       "      <th>Date</th>\n",
       "      <th></th>\n",
       "      <th></th>\n",
       "      <th></th>\n",
       "      <th></th>\n",
       "      <th></th>\n",
       "      <th></th>\n",
       "      <th></th>\n",
       "    </tr>\n",
       "  </thead>\n",
       "  <tbody>\n",
       "    <tr>\n",
       "      <th>2021-01-05</th>\n",
       "      <td>0.012364</td>\n",
       "      <td>0.007317</td>\n",
       "      <td>0.002962</td>\n",
       "      <td>0.027946</td>\n",
       "      <td>0.017751</td>\n",
       "      <td>0.063197</td>\n",
       "      <td>0.007083</td>\n",
       "    </tr>\n",
       "    <tr>\n",
       "      <th>2021-01-06</th>\n",
       "      <td>-0.033662</td>\n",
       "      <td>0.028390</td>\n",
       "      <td>-0.016241</td>\n",
       "      <td>0.070750</td>\n",
       "      <td>0.024972</td>\n",
       "      <td>0.083311</td>\n",
       "      <td>0.005710</td>\n",
       "    </tr>\n",
       "    <tr>\n",
       "      <th>2021-01-07</th>\n",
       "      <td>0.034123</td>\n",
       "      <td>0.079447</td>\n",
       "      <td>-0.002335</td>\n",
       "      <td>0.022637</td>\n",
       "      <td>-0.002320</td>\n",
       "      <td>0.069157</td>\n",
       "      <td>0.014847</td>\n",
       "    </tr>\n",
       "    <tr>\n",
       "      <th>2021-01-08</th>\n",
       "      <td>0.008631</td>\n",
       "      <td>0.078403</td>\n",
       "      <td>-0.034210</td>\n",
       "      <td>-0.007179</td>\n",
       "      <td>-0.003566</td>\n",
       "      <td>0.036234</td>\n",
       "      <td>0.005492</td>\n",
       "    </tr>\n",
       "    <tr>\n",
       "      <th>2021-01-09</th>\n",
       "      <td>0.000000</td>\n",
       "      <td>0.000000</td>\n",
       "      <td>0.000000</td>\n",
       "      <td>0.000000</td>\n",
       "      <td>0.000000</td>\n",
       "      <td>-0.013311</td>\n",
       "      <td>0.000000</td>\n",
       "    </tr>\n",
       "    <tr>\n",
       "      <th>2021-01-10</th>\n",
       "      <td>0.000000</td>\n",
       "      <td>0.000000</td>\n",
       "      <td>0.000000</td>\n",
       "      <td>0.000000</td>\n",
       "      <td>0.000000</td>\n",
       "      <td>-0.047153</td>\n",
       "      <td>0.000000</td>\n",
       "    </tr>\n",
       "    <tr>\n",
       "      <th>2021-01-11</th>\n",
       "      <td>-0.023249</td>\n",
       "      <td>-0.078214</td>\n",
       "      <td>-0.001961</td>\n",
       "      <td>0.001506</td>\n",
       "      <td>0.000389</td>\n",
       "      <td>-0.072733</td>\n",
       "      <td>-0.006555</td>\n",
       "    </tr>\n",
       "    <tr>\n",
       "      <th>2021-01-12</th>\n",
       "      <td>-0.001395</td>\n",
       "      <td>0.047153</td>\n",
       "      <td>0.006474</td>\n",
       "      <td>0.021059</td>\n",
       "      <td>0.004900</td>\n",
       "      <td>-0.046215</td>\n",
       "      <td>0.000416</td>\n",
       "    </tr>\n",
       "    <tr>\n",
       "      <th>2021-01-13</th>\n",
       "      <td>0.016227</td>\n",
       "      <td>0.005851</td>\n",
       "      <td>-0.004307</td>\n",
       "      <td>-0.004125</td>\n",
       "      <td>-0.017723</td>\n",
       "      <td>0.100032</td>\n",
       "      <td>0.002276</td>\n",
       "    </tr>\n",
       "    <tr>\n",
       "      <th>2021-01-14</th>\n",
       "      <td>-0.015127</td>\n",
       "      <td>-0.011013</td>\n",
       "      <td>-0.000519</td>\n",
       "      <td>0.028107</td>\n",
       "      <td>0.016152</td>\n",
       "      <td>0.050138</td>\n",
       "      <td>-0.003753</td>\n",
       "    </tr>\n",
       "    <tr>\n",
       "      <th>2021-01-15</th>\n",
       "      <td>-0.013731</td>\n",
       "      <td>-0.022296</td>\n",
       "      <td>-0.012408</td>\n",
       "      <td>-0.077986</td>\n",
       "      <td>-0.004497</td>\n",
       "      <td>-0.060274</td>\n",
       "      <td>-0.007190</td>\n",
       "    </tr>\n",
       "    <tr>\n",
       "      <th>2021-01-16</th>\n",
       "      <td>0.000000</td>\n",
       "      <td>0.000000</td>\n",
       "      <td>0.000000</td>\n",
       "      <td>0.000000</td>\n",
       "      <td>0.000000</td>\n",
       "      <td>-0.017576</td>\n",
       "      <td>0.000000</td>\n",
       "    </tr>\n",
       "    <tr>\n",
       "      <th>2021-01-17</th>\n",
       "      <td>0.000000</td>\n",
       "      <td>0.000000</td>\n",
       "      <td>0.000000</td>\n",
       "      <td>0.000000</td>\n",
       "      <td>0.000000</td>\n",
       "      <td>-0.010693</td>\n",
       "      <td>0.000000</td>\n",
       "    </tr>\n",
       "    <tr>\n",
       "      <th>2021-01-18</th>\n",
       "      <td>0.000000</td>\n",
       "      <td>0.000000</td>\n",
       "      <td>0.000000</td>\n",
       "      <td>0.000000</td>\n",
       "      <td>0.000000</td>\n",
       "      <td>0.023436</td>\n",
       "      <td>0.000000</td>\n",
       "    </tr>\n",
       "    <tr>\n",
       "      <th>2021-01-19</th>\n",
       "      <td>0.005427</td>\n",
       "      <td>0.022260</td>\n",
       "      <td>0.008473</td>\n",
       "      <td>0.018415</td>\n",
       "      <td>0.004907</td>\n",
       "      <td>-0.015295</td>\n",
       "      <td>0.008136</td>\n",
       "    </tr>\n",
       "    <tr>\n",
       "      <th>2021-01-20</th>\n",
       "      <td>0.032856</td>\n",
       "      <td>0.006986</td>\n",
       "      <td>0.016282</td>\n",
       "      <td>-0.005210</td>\n",
       "      <td>0.008216</td>\n",
       "      <td>-0.014473</td>\n",
       "      <td>0.013936</td>\n",
       "    </tr>\n",
       "    <tr>\n",
       "      <th>2021-01-21</th>\n",
       "      <td>0.036658</td>\n",
       "      <td>-0.006420</td>\n",
       "      <td>-0.000627</td>\n",
       "      <td>-0.014171</td>\n",
       "      <td>0.012069</td>\n",
       "      <td>-0.132837</td>\n",
       "      <td>0.000317</td>\n",
       "    </tr>\n",
       "    <tr>\n",
       "      <th>2021-01-22</th>\n",
       "      <td>0.016074</td>\n",
       "      <td>0.001953</td>\n",
       "      <td>-0.007873</td>\n",
       "      <td>-0.003125</td>\n",
       "      <td>-0.099051</td>\n",
       "      <td>0.070722</td>\n",
       "      <td>-0.003011</td>\n",
       "    </tr>\n",
       "    <tr>\n",
       "      <th>2021-01-23</th>\n",
       "      <td>0.000000</td>\n",
       "      <td>0.000000</td>\n",
       "      <td>0.000000</td>\n",
       "      <td>0.000000</td>\n",
       "      <td>0.000000</td>\n",
       "      <td>-0.028423</td>\n",
       "      <td>0.000000</td>\n",
       "    </tr>\n",
       "    <tr>\n",
       "      <th>2021-01-24</th>\n",
       "      <td>0.000000</td>\n",
       "      <td>0.000000</td>\n",
       "      <td>0.000000</td>\n",
       "      <td>0.000000</td>\n",
       "      <td>0.000000</td>\n",
       "      <td>0.006915</td>\n",
       "      <td>0.000000</td>\n",
       "    </tr>\n",
       "    <tr>\n",
       "      <th>2021-01-25</th>\n",
       "      <td>0.027684</td>\n",
       "      <td>0.040348</td>\n",
       "      <td>0.000863</td>\n",
       "      <td>0.010658</td>\n",
       "      <td>-0.000253</td>\n",
       "      <td>0.002385</td>\n",
       "      <td>0.003616</td>\n",
       "    </tr>\n",
       "    <tr>\n",
       "      <th>2021-01-26</th>\n",
       "      <td>0.001679</td>\n",
       "      <td>0.002600</td>\n",
       "      <td>-0.002471</td>\n",
       "      <td>-0.026675</td>\n",
       "      <td>0.032973</td>\n",
       "      <td>0.006286</td>\n",
       "      <td>-0.001489</td>\n",
       "    </tr>\n",
       "  </tbody>\n",
       "</table>\n",
       "</div>"
      ],
      "text/plain": [
       "Symbols         AAPL      TSLA       GLD       WFC       IBM   BTC-USD  \\\n",
       "Date                                                                     \n",
       "2021-01-05  0.012364  0.007317  0.002962  0.027946  0.017751  0.063197   \n",
       "2021-01-06 -0.033662  0.028390 -0.016241  0.070750  0.024972  0.083311   \n",
       "2021-01-07  0.034123  0.079447 -0.002335  0.022637 -0.002320  0.069157   \n",
       "2021-01-08  0.008631  0.078403 -0.034210 -0.007179 -0.003566  0.036234   \n",
       "2021-01-09  0.000000  0.000000  0.000000  0.000000  0.000000 -0.013311   \n",
       "2021-01-10  0.000000  0.000000  0.000000  0.000000  0.000000 -0.047153   \n",
       "2021-01-11 -0.023249 -0.078214 -0.001961  0.001506  0.000389 -0.072733   \n",
       "2021-01-12 -0.001395  0.047153  0.006474  0.021059  0.004900 -0.046215   \n",
       "2021-01-13  0.016227  0.005851 -0.004307 -0.004125 -0.017723  0.100032   \n",
       "2021-01-14 -0.015127 -0.011013 -0.000519  0.028107  0.016152  0.050138   \n",
       "2021-01-15 -0.013731 -0.022296 -0.012408 -0.077986 -0.004497 -0.060274   \n",
       "2021-01-16  0.000000  0.000000  0.000000  0.000000  0.000000 -0.017576   \n",
       "2021-01-17  0.000000  0.000000  0.000000  0.000000  0.000000 -0.010693   \n",
       "2021-01-18  0.000000  0.000000  0.000000  0.000000  0.000000  0.023436   \n",
       "2021-01-19  0.005427  0.022260  0.008473  0.018415  0.004907 -0.015295   \n",
       "2021-01-20  0.032856  0.006986  0.016282 -0.005210  0.008216 -0.014473   \n",
       "2021-01-21  0.036658 -0.006420 -0.000627 -0.014171  0.012069 -0.132837   \n",
       "2021-01-22  0.016074  0.001953 -0.007873 -0.003125 -0.099051  0.070722   \n",
       "2021-01-23  0.000000  0.000000  0.000000  0.000000  0.000000 -0.028423   \n",
       "2021-01-24  0.000000  0.000000  0.000000  0.000000  0.000000  0.006915   \n",
       "2021-01-25  0.027684  0.040348  0.000863  0.010658 -0.000253  0.002385   \n",
       "2021-01-26  0.001679  0.002600 -0.002471 -0.026675  0.032973  0.006286   \n",
       "\n",
       "Symbols        ^GSPC  \n",
       "Date                  \n",
       "2021-01-05  0.007083  \n",
       "2021-01-06  0.005710  \n",
       "2021-01-07  0.014847  \n",
       "2021-01-08  0.005492  \n",
       "2021-01-09  0.000000  \n",
       "2021-01-10  0.000000  \n",
       "2021-01-11 -0.006555  \n",
       "2021-01-12  0.000416  \n",
       "2021-01-13  0.002276  \n",
       "2021-01-14 -0.003753  \n",
       "2021-01-15 -0.007190  \n",
       "2021-01-16  0.000000  \n",
       "2021-01-17  0.000000  \n",
       "2021-01-18  0.000000  \n",
       "2021-01-19  0.008136  \n",
       "2021-01-20  0.013936  \n",
       "2021-01-21  0.000317  \n",
       "2021-01-22 -0.003011  \n",
       "2021-01-23  0.000000  \n",
       "2021-01-24  0.000000  \n",
       "2021-01-25  0.003616  \n",
       "2021-01-26 -0.001489  "
      ]
     },
     "execution_count": 75,
     "metadata": {},
     "output_type": "execute_result"
    }
   ],
   "source": [
    "tickers = ['AAPL', 'TSLA', 'GLD', 'WFC', 'IBM', 'BTC-USD', '^GSPC']\n",
    "\n",
    "start = dt.datetime(2021, 1, 1)\n",
    "end = dt.datetime(2022, 1, 1)\n",
    " \n",
    "df = pdr.get_data_yahoo(tickers, start, end, interval=\"d\")\n",
    "price_df = df['Adj Close']\n",
    "# Note that we're using Pandas pct_change\n",
    "ret_df = price_df.pct_change()\n",
    "ret_df.dropna(inplace=True)\n",
    "ret_df.head(22)"
   ]
  },
  {
   "cell_type": "markdown",
   "id": "486fc295",
   "metadata": {},
   "source": [
    "## I said \"d\" for daily, but pandas_datareader is including the weekends.\n",
    "\n",
    "Let's do some data cleansing and drop rows when GSPC==0. This should include holidays."
   ]
  },
  {
   "cell_type": "code",
   "execution_count": 76,
   "id": "8076dd6a",
   "metadata": {},
   "outputs": [
    {
     "data": {
      "text/html": [
       "<div>\n",
       "<style scoped>\n",
       "    .dataframe tbody tr th:only-of-type {\n",
       "        vertical-align: middle;\n",
       "    }\n",
       "\n",
       "    .dataframe tbody tr th {\n",
       "        vertical-align: top;\n",
       "    }\n",
       "\n",
       "    .dataframe thead th {\n",
       "        text-align: right;\n",
       "    }\n",
       "</style>\n",
       "<table border=\"1\" class=\"dataframe\">\n",
       "  <thead>\n",
       "    <tr style=\"text-align: right;\">\n",
       "      <th>Symbols</th>\n",
       "      <th>AAPL</th>\n",
       "      <th>TSLA</th>\n",
       "      <th>GLD</th>\n",
       "      <th>WFC</th>\n",
       "      <th>IBM</th>\n",
       "      <th>BTC-USD</th>\n",
       "      <th>^GSPC</th>\n",
       "    </tr>\n",
       "    <tr>\n",
       "      <th>Date</th>\n",
       "      <th></th>\n",
       "      <th></th>\n",
       "      <th></th>\n",
       "      <th></th>\n",
       "      <th></th>\n",
       "      <th></th>\n",
       "      <th></th>\n",
       "    </tr>\n",
       "  </thead>\n",
       "  <tbody>\n",
       "    <tr>\n",
       "      <th>2021-01-05</th>\n",
       "      <td>0.012364</td>\n",
       "      <td>0.007317</td>\n",
       "      <td>0.002962</td>\n",
       "      <td>0.027946</td>\n",
       "      <td>0.017751</td>\n",
       "      <td>0.063197</td>\n",
       "      <td>0.007083</td>\n",
       "    </tr>\n",
       "    <tr>\n",
       "      <th>2021-01-06</th>\n",
       "      <td>-0.033662</td>\n",
       "      <td>0.028390</td>\n",
       "      <td>-0.016241</td>\n",
       "      <td>0.070750</td>\n",
       "      <td>0.024972</td>\n",
       "      <td>0.083311</td>\n",
       "      <td>0.005710</td>\n",
       "    </tr>\n",
       "    <tr>\n",
       "      <th>2021-01-07</th>\n",
       "      <td>0.034123</td>\n",
       "      <td>0.079447</td>\n",
       "      <td>-0.002335</td>\n",
       "      <td>0.022637</td>\n",
       "      <td>-0.002320</td>\n",
       "      <td>0.069157</td>\n",
       "      <td>0.014847</td>\n",
       "    </tr>\n",
       "    <tr>\n",
       "      <th>2021-01-08</th>\n",
       "      <td>0.008631</td>\n",
       "      <td>0.078403</td>\n",
       "      <td>-0.034210</td>\n",
       "      <td>-0.007179</td>\n",
       "      <td>-0.003566</td>\n",
       "      <td>0.036234</td>\n",
       "      <td>0.005492</td>\n",
       "    </tr>\n",
       "    <tr>\n",
       "      <th>2021-01-11</th>\n",
       "      <td>-0.023249</td>\n",
       "      <td>-0.078214</td>\n",
       "      <td>-0.001961</td>\n",
       "      <td>0.001506</td>\n",
       "      <td>0.000389</td>\n",
       "      <td>-0.072733</td>\n",
       "      <td>-0.006555</td>\n",
       "    </tr>\n",
       "    <tr>\n",
       "      <th>2021-01-12</th>\n",
       "      <td>-0.001395</td>\n",
       "      <td>0.047153</td>\n",
       "      <td>0.006474</td>\n",
       "      <td>0.021059</td>\n",
       "      <td>0.004900</td>\n",
       "      <td>-0.046215</td>\n",
       "      <td>0.000416</td>\n",
       "    </tr>\n",
       "    <tr>\n",
       "      <th>2021-01-13</th>\n",
       "      <td>0.016227</td>\n",
       "      <td>0.005851</td>\n",
       "      <td>-0.004307</td>\n",
       "      <td>-0.004125</td>\n",
       "      <td>-0.017723</td>\n",
       "      <td>0.100032</td>\n",
       "      <td>0.002276</td>\n",
       "    </tr>\n",
       "    <tr>\n",
       "      <th>2021-01-14</th>\n",
       "      <td>-0.015127</td>\n",
       "      <td>-0.011013</td>\n",
       "      <td>-0.000519</td>\n",
       "      <td>0.028107</td>\n",
       "      <td>0.016152</td>\n",
       "      <td>0.050138</td>\n",
       "      <td>-0.003753</td>\n",
       "    </tr>\n",
       "    <tr>\n",
       "      <th>2021-01-15</th>\n",
       "      <td>-0.013731</td>\n",
       "      <td>-0.022296</td>\n",
       "      <td>-0.012408</td>\n",
       "      <td>-0.077986</td>\n",
       "      <td>-0.004497</td>\n",
       "      <td>-0.060274</td>\n",
       "      <td>-0.007190</td>\n",
       "    </tr>\n",
       "    <tr>\n",
       "      <th>2021-01-19</th>\n",
       "      <td>0.005427</td>\n",
       "      <td>0.022260</td>\n",
       "      <td>0.008473</td>\n",
       "      <td>0.018415</td>\n",
       "      <td>0.004907</td>\n",
       "      <td>-0.015295</td>\n",
       "      <td>0.008136</td>\n",
       "    </tr>\n",
       "    <tr>\n",
       "      <th>2021-01-20</th>\n",
       "      <td>0.032856</td>\n",
       "      <td>0.006986</td>\n",
       "      <td>0.016282</td>\n",
       "      <td>-0.005210</td>\n",
       "      <td>0.008216</td>\n",
       "      <td>-0.014473</td>\n",
       "      <td>0.013936</td>\n",
       "    </tr>\n",
       "    <tr>\n",
       "      <th>2021-01-21</th>\n",
       "      <td>0.036658</td>\n",
       "      <td>-0.006420</td>\n",
       "      <td>-0.000627</td>\n",
       "      <td>-0.014171</td>\n",
       "      <td>0.012069</td>\n",
       "      <td>-0.132837</td>\n",
       "      <td>0.000317</td>\n",
       "    </tr>\n",
       "    <tr>\n",
       "      <th>2021-01-22</th>\n",
       "      <td>0.016074</td>\n",
       "      <td>0.001953</td>\n",
       "      <td>-0.007873</td>\n",
       "      <td>-0.003125</td>\n",
       "      <td>-0.099051</td>\n",
       "      <td>0.070722</td>\n",
       "      <td>-0.003011</td>\n",
       "    </tr>\n",
       "    <tr>\n",
       "      <th>2021-01-25</th>\n",
       "      <td>0.027684</td>\n",
       "      <td>0.040348</td>\n",
       "      <td>0.000863</td>\n",
       "      <td>0.010658</td>\n",
       "      <td>-0.000253</td>\n",
       "      <td>0.002385</td>\n",
       "      <td>0.003616</td>\n",
       "    </tr>\n",
       "    <tr>\n",
       "      <th>2021-01-26</th>\n",
       "      <td>0.001679</td>\n",
       "      <td>0.002600</td>\n",
       "      <td>-0.002471</td>\n",
       "      <td>-0.026675</td>\n",
       "      <td>0.032973</td>\n",
       "      <td>0.006286</td>\n",
       "      <td>-0.001489</td>\n",
       "    </tr>\n",
       "    <tr>\n",
       "      <th>2021-01-27</th>\n",
       "      <td>-0.007684</td>\n",
       "      <td>-0.021436</td>\n",
       "      <td>-0.006336</td>\n",
       "      <td>-0.038560</td>\n",
       "      <td>-0.000163</td>\n",
       "      <td>-0.065622</td>\n",
       "      <td>-0.025678</td>\n",
       "    </tr>\n",
       "    <tr>\n",
       "      <th>2021-01-28</th>\n",
       "      <td>-0.034985</td>\n",
       "      <td>-0.033246</td>\n",
       "      <td>0.000927</td>\n",
       "      <td>0.021213</td>\n",
       "      <td>-0.019515</td>\n",
       "      <td>0.099681</td>\n",
       "      <td>0.009761</td>\n",
       "    </tr>\n",
       "    <tr>\n",
       "      <th>2021-01-29</th>\n",
       "      <td>-0.037421</td>\n",
       "      <td>-0.050154</td>\n",
       "      <td>-0.000405</td>\n",
       "      <td>-0.030185</td>\n",
       "      <td>-0.008078</td>\n",
       "      <td>0.025407</td>\n",
       "      <td>-0.019311</td>\n",
       "    </tr>\n",
       "    <tr>\n",
       "      <th>2021-02-01</th>\n",
       "      <td>0.016520</td>\n",
       "      <td>0.058322</td>\n",
       "      <td>0.009385</td>\n",
       "      <td>0.003681</td>\n",
       "      <td>0.012006</td>\n",
       "      <td>0.012768</td>\n",
       "      <td>0.016052</td>\n",
       "    </tr>\n",
       "    <tr>\n",
       "      <th>2021-02-02</th>\n",
       "      <td>0.006337</td>\n",
       "      <td>0.039271</td>\n",
       "      <td>-0.012168</td>\n",
       "      <td>0.025342</td>\n",
       "      <td>-0.009126</td>\n",
       "      <td>0.058834</td>\n",
       "      <td>0.013898</td>\n",
       "    </tr>\n",
       "    <tr>\n",
       "      <th>2021-02-03</th>\n",
       "      <td>-0.007778</td>\n",
       "      <td>-0.020738</td>\n",
       "      <td>-0.001511</td>\n",
       "      <td>0.030894</td>\n",
       "      <td>-0.002679</td>\n",
       "      <td>0.055246</td>\n",
       "      <td>0.001009</td>\n",
       "    </tr>\n",
       "    <tr>\n",
       "      <th>2021-02-04</th>\n",
       "      <td>0.025758</td>\n",
       "      <td>-0.005499</td>\n",
       "      <td>-0.021530</td>\n",
       "      <td>0.033544</td>\n",
       "      <td>0.015950</td>\n",
       "      <td>-0.014571</td>\n",
       "      <td>0.010853</td>\n",
       "    </tr>\n",
       "  </tbody>\n",
       "</table>\n",
       "</div>"
      ],
      "text/plain": [
       "Symbols         AAPL      TSLA       GLD       WFC       IBM   BTC-USD  \\\n",
       "Date                                                                     \n",
       "2021-01-05  0.012364  0.007317  0.002962  0.027946  0.017751  0.063197   \n",
       "2021-01-06 -0.033662  0.028390 -0.016241  0.070750  0.024972  0.083311   \n",
       "2021-01-07  0.034123  0.079447 -0.002335  0.022637 -0.002320  0.069157   \n",
       "2021-01-08  0.008631  0.078403 -0.034210 -0.007179 -0.003566  0.036234   \n",
       "2021-01-11 -0.023249 -0.078214 -0.001961  0.001506  0.000389 -0.072733   \n",
       "2021-01-12 -0.001395  0.047153  0.006474  0.021059  0.004900 -0.046215   \n",
       "2021-01-13  0.016227  0.005851 -0.004307 -0.004125 -0.017723  0.100032   \n",
       "2021-01-14 -0.015127 -0.011013 -0.000519  0.028107  0.016152  0.050138   \n",
       "2021-01-15 -0.013731 -0.022296 -0.012408 -0.077986 -0.004497 -0.060274   \n",
       "2021-01-19  0.005427  0.022260  0.008473  0.018415  0.004907 -0.015295   \n",
       "2021-01-20  0.032856  0.006986  0.016282 -0.005210  0.008216 -0.014473   \n",
       "2021-01-21  0.036658 -0.006420 -0.000627 -0.014171  0.012069 -0.132837   \n",
       "2021-01-22  0.016074  0.001953 -0.007873 -0.003125 -0.099051  0.070722   \n",
       "2021-01-25  0.027684  0.040348  0.000863  0.010658 -0.000253  0.002385   \n",
       "2021-01-26  0.001679  0.002600 -0.002471 -0.026675  0.032973  0.006286   \n",
       "2021-01-27 -0.007684 -0.021436 -0.006336 -0.038560 -0.000163 -0.065622   \n",
       "2021-01-28 -0.034985 -0.033246  0.000927  0.021213 -0.019515  0.099681   \n",
       "2021-01-29 -0.037421 -0.050154 -0.000405 -0.030185 -0.008078  0.025407   \n",
       "2021-02-01  0.016520  0.058322  0.009385  0.003681  0.012006  0.012768   \n",
       "2021-02-02  0.006337  0.039271 -0.012168  0.025342 -0.009126  0.058834   \n",
       "2021-02-03 -0.007778 -0.020738 -0.001511  0.030894 -0.002679  0.055246   \n",
       "2021-02-04  0.025758 -0.005499 -0.021530  0.033544  0.015950 -0.014571   \n",
       "\n",
       "Symbols        ^GSPC  \n",
       "Date                  \n",
       "2021-01-05  0.007083  \n",
       "2021-01-06  0.005710  \n",
       "2021-01-07  0.014847  \n",
       "2021-01-08  0.005492  \n",
       "2021-01-11 -0.006555  \n",
       "2021-01-12  0.000416  \n",
       "2021-01-13  0.002276  \n",
       "2021-01-14 -0.003753  \n",
       "2021-01-15 -0.007190  \n",
       "2021-01-19  0.008136  \n",
       "2021-01-20  0.013936  \n",
       "2021-01-21  0.000317  \n",
       "2021-01-22 -0.003011  \n",
       "2021-01-25  0.003616  \n",
       "2021-01-26 -0.001489  \n",
       "2021-01-27 -0.025678  \n",
       "2021-01-28  0.009761  \n",
       "2021-01-29 -0.019311  \n",
       "2021-02-01  0.016052  \n",
       "2021-02-02  0.013898  \n",
       "2021-02-03  0.001009  \n",
       "2021-02-04  0.010853  "
      ]
     },
     "execution_count": 76,
     "metadata": {},
     "output_type": "execute_result"
    }
   ],
   "source": [
    "ret_df = ret_df[ret_df['^GSPC'] != 0.0]\n",
    "ret_df.head(22)"
   ]
  },
  {
   "cell_type": "code",
   "execution_count": 77,
   "id": "c86aef0b",
   "metadata": {},
   "outputs": [
    {
     "data": {
      "text/html": [
       "<div>\n",
       "<style scoped>\n",
       "    .dataframe tbody tr th:only-of-type {\n",
       "        vertical-align: middle;\n",
       "    }\n",
       "\n",
       "    .dataframe tbody tr th {\n",
       "        vertical-align: top;\n",
       "    }\n",
       "\n",
       "    .dataframe thead th {\n",
       "        text-align: right;\n",
       "    }\n",
       "</style>\n",
       "<table border=\"1\" class=\"dataframe\">\n",
       "  <thead>\n",
       "    <tr style=\"text-align: right;\">\n",
       "      <th>Symbols</th>\n",
       "      <th>AAPL</th>\n",
       "      <th>TSLA</th>\n",
       "      <th>GLD</th>\n",
       "      <th>WFC</th>\n",
       "      <th>IBM</th>\n",
       "      <th>BTC-USD</th>\n",
       "      <th>^GSPC</th>\n",
       "    </tr>\n",
       "    <tr>\n",
       "      <th>Symbols</th>\n",
       "      <th></th>\n",
       "      <th></th>\n",
       "      <th></th>\n",
       "      <th></th>\n",
       "      <th></th>\n",
       "      <th></th>\n",
       "      <th></th>\n",
       "    </tr>\n",
       "  </thead>\n",
       "  <tbody>\n",
       "    <tr>\n",
       "      <th>AAPL</th>\n",
       "      <td>0.000247</td>\n",
       "      <td>0.000248</td>\n",
       "      <td>1.715032e-05</td>\n",
       "      <td>2.360193e-05</td>\n",
       "      <td>0.000012</td>\n",
       "      <td>0.000115</td>\n",
       "      <td>0.000088</td>\n",
       "    </tr>\n",
       "    <tr>\n",
       "      <th>TSLA</th>\n",
       "      <td>0.000248</td>\n",
       "      <td>0.001186</td>\n",
       "      <td>2.693091e-05</td>\n",
       "      <td>6.980647e-05</td>\n",
       "      <td>-0.000012</td>\n",
       "      <td>0.000377</td>\n",
       "      <td>0.000130</td>\n",
       "    </tr>\n",
       "    <tr>\n",
       "      <th>GLD</th>\n",
       "      <td>0.000017</td>\n",
       "      <td>0.000027</td>\n",
       "      <td>7.227916e-05</td>\n",
       "      <td>6.121459e-07</td>\n",
       "      <td>0.000019</td>\n",
       "      <td>-0.000001</td>\n",
       "      <td>0.000013</td>\n",
       "    </tr>\n",
       "    <tr>\n",
       "      <th>WFC</th>\n",
       "      <td>0.000024</td>\n",
       "      <td>0.000070</td>\n",
       "      <td>6.121459e-07</td>\n",
       "      <td>4.480788e-04</td>\n",
       "      <td>0.000091</td>\n",
       "      <td>0.000194</td>\n",
       "      <td>0.000078</td>\n",
       "    </tr>\n",
       "    <tr>\n",
       "      <th>IBM</th>\n",
       "      <td>0.000012</td>\n",
       "      <td>-0.000012</td>\n",
       "      <td>1.867883e-05</td>\n",
       "      <td>9.097043e-05</td>\n",
       "      <td>0.000207</td>\n",
       "      <td>0.000014</td>\n",
       "      <td>0.000034</td>\n",
       "    </tr>\n",
       "    <tr>\n",
       "      <th>BTC-USD</th>\n",
       "      <td>0.000115</td>\n",
       "      <td>0.000377</td>\n",
       "      <td>-1.224186e-06</td>\n",
       "      <td>1.942665e-04</td>\n",
       "      <td>0.000014</td>\n",
       "      <td>0.002183</td>\n",
       "      <td>0.000125</td>\n",
       "    </tr>\n",
       "    <tr>\n",
       "      <th>^GSPC</th>\n",
       "      <td>0.000088</td>\n",
       "      <td>0.000130</td>\n",
       "      <td>1.330417e-05</td>\n",
       "      <td>7.786094e-05</td>\n",
       "      <td>0.000034</td>\n",
       "      <td>0.000125</td>\n",
       "      <td>0.000067</td>\n",
       "    </tr>\n",
       "  </tbody>\n",
       "</table>\n",
       "</div>"
      ],
      "text/plain": [
       "Symbols      AAPL      TSLA           GLD           WFC       IBM   BTC-USD  \\\n",
       "Symbols                                                                       \n",
       "AAPL     0.000247  0.000248  1.715032e-05  2.360193e-05  0.000012  0.000115   \n",
       "TSLA     0.000248  0.001186  2.693091e-05  6.980647e-05 -0.000012  0.000377   \n",
       "GLD      0.000017  0.000027  7.227916e-05  6.121459e-07  0.000019 -0.000001   \n",
       "WFC      0.000024  0.000070  6.121459e-07  4.480788e-04  0.000091  0.000194   \n",
       "IBM      0.000012 -0.000012  1.867883e-05  9.097043e-05  0.000207  0.000014   \n",
       "BTC-USD  0.000115  0.000377 -1.224186e-06  1.942665e-04  0.000014  0.002183   \n",
       "^GSPC    0.000088  0.000130  1.330417e-05  7.786094e-05  0.000034  0.000125   \n",
       "\n",
       "Symbols     ^GSPC  \n",
       "Symbols            \n",
       "AAPL     0.000088  \n",
       "TSLA     0.000130  \n",
       "GLD      0.000013  \n",
       "WFC      0.000078  \n",
       "IBM      0.000034  \n",
       "BTC-USD  0.000125  \n",
       "^GSPC    0.000067  "
      ]
     },
     "execution_count": 77,
     "metadata": {},
     "output_type": "execute_result"
    }
   ],
   "source": [
    "cov_matrix = ret_df.cov(ddof=0) # Or should I leave it at the default ddof=1?\n",
    "cov_matrix"
   ]
  },
  {
   "cell_type": "markdown",
   "id": "03324fcb",
   "metadata": {},
   "source": [
    "## Convert the Pandas df to a NumPy matrix\n",
    "\n",
    "In NumPy, a matrix is an array of arrays.\n",
    "\n",
    "Reminders: \n",
    "* variance is the spread of the distribution (here, returns)\n",
    "** The diagonal (AAPL vs AAPL, ... ^GSPC vs ^GSPC) is the variance\n",
    "** Return's std_dev is the square root of the variance\n",
    "* covariance of TSLA to TSLA is its variance\n",
    "* covariance of AAPL to TSLA is how they vary together."
   ]
  },
  {
   "cell_type": "code",
   "execution_count": 78,
   "id": "c534fa30",
   "metadata": {},
   "outputs": [
    {
     "data": {
      "text/plain": [
       "array([[ 2.47333536e-04,  2.47963302e-04,  1.71503226e-05,\n",
       "         2.36019322e-05,  1.22635806e-05,  1.14652017e-04,\n",
       "         8.78732043e-05],\n",
       "       [ 2.47963302e-04,  1.18576212e-03,  2.69309132e-05,\n",
       "         6.98064652e-05, -1.22180976e-05,  3.76541580e-04,\n",
       "         1.29705959e-04],\n",
       "       [ 1.71503226e-05,  2.69309132e-05,  7.22791613e-05,\n",
       "         6.12145871e-07,  1.86788303e-05, -1.22418648e-06,\n",
       "         1.33041695e-05],\n",
       "       [ 2.36019322e-05,  6.98064652e-05,  6.12145871e-07,\n",
       "         4.48078810e-04,  9.09704273e-05,  1.94266527e-04,\n",
       "         7.78609380e-05],\n",
       "       [ 1.22635806e-05, -1.22180976e-05,  1.86788303e-05,\n",
       "         9.09704273e-05,  2.06516235e-04,  1.43576796e-05,\n",
       "         3.43726697e-05],\n",
       "       [ 1.14652017e-04,  3.76541580e-04, -1.22418648e-06,\n",
       "         1.94266527e-04,  1.43576796e-05,  2.18334314e-03,\n",
       "         1.24655873e-04],\n",
       "       [ 8.78732043e-05,  1.29705959e-04,  1.33041695e-05,\n",
       "         7.78609380e-05,  3.43726697e-05,  1.24655873e-04,\n",
       "         6.71099123e-05]])"
      ]
     },
     "execution_count": 78,
     "metadata": {},
     "output_type": "execute_result"
    }
   ],
   "source": [
    "cov_np = np.array(cov_matrix)\n",
    "cov_np"
   ]
  },
  {
   "cell_type": "code",
   "execution_count": 79,
   "id": "39f82b1e",
   "metadata": {},
   "outputs": [
    {
     "data": {
      "text/plain": [
       "array([0.01572684, 0.0344349 , 0.00850172, 0.02116787, 0.01437067,\n",
       "       0.04672626, 0.00819206])"
      ]
     },
     "execution_count": 79,
     "metadata": {},
     "output_type": "execute_result"
    }
   ],
   "source": [
    "std_dev = np.sqrt(np.diagonal(cov_np))\n",
    "std_dev"
   ]
  },
  {
   "cell_type": "markdown",
   "id": "bdc58b72",
   "metadata": {},
   "source": [
    "### Calculating AAPL and TSLA by hand, as a check. "
   ]
  },
  {
   "cell_type": "code",
   "execution_count": 80,
   "id": "0168c4b0",
   "metadata": {},
   "outputs": [
    {
     "data": {
      "text/plain": [
       "0.03443489688620107"
      ]
     },
     "execution_count": 80,
     "metadata": {},
     "output_type": "execute_result"
    }
   ],
   "source": [
    "aapl = np.array(ret_df['AAPL'])\n",
    "np.std(aapl)\n",
    "tsla = np.array(ret_df['TSLA'])\n",
    "np.std(tsla)"
   ]
  },
  {
   "cell_type": "markdown",
   "id": "bab6a003",
   "metadata": {},
   "source": [
    "# Single stock portfolio\n",
    "\n",
    "But doing all the matrix stuff.\n",
    "\n",
    "Weights so 100% in TSLA."
   ]
  },
  {
   "cell_type": "code",
   "execution_count": 81,
   "id": "1f26fa7c",
   "metadata": {},
   "outputs": [
    {
     "data": {
      "text/plain": [
       "array([0., 1., 0., 0., 0., 0., 0.])"
      ]
     },
     "execution_count": 81,
     "metadata": {},
     "output_type": "execute_result"
    }
   ],
   "source": [
    "weights = np.array([1.0 if ticker=='TSLA' else 0.0 for ticker in tickers])\n",
    "weights"
   ]
  },
  {
   "cell_type": "code",
   "execution_count": 82,
   "id": "2c292104",
   "metadata": {},
   "outputs": [
    {
     "data": {
      "text/plain": [
       "array([0., 1., 0., 0., 0., 0., 0.])"
      ]
     },
     "execution_count": 82,
     "metadata": {},
     "output_type": "execute_result"
    }
   ],
   "source": [
    "weights_T = weights.T \n",
    "weights_T # I thought this would be an array of 1 x 7 !"
   ]
  },
  {
   "cell_type": "code",
   "execution_count": 83,
   "id": "c1337e37",
   "metadata": {},
   "outputs": [
    {
     "data": {
      "text/plain": [
       "array([ 2.47963302e-04,  1.18576212e-03,  2.69309132e-05,  6.98064652e-05,\n",
       "       -1.22180976e-05,  3.76541580e-04,  1.29705959e-04])"
      ]
     },
     "execution_count": 83,
     "metadata": {},
     "output_type": "execute_result"
    }
   ],
   "source": [
    "np.dot(weights, cov_np)\n"
   ]
  },
  {
   "cell_type": "markdown",
   "id": "e0beb76c",
   "metadata": {},
   "source": [
    "## Calculating weighted portfolio volatility and portfolio standard deviation"
   ]
  },
  {
   "cell_type": "code",
   "execution_count": 84,
   "id": "a3d440e5",
   "metadata": {},
   "outputs": [
    {
     "data": {
      "text/plain": [
       "0.03443489688620108"
      ]
     },
     "execution_count": 84,
     "metadata": {},
     "output_type": "execute_result"
    }
   ],
   "source": [
    "vol = np.dot(np.dot(weights, cov_np), weights.T) # matrix equation on \"Calculating VaR for a portfolio\"\n",
    "port_std = np.sqrt(vol)\n",
    "port_std"
   ]
  },
  {
   "cell_type": "markdown",
   "id": "b7099097",
   "metadata": {},
   "source": [
    "## Calculating average return for the portfolio and weighted average return."
   ]
  },
  {
   "cell_type": "code",
   "execution_count": 85,
   "id": "c7fff12d",
   "metadata": {},
   "outputs": [
    {
     "data": {
      "text/plain": [
       "Symbols\n",
       "AAPL       0.001409\n",
       "TSLA       0.002061\n",
       "GLD       -0.000220\n",
       "WFC        0.002191\n",
       "IBM        0.000782\n",
       "BTC-USD    0.002035\n",
       "^GSPC      0.001042\n",
       "dtype: float64"
      ]
     },
     "execution_count": 85,
     "metadata": {},
     "output_type": "execute_result"
    }
   ],
   "source": [
    "avg_rets = ret_df.mean()\n",
    "avg_rets"
   ]
  },
  {
   "cell_type": "markdown",
   "id": "8f535da1",
   "metadata": {},
   "source": [
    "### portfolio mean should match the by-hand calculation, above."
   ]
  },
  {
   "cell_type": "code",
   "execution_count": 86,
   "id": "996a6c9a",
   "metadata": {},
   "outputs": [
    {
     "data": {
      "text/plain": [
       "0.002061082672094034"
      ]
     },
     "execution_count": 86,
     "metadata": {},
     "output_type": "execute_result"
    }
   ],
   "source": [
    "port_mean = avg_rets.dot(weights)\n",
    "port_mean"
   ]
  },
  {
   "cell_type": "code",
   "execution_count": 87,
   "id": "89e34a93",
   "metadata": {},
   "outputs": [
    {
     "name": "stdout",
     "output_type": "stream",
     "text": [
      "Following are based on the normal curve.\n",
      "  90% confidence level: loss of -4.207%\n",
      "  95% confidence level: loss of -5.458%\n",
      "  99% confidence level: loss of -7.805%\n"
     ]
    }
   ],
   "source": [
    "from scipy.stats import norm\n",
    "def VaR(conf_level: int, mean: float, std_dev: float) -> float:\n",
    "    tail = 1.0 - (conf_level / 100.0)\n",
    "    VaR = norm.ppf(tail, mean, std_dev)\n",
    "    return VaR\n",
    "\n",
    "var_dict = {conf_level : VaR(conf_level, port_mean, port_std) for conf_level in [90, 95, 99]}\n",
    "print(f'Following are based on the normal curve.')\n",
    "for conf_level, var in var_dict.items():\n",
    "    print(f'  {conf_level}% confidence level: loss of {var:.3%}'  )"
   ]
  },
  {
   "cell_type": "markdown",
   "id": "edd14dd6",
   "metadata": {},
   "source": [
    "### Checking the returns for TSLA\n",
    "\n",
    "List is 251 long. \n",
    "The 99% confidence level should be about the 1st percentile. This should be around the third number in the list. The normal curve says -0.07804, or a 7.8% loss. The third number in the historical list says -.0859 or an 8.6% loss. \n",
    "\n",
    "Why the difference? We are guessing VaR based on a normal curve with normal distributions, and TSLA is a real stock and we're using historical numbers."
   ]
  },
  {
   "cell_type": "code",
   "execution_count": 88,
   "id": "b0c9cd91",
   "metadata": {},
   "outputs": [
    {
     "data": {
      "text/plain": [
       "array([-1.19902960e-01, -8.54985138e-02, -8.05908833e-02, -7.82141492e-02,\n",
       "       -6.93207914e-02, -6.44437102e-02, -6.41987889e-02, -6.09564208e-02,\n",
       "       -5.84497224e-02, -5.33447391e-02, -5.25510483e-02, -5.02771625e-02,\n",
       "       -5.01537696e-02, -4.97724302e-02, -4.86221818e-02, -4.84237371e-02,\n",
       "       -4.84007120e-02, -4.81604973e-02, -4.53264988e-02, -4.45276374e-02,\n",
       "       -4.42482129e-02, -4.38737710e-02, -4.34676346e-02, -4.32254566e-02,\n",
       "       -4.13529316e-02, -3.94716478e-02, -3.86048634e-02, -3.77992890e-02,\n",
       "       -3.49893355e-02, -3.45906320e-02, -3.39966252e-02, -3.38543578e-02,\n",
       "       -3.32461366e-02, -3.28307166e-02, -3.08532298e-02, -3.05375950e-02,\n",
       "       -3.02749211e-02, -3.01010235e-02, -2.98574717e-02, -2.98176275e-02,\n",
       "       -2.96751073e-02, -2.84578091e-02, -2.82930725e-02, -2.50576380e-02,\n",
       "       -2.50255708e-02, -2.49363581e-02, -2.46270384e-02, -2.43836991e-02,\n",
       "       -2.26762402e-02, -2.26356049e-02, -2.25257547e-02, -2.22958898e-02,\n",
       "       -2.19173872e-02, -2.18909576e-02, -2.17315663e-02, -2.14361539e-02,\n",
       "       -2.07380653e-02, -1.95249018e-02, -1.93822729e-02, -1.88222788e-02,\n",
       "       -1.74383189e-02, -1.64988296e-02, -1.61682162e-02, -1.46720293e-02,\n",
       "       -1.45922688e-02, -1.41170401e-02, -1.34937282e-02, -1.26688127e-02,\n",
       "       -1.19927651e-02, -1.17015326e-02, -1.16942898e-02, -1.15576160e-02,\n",
       "       -1.10293385e-02, -1.10134168e-02, -1.02317199e-02, -1.00549169e-02,\n",
       "       -9.91513364e-03, -9.85015243e-03, -9.80634049e-03, -9.49773919e-03,\n",
       "       -9.25245571e-03, -9.20198456e-03, -9.05647167e-03, -8.92447507e-03,\n",
       "       -8.39050218e-03, -8.19504646e-03, -8.17454662e-03, -7.96898117e-03,\n",
       "       -7.88799693e-03, -7.72183323e-03, -7.46184883e-03, -7.03359929e-03,\n",
       "       -6.71175589e-03, -6.42015626e-03, -6.35824421e-03, -6.27402062e-03,\n",
       "       -5.87205642e-03, -5.49908410e-03, -5.28191476e-03, -5.00024772e-03,\n",
       "       -4.25484293e-03, -4.15744333e-03, -3.97872724e-03, -3.94889139e-03,\n",
       "       -3.05635705e-03, -2.88569354e-03, -2.61884547e-03, -2.54487137e-03,\n",
       "       -2.31580889e-03, -2.21544054e-03, -2.11117103e-03, -2.09471033e-03,\n",
       "       -1.55707965e-03, -1.20277201e-03, -3.76943012e-04, -3.35288817e-04,\n",
       "        9.86477178e-05,  8.24842391e-04,  1.25878560e-03,  1.26177048e-03,\n",
       "        1.31321082e-03,  1.44565956e-03,  1.53470108e-03,  1.61115342e-03,\n",
       "        1.66257037e-03,  1.77024336e-03,  1.80291940e-03,  1.95271475e-03,\n",
       "        2.00537044e-03,  2.26083491e-03,  2.42402073e-03,  2.59995356e-03,\n",
       "        2.61807527e-03,  2.63531366e-03,  2.76710318e-03,  3.10066895e-03,\n",
       "        3.10452965e-03,  3.30255358e-03,  3.41194062e-03,  3.82506741e-03,\n",
       "        4.63895882e-03,  4.82277896e-03,  5.21862103e-03,  5.49493892e-03,\n",
       "        5.85087904e-03,  6.09548237e-03,  6.10103875e-03,  6.28474479e-03,\n",
       "        6.34183708e-03,  6.58083449e-03,  6.65249290e-03,  6.76761008e-03,\n",
       "        6.83385043e-03,  6.98599787e-03,  7.31732694e-03,  8.13970077e-03,\n",
       "        8.21145054e-03,  8.49875222e-03,  8.92635755e-03,  9.04086871e-03,\n",
       "        9.14064173e-03,  9.19315587e-03,  1.00821705e-02,  1.01494320e-02,\n",
       "        1.08822936e-02,  1.20646936e-02,  1.26135314e-02,  1.26579894e-02,\n",
       "        1.27891712e-02,  1.31302614e-02,  1.31799578e-02,  1.32223230e-02,\n",
       "        1.33074380e-02,  1.34919506e-02,  1.38741429e-02,  1.45420196e-02,\n",
       "        1.52319400e-02,  1.53460126e-02,  1.60566024e-02,  1.63631670e-02,\n",
       "        1.69872021e-02,  1.74002680e-02,  1.74220670e-02,  1.75391417e-02,\n",
       "        1.82366176e-02,  1.89297411e-02,  1.89384503e-02,  1.90783783e-02,\n",
       "        1.91215966e-02,  1.93925646e-02,  2.03865284e-02,  2.04835056e-02,\n",
       "        2.09698680e-02,  2.19139844e-02,  2.20977840e-02,  2.21330942e-02,\n",
       "        2.22596292e-02,  2.31038298e-02,  2.38800086e-02,  2.50792202e-02,\n",
       "        2.52483050e-02,  2.63778172e-02,  2.66743324e-02,  2.75330391e-02,\n",
       "        2.83903029e-02,  3.01960379e-02,  3.15730338e-02,  3.21221725e-02,\n",
       "        3.25012372e-02,  3.25710471e-02,  3.26978613e-02,  3.43162367e-02,\n",
       "        3.49518147e-02,  3.49701334e-02,  3.54113038e-02,  3.57167111e-02,\n",
       "        3.68307418e-02,  3.68673898e-02,  3.71039726e-02,  3.77508086e-02,\n",
       "        3.82794485e-02,  3.92707643e-02,  3.98011058e-02,  4.03476951e-02,\n",
       "        4.07937371e-02,  4.13871551e-02,  4.23583412e-02,  4.28806662e-02,\n",
       "        4.34293612e-02,  4.37628426e-02,  4.40021990e-02,  4.42765210e-02,\n",
       "        4.57544161e-02,  4.69411667e-02,  4.71529480e-02,  4.72112956e-02,\n",
       "        4.79172857e-02,  5.08322548e-02,  5.09001997e-02,  5.26847160e-02,\n",
       "        5.76189253e-02,  5.83216344e-02,  6.17880931e-02,  6.35529129e-02,\n",
       "        7.49469528e-02,  7.84030724e-02,  7.94465450e-02,  8.49102027e-02,\n",
       "        8.59569055e-02,  1.26615946e-01,  1.96412109e-01])"
      ]
     },
     "execution_count": 88,
     "metadata": {},
     "output_type": "execute_result"
    }
   ],
   "source": [
    "tsla = np.sort(np.array(ret_df.TSLA))\n",
    "tsla"
   ]
  },
  {
   "cell_type": "markdown",
   "id": "38bbe71e",
   "metadata": {},
   "source": [
    "## Multiple stock portfolio\n",
    "\n",
    "(And let's start with functions for that middle section where we caldulate the portfolio mean and portfolio S.D.)"
   ]
  },
  {
   "cell_type": "code",
   "execution_count": 89,
   "id": "e3f1909d",
   "metadata": {},
   "outputs": [],
   "source": [
    "def portfolio_std(weights: np.array, cov_np: np.array) -> float:\n",
    "    if weights.sum() != 1.0:\n",
    "        raise ValueError(f'Weights must add up to 1.0. {weights} sum to {weights.sum()}')\n",
    "    vol = np.dot(np.dot(weights, cov_np), weights.T)\n",
    "    return np.sqrt(vol)\n",
    "\n",
    "def avg_rets(df: pd.DataFrame, weights: np.array) -> float:\n",
    "    avg_rets = df.mean()\n",
    "    return avg_rets.dot(weights)"
   ]
  },
  {
   "cell_type": "code",
   "execution_count": 90,
   "id": "faf5b27d",
   "metadata": {},
   "outputs": [
    {
     "name": "stdout",
     "output_type": "stream",
     "text": [
      "Weights are [0.15 0.15 0.15 0.15 0.15 0.15 0.1 ] and add up to 1.0\n"
     ]
    }
   ],
   "source": [
    "weights = np.array([0.15 if ticker!='^GSPC' else 0.10 for ticker in tickers])\n",
    "print(f'Weights are {weights} and add up to {weights.sum()}')"
   ]
  },
  {
   "cell_type": "code",
   "execution_count": 91,
   "id": "db05a07a",
   "metadata": {},
   "outputs": [
    {
     "data": {
      "text/plain": [
       "0.012890877815352765"
      ]
     },
     "execution_count": 91,
     "metadata": {},
     "output_type": "execute_result"
    }
   ],
   "source": [
    "port_std = portfolio_std(weights, cov_np)\n",
    "port_std"
   ]
  },
  {
   "cell_type": "code",
   "execution_count": 92,
   "id": "937b095e",
   "metadata": {},
   "outputs": [
    {
     "data": {
      "text/plain": [
       "0.001342888240391038"
      ]
     },
     "execution_count": 92,
     "metadata": {},
     "output_type": "execute_result"
    }
   ],
   "source": [
    "port_mean = avg_rets(ret_df, weights)\n",
    "port_mean"
   ]
  },
  {
   "cell_type": "code",
   "execution_count": 93,
   "id": "6ff55ec9",
   "metadata": {},
   "outputs": [
    {
     "data": {
      "text/plain": [
       "{90: -0.015177436405118455,\n",
       " 95: -0.01986071888878023,\n",
       " 99: -0.028645777959875104}"
      ]
     },
     "execution_count": 93,
     "metadata": {},
     "output_type": "execute_result"
    }
   ],
   "source": [
    "var_dict = {conf_level : VaR(conf_level, port_mean, port_std) for conf_level in [90, 95, 99]}\n",
    "var_dict"
   ]
  },
  {
   "cell_type": "code",
   "execution_count": 94,
   "id": "0ee7b9a0",
   "metadata": {},
   "outputs": [
    {
     "name": "stdout",
     "output_type": "stream",
     "text": [
      "Following are based on the normal curve.\n",
      "  90% confidence level: loss of -1.518%\n",
      "  95% confidence level: loss of -1.986%\n",
      "  99% confidence level: loss of -2.865%\n"
     ]
    }
   ],
   "source": [
    "print(f'Following are based on the normal curve.')\n",
    "for conf_level, var in var_dict.items():\n",
    "    print(f'  {conf_level}% confidence level: loss of {var:.3%}'  )"
   ]
  },
  {
   "cell_type": "markdown",
   "id": "59524f60",
   "metadata": {},
   "source": [
    "# The Efficient Frontier and the Capital Allocation Line\n",
    "\n",
    "Let's consider a simpler case of two assets.\n",
    "\n",
    "Is it possible to maximize the expected return *and* minimize the risk (standard deviation)? \n"
   ]
  },
  {
   "cell_type": "code",
   "execution_count": null,
   "id": "4195700b",
   "metadata": {},
   "outputs": [],
   "source": []
  },
  {
   "cell_type": "code",
   "execution_count": 95,
   "id": "9ae9b093",
   "metadata": {},
   "outputs": [
    {
     "name": "stdout",
     "output_type": "stream",
     "text": [
      "AAPL weight: 0.10. WFC weight: 0.90. mean: 0.002113. S.D. 0.019227\n",
      "AAPL weight: 0.20. WFC weight: 0.80. mean: 0.002035. S.D. 0.017442\n",
      "AAPL weight: 0.30. WFC weight: 0.70. mean: 0.001957. S.D. 0.015866\n",
      "AAPL weight: 0.40. WFC weight: 0.60. mean: 0.001878. S.D. 0.014567\n",
      "AAPL weight: 0.50. WFC weight: 0.50. mean: 0.001800. S.D. 0.013625\n",
      "AAPL weight: 0.60. WFC weight: 0.40. mean: 0.001722. S.D. 0.013117\n",
      "AAPL weight: 0.70. WFC weight: 0.30. mean: 0.001644. S.D. 0.013093\n",
      "AAPL weight: 0.80. WFC weight: 0.20. mean: 0.001566. S.D. 0.013556\n",
      "AAPL weight: 0.90. WFC weight: 0.10. mean: 0.001488. S.D. 0.014459\n"
     ]
    }
   ],
   "source": [
    "# tickers are AAPL    TSLA    GLD    WFC    IBM    BTC-USD    ^GSPC\n",
    "first_idx = 0\n",
    "second_idx = 3\n",
    "stds = []\n",
    "exp_ret = []\n",
    "\n",
    "for first in range(10, 100, 10):\n",
    "    first_weight = first / 100.0\n",
    "    second_weight = 1.0 - first_weight\n",
    "    weights = np.array([0., 0., 0., 0., 0., 0., 0.])\n",
    "    weights[first_idx] = first_weight\n",
    "    weights[second_idx] = second_weight\n",
    "    port_std = portfolio_std(weights, cov_np)\n",
    "    port_mean = avg_rets(ret_df, weights)\n",
    "    print (f'{tickers[first_idx]} weight: {first_weight:.2f}. {tickers[second_idx]} weight: {second_weight:.2f}. mean: {port_mean:.6f}. S.D. {port_std:.6f}')\n",
    "    stds.append(port_std)\n",
    "    exp_ret.append(port_mean)"
   ]
  },
  {
   "cell_type": "markdown",
   "id": "2e81e397",
   "metadata": {},
   "source": [
    "# Graph the results"
   ]
  },
  {
   "cell_type": "code",
   "execution_count": 96,
   "id": "5c602a69",
   "metadata": {},
   "outputs": [
    {
     "data": {
      "text/plain": [
       "Text(0, 0.5, 'exp. return')"
      ]
     },
     "execution_count": 96,
     "metadata": {},
     "output_type": "execute_result"
    },
    {
     "data": {
      "image/png": "[encoded data removed]",
      "text/plain": [
       "<Figure size 432x288 with 1 Axes>"
      ]
     },
     "metadata": {
      "needs_background": "light"
     },
     "output_type": "display_data"
    }
   ],
   "source": [
    "import matplotlib.pyplot as plt\n",
    "\n",
    "fig = plt.figure()\n",
    "ax = fig.add_subplot(1, 1, 1)\n",
    "ax.plot(stds, exp_ret, color='tab:blue')\n",
    "ax.set_xlabel('risk (std. dev)')  # Add an x-label to the axes.\n",
    "ax.set_ylabel('exp. return')  # Add a y-label to the axes.\n"
   ]
  },
  {
   "cell_type": "markdown",
   "id": "5caf6e1b",
   "metadata": {},
   "source": [
    "## Quick detour to turn the SD and means into tuples."
   ]
  },
  {
   "cell_type": "code",
   "execution_count": 97,
   "id": "5e49918c",
   "metadata": {},
   "outputs": [
    {
     "data": {
      "text/plain": [
       "[(0.014567452241893476, 0.0018783889758018195),\n",
       " (0.013625492748701545, 0.0018002272944606212),\n",
       " (0.013117225701562542, 0.001722065613119423)]"
      ]
     },
     "execution_count": 97,
     "metadata": {},
     "output_type": "execute_result"
    }
   ],
   "source": [
    "frontier = []\n",
    "for sd, mean in zip(stds, exp_ret):\n",
    "    frontier.append((sd, mean))\n",
    "frontier[3:6]"
   ]
  },
  {
   "cell_type": "markdown",
   "id": "85b9a8ae",
   "metadata": {},
   "source": [
    "## Another quick detour to get me a list of repeating colors"
   ]
  },
  {
   "cell_type": "code",
   "execution_count": 98,
   "id": "15fcd794",
   "metadata": {},
   "outputs": [
    {
     "name": "stdout",
     "output_type": "stream",
     "text": [
      "tab:blue\n",
      "tab:orange\n",
      "tab:green\n",
      "tab:red\n",
      "tab:purple\n",
      "tab:brown\n",
      "tab:pink\n",
      "tab:gray\n",
      "tab:olive\n",
      "tab:cyan\n",
      "tab:blue\n",
      "tab:orange\n"
     ]
    }
   ],
   "source": [
    "from itertools import cycle\n",
    "palette = ['tab:blue', 'tab:orange', 'tab:green', 'tab:red', 'tab:purple', 'tab:brown', 'tab:pink', 'tab:gray', 'tab:olive', 'tab:cyan']\n",
    "tableau_iter = cycle(palette)\n",
    "for i in range(12):\n",
    "    print(next(tableau_iter))"
   ]
  },
  {
   "cell_type": "code",
   "execution_count": 99,
   "id": "44968d5c",
   "metadata": {},
   "outputs": [
    {
     "data": {
      "image/png": "[encoded data removed]",
      "text/plain": [
       "<Figure size 432x288 with 1 Axes>"
      ]
     },
     "metadata": {
      "needs_background": "light"
     },
     "output_type": "display_data"
    }
   ],
   "source": [
    "r_f = (0.0, 0.0004) # = 0.04%\n",
    "fig = plt.figure()\n",
    "ax = fig.add_subplot(1, 1, 1)\n",
    "ax.plot(stds, exp_ret, color=next(tableau_iter))\n",
    "ax.set_xlabel('risk (std. dev)')  # Add an x-label to the axes.\n",
    "ax.set_ylabel('exp. return')  # Add a y-label to the axes.\n",
    "for point in frontier[1:-1]:\n",
    "    x = [r_f[0], point[0]]\n",
    "    y = [r_f[1], point[1]]\n",
    "    ax.plot(x, y, color=next(tableau_iter))\n",
    "\n"
   ]
  },
  {
   "cell_type": "markdown",
   "id": "d82ff9a7",
   "metadata": {},
   "source": [
    "### Let's add origin lines on the axes \n",
    "\n",
    "And also lines from the S.D. and mean."
   ]
  },
  {
   "cell_type": "code",
   "execution_count": 110,
   "id": "c9acbc64",
   "metadata": {},
   "outputs": [
    {
     "data": {
      "text/plain": [
       "(0.013625492748701545, 0.0018002272944606212)"
      ]
     },
     "execution_count": 110,
     "metadata": {},
     "output_type": "execute_result"
    }
   ],
   "source": [
    "tangent = frontier[4]\n",
    "tangent"
   ]
  },
  {
   "cell_type": "code",
   "execution_count": 111,
   "id": "e6bbf2f9",
   "metadata": {},
   "outputs": [
    {
     "data": {
      "text/plain": [
       "[<matplotlib.lines.Line2D at 0x1984bd8cb20>]"
      ]
     },
     "execution_count": 111,
     "metadata": {},
     "output_type": "execute_result"
    },
    {
     "data": {
      "image/png": "[encoded data removed]",
      "text/plain": [
       "<Figure size 432x288 with 1 Axes>"
      ]
     },
     "metadata": {
      "needs_background": "light"
     },
     "output_type": "display_data"
    }
   ],
   "source": [
    "fig = plt.figure()\n",
    "ax = fig.add_subplot(1, 1, 1)\n",
    "ax.plot(stds, exp_ret, color=next(tableau_iter))\n",
    "ax.set_xlabel('risk (std. dev)')  # Add an x-label to the axes.\n",
    "ax.set_ylabel('exp. return')  # Add a y-label to the axes.\n",
    "plt.axvline(x=0, c=\"black\", label=\"x=0\")\n",
    "plt.axhline(y=0, c=\"black\", label=\"y=0\")\n",
    "for point in frontier[4:5]:\n",
    "    x = [r_f[0], point[0]]\n",
    "    y = [r_f[1], point[1]]\n",
    "    ax.plot(x, y, color=next(tableau_iter))\n",
    "\n",
    "# Add the lines from the origin\n",
    "x = [tangent[0], tangent[0]]\n",
    "y = [0,          tangent[1]]\n",
    "ax.plot(x, y, color=next(tableau_iter))\n",
    "x = [0, tangent[0]]\n",
    "y = [tangent[1], tangent[1]]\n",
    "ax.plot(x, y, color=next(tableau_iter))\n"
   ]
  },
  {
   "cell_type": "markdown",
   "id": "b6cfe522",
   "metadata": {},
   "source": [
    "# Let's redo some of the above with namedtuples"
   ]
  },
  {
   "cell_type": "code",
   "execution_count": 112,
   "id": "d2e20dc8",
   "metadata": {},
   "outputs": [
    {
     "data": {
      "text/plain": [
       "(0.014567452241893476, 0.0018783889758018195)"
      ]
     },
     "execution_count": 112,
     "metadata": {},
     "output_type": "execute_result"
    }
   ],
   "source": [
    "point1 = frontier[3]\n",
    "point1"
   ]
  },
  {
   "cell_type": "code",
   "execution_count": 113,
   "id": "8fd8d67c",
   "metadata": {},
   "outputs": [
    {
     "data": {
      "text/plain": [
       "Point(x=0.014567451272754973, y=0.001878388569797952)"
      ]
     },
     "execution_count": 113,
     "metadata": {},
     "output_type": "execute_result"
    }
   ],
   "source": [
    "from collections import namedtuple\n",
    "Point = namedtuple(\"Point\", \"x y\")\n",
    "point2 = Point(0.014567451272754973, 0.001878388569797952)\n",
    "point2"
   ]
  },
  {
   "cell_type": "code",
   "execution_count": 114,
   "id": "6d6104ef",
   "metadata": {},
   "outputs": [
    {
     "name": "stdout",
     "output_type": "stream",
     "text": [
      "for point2, the standard deviation is 0.0146 and the expected return is 0.00188.\n"
     ]
    }
   ],
   "source": [
    "print (f'for point2, the standard deviation is {point2.x:.4f} and the expected return is {point2.y:.5f}.')"
   ]
  },
  {
   "cell_type": "code",
   "execution_count": 115,
   "id": "493221bf",
   "metadata": {},
   "outputs": [
    {
     "data": {
      "text/plain": [
       "Point(x=0.013625492748701545, y=0.0018002272944606212)"
      ]
     },
     "execution_count": 115,
     "metadata": {},
     "output_type": "execute_result"
    }
   ],
   "source": [
    "tan = Point(tangent[0], tangent[1])\n",
    "tan"
   ]
  },
  {
   "cell_type": "code",
   "execution_count": 116,
   "id": "3eaabeb7",
   "metadata": {},
   "outputs": [
    {
     "data": {
      "text/plain": [
       "[<matplotlib.lines.Line2D at 0x1984ad4a6d0>]"
      ]
     },
     "execution_count": 116,
     "metadata": {},
     "output_type": "execute_result"
    },
    {
     "data": {
      "image/png": "[encoded data removed]",
      "text/plain": [
       "<Figure size 432x288 with 1 Axes>"
      ]
     },
     "metadata": {
      "needs_background": "light"
     },
     "output_type": "display_data"
    }
   ],
   "source": [
    "fig = plt.figure()\n",
    "ax = fig.add_subplot(1, 1, 1)\n",
    "ax.plot(stds, exp_ret, color=next(tableau_iter))\n",
    "ax.set_xlabel('risk (std. dev)') \n",
    "ax.set_ylabel('exp. return')  \n",
    "plt.axvline(x=0, c=\"black\", label=\"x=0\")\n",
    "plt.axhline(y=0, c=\"black\", label=\"y=0\")\n",
    "for point in frontier[4:5]:\n",
    "    x = [r_f[0], point[0]]\n",
    "    y = [r_f[1], point[1]]\n",
    "    ax.plot(x, y, color=next(tableau_iter))\n",
    "\n",
    "# Mild adaptation from the previous\n",
    "x = [tan.x, tan.x]\n",
    "y = [0, tan.y]\n",
    "ax.plot(x, y, color=next(tableau_iter))\n",
    "\n",
    "# New way: define the return start and end points.\n",
    "ret_start = Point(0, tan.y)\n",
    "ret_end = tan\n",
    "x = [ret_start.x, ret_end.x]\n",
    "y = [ret_start.y, ret_end.y]\n",
    "ax.plot(x, y, color=next(tableau_iter))\n"
   ]
  },
  {
   "cell_type": "markdown",
   "id": "20e43242",
   "metadata": {},
   "source": [
    "# Namedtuples play nicely with dataframes\n",
    "\n",
    "## First, original code"
   ]
  },
  {
   "cell_type": "code",
   "execution_count": 123,
   "id": "e932baeb",
   "metadata": {},
   "outputs": [
    {
     "name": "stdout",
     "output_type": "stream",
     "text": [
      "AAPL weight: 0.10. WFC weight: 0.90. mean: 0.002113. S.D. 0.019227\n",
      "AAPL weight: 0.20. WFC weight: 0.80. mean: 0.002035. S.D. 0.017442\n",
      "AAPL weight: 0.30. WFC weight: 0.70. mean: 0.001957. S.D. 0.015866\n",
      "AAPL weight: 0.40. WFC weight: 0.60. mean: 0.001878. S.D. 0.014567\n",
      "AAPL weight: 0.50. WFC weight: 0.50. mean: 0.001800. S.D. 0.013625\n",
      "AAPL weight: 0.60. WFC weight: 0.40. mean: 0.001722. S.D. 0.013117\n",
      "AAPL weight: 0.70. WFC weight: 0.30. mean: 0.001644. S.D. 0.013093\n",
      "AAPL weight: 0.80. WFC weight: 0.20. mean: 0.001566. S.D. 0.013556\n",
      "AAPL weight: 0.90. WFC weight: 0.10. mean: 0.001488. S.D. 0.014459\n"
     ]
    }
   ],
   "source": [
    "first_idx = 0\n",
    "second_idx = 3\n",
    "stds = []\n",
    "exp_ret = []\n",
    "\n",
    "for first in range(10, 100, 10):\n",
    "    first_weight = first / 100.0\n",
    "    second_weight = 1.0 - first_weight\n",
    "    weights = np.array([0., 0., 0., 0., 0., 0., 0.])\n",
    "    weights[first_idx] = first_weight\n",
    "    weights[second_idx] = second_weight\n",
    "    port_std = portfolio_std(weights, cov_np)\n",
    "    port_mean = avg_rets(ret_df, weights)\n",
    "    print (f'{tickers[first_idx]} weight: {first_weight:.2f}. {tickers[second_idx]} weight: {second_weight:.2f}. mean: {port_mean:.6f}. S.D. {port_std:.6f}')\n",
    "    stds.append(port_std)\n",
    "    exp_ret.append(port_mean)"
   ]
  },
  {
   "cell_type": "code",
   "execution_count": 119,
   "id": "fbe87a35",
   "metadata": {},
   "outputs": [
    {
     "name": "stdout",
     "output_type": "stream",
     "text": [
      "AAPL weight: 0.10. WFC weight: 0.90. mean: 0.002113. S.D. 0.019227\n",
      "AAPL weight: 0.20. WFC weight: 0.80. mean: 0.002035. S.D. 0.017442\n",
      "AAPL weight: 0.30. WFC weight: 0.70. mean: 0.001957. S.D. 0.015866\n",
      "AAPL weight: 0.40. WFC weight: 0.60. mean: 0.001878. S.D. 0.014567\n",
      "AAPL weight: 0.50. WFC weight: 0.50. mean: 0.001800. S.D. 0.013625\n",
      "AAPL weight: 0.60. WFC weight: 0.40. mean: 0.001722. S.D. 0.013117\n",
      "AAPL weight: 0.70. WFC weight: 0.30. mean: 0.001644. S.D. 0.013093\n",
      "AAPL weight: 0.80. WFC weight: 0.20. mean: 0.001566. S.D. 0.013556\n",
      "AAPL weight: 0.90. WFC weight: 0.10. mean: 0.001488. S.D. 0.014459\n"
     ]
    }
   ],
   "source": [
    "FrontierPoint = namedtuple(\"FrontierPoint\", \"wt1 wt2 mean sd\")\n",
    "first_idx = 0\n",
    "second_idx = 3\n",
    "frontier_points = []\n",
    "\n",
    "for first in range(10, 100, 10):\n",
    "    first_weight = first / 100.0\n",
    "    second_weight = 1.0 - first_weight\n",
    "    weights = np.array([0., 0., 0., 0., 0., 0., 0.])\n",
    "    weights[first_idx] = first_weight\n",
    "    weights[second_idx] = second_weight\n",
    "    port_std = portfolio_std(weights, cov_np)\n",
    "    port_mean = avg_rets(ret_df, weights)\n",
    "    print (f'{tickers[first_idx]} weight: {first_weight:.2f}. {tickers[second_idx]} weight: {second_weight:.2f}. mean: {port_mean:.6f}. S.D. {port_std:.6f}')\n",
    "    frontier_point = FrontierPoint(wt1=first_weight, wt2=second_weight, mean=port_mean, sd=port_std)\n",
    "    frontier_points.append(frontier_point)"
   ]
  },
  {
   "cell_type": "code",
   "execution_count": 120,
   "id": "f2e43578",
   "metadata": {},
   "outputs": [
    {
     "data": {
      "text/plain": [
       "[FrontierPoint(wt1=0.1, wt2=0.9, mean=0.0021128740198254146, sd=0.01922668768038567),\n",
       " FrontierPoint(wt1=0.2, wt2=0.8, mean=0.0020347123384842165, sd=0.017441800310659884),\n",
       " FrontierPoint(wt1=0.3, wt2=0.7, mean=0.001956550657143018, sd=0.015866046975555048),\n",
       " FrontierPoint(wt1=0.4, wt2=0.6, mean=0.0018783889758018195, sd=0.014567452241893476),\n",
       " FrontierPoint(wt1=0.5, wt2=0.5, mean=0.0018002272944606212, sd=0.013625492748701545),\n",
       " FrontierPoint(wt1=0.6, wt2=0.4, mean=0.001722065613119423, sd=0.013117225701562542),\n",
       " FrontierPoint(wt1=0.7, wt2=0.30000000000000004, mean=0.0016439039317782246, sd=0.01309325540888479),\n",
       " FrontierPoint(wt1=0.8, wt2=0.19999999999999996, mean=0.001565742250437026, sd=0.013556151147526799),\n",
       " FrontierPoint(wt1=0.9, wt2=0.09999999999999998, mean=0.0014875805690958278, sd=0.01445922889723504)]"
      ]
     },
     "execution_count": 120,
     "metadata": {},
     "output_type": "execute_result"
    }
   ],
   "source": [
    "frontier_points"
   ]
  },
  {
   "cell_type": "code",
   "execution_count": 126,
   "id": "3ec40d6c",
   "metadata": {},
   "outputs": [
    {
     "data": {
      "text/html": [
       "<div>\n",
       "<style scoped>\n",
       "    .dataframe tbody tr th:only-of-type {\n",
       "        vertical-align: middle;\n",
       "    }\n",
       "\n",
       "    .dataframe tbody tr th {\n",
       "        vertical-align: top;\n",
       "    }\n",
       "\n",
       "    .dataframe thead th {\n",
       "        text-align: right;\n",
       "    }\n",
       "</style>\n",
       "<table border=\"1\" class=\"dataframe\">\n",
       "  <thead>\n",
       "    <tr style=\"text-align: right;\">\n",
       "      <th></th>\n",
       "      <th>wt1</th>\n",
       "      <th>wt2</th>\n",
       "      <th>mean</th>\n",
       "      <th>sd</th>\n",
       "    </tr>\n",
       "  </thead>\n",
       "  <tbody>\n",
       "    <tr>\n",
       "      <th>0</th>\n",
       "      <td>0.1</td>\n",
       "      <td>0.9</td>\n",
       "      <td>0.002113</td>\n",
       "      <td>0.019227</td>\n",
       "    </tr>\n",
       "    <tr>\n",
       "      <th>1</th>\n",
       "      <td>0.2</td>\n",
       "      <td>0.8</td>\n",
       "      <td>0.002035</td>\n",
       "      <td>0.017442</td>\n",
       "    </tr>\n",
       "    <tr>\n",
       "      <th>2</th>\n",
       "      <td>0.3</td>\n",
       "      <td>0.7</td>\n",
       "      <td>0.001957</td>\n",
       "      <td>0.015866</td>\n",
       "    </tr>\n",
       "    <tr>\n",
       "      <th>3</th>\n",
       "      <td>0.4</td>\n",
       "      <td>0.6</td>\n",
       "      <td>0.001878</td>\n",
       "      <td>0.014567</td>\n",
       "    </tr>\n",
       "    <tr>\n",
       "      <th>4</th>\n",
       "      <td>0.5</td>\n",
       "      <td>0.5</td>\n",
       "      <td>0.001800</td>\n",
       "      <td>0.013625</td>\n",
       "    </tr>\n",
       "    <tr>\n",
       "      <th>5</th>\n",
       "      <td>0.6</td>\n",
       "      <td>0.4</td>\n",
       "      <td>0.001722</td>\n",
       "      <td>0.013117</td>\n",
       "    </tr>\n",
       "    <tr>\n",
       "      <th>6</th>\n",
       "      <td>0.7</td>\n",
       "      <td>0.3</td>\n",
       "      <td>0.001644</td>\n",
       "      <td>0.013093</td>\n",
       "    </tr>\n",
       "    <tr>\n",
       "      <th>7</th>\n",
       "      <td>0.8</td>\n",
       "      <td>0.2</td>\n",
       "      <td>0.001566</td>\n",
       "      <td>0.013556</td>\n",
       "    </tr>\n",
       "    <tr>\n",
       "      <th>8</th>\n",
       "      <td>0.9</td>\n",
       "      <td>0.1</td>\n",
       "      <td>0.001488</td>\n",
       "      <td>0.014459</td>\n",
       "    </tr>\n",
       "  </tbody>\n",
       "</table>\n",
       "</div>"
      ],
      "text/plain": [
       "   wt1  wt2      mean        sd\n",
       "0  0.1  0.9  0.002113  0.019227\n",
       "1  0.2  0.8  0.002035  0.017442\n",
       "2  0.3  0.7  0.001957  0.015866\n",
       "3  0.4  0.6  0.001878  0.014567\n",
       "4  0.5  0.5  0.001800  0.013625\n",
       "5  0.6  0.4  0.001722  0.013117\n",
       "6  0.7  0.3  0.001644  0.013093\n",
       "7  0.8  0.2  0.001566  0.013556\n",
       "8  0.9  0.1  0.001488  0.014459"
      ]
     },
     "execution_count": 126,
     "metadata": {},
     "output_type": "execute_result"
    }
   ],
   "source": [
    "df1 = pd.DataFrame(frontier_points)\n",
    "df1"
   ]
  },
  {
   "cell_type": "code",
   "execution_count": null,
   "id": "b993cc91",
   "metadata": {},
   "outputs": [],
   "source": []
  }
 ],
 "metadata": {
  "kernelspec": {
   "display_name": "Python 3 (ipykernel)",
   "language": "python",
   "name": "python3"
  },
  "language_info": {
   "codemirror_mode": {
    "name": "ipython",
    "version": 3
   },
   "file_extension": ".py",
   "mimetype": "text/x-python",
   "name": "python",
   "nbconvert_exporter": "python",
   "pygments_lexer": "ipython3",
   "version": "3.9.7"
  }
 },
 "nbformat": 4,
 "nbformat_minor": 5
}
