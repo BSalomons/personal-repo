{
 "cells": [
  {
   "cell_type": "code",
   "execution_count": 105,
   "id": "9a29f986",
   "metadata": {},
   "outputs": [],
   "source": [
    "import pandas as pd\n",
    "\n",
    "smart = pd.read_csv('SRU-UN.TO.csv')\n",
    "cp = pd.read_csv('CP.TO.csv')\n",
    "royal = pd.read_csv('RY.TO.csv')\n",
    "\n"
   ]
  },
  {
   "cell_type": "code",
   "execution_count": 106,
   "id": "ce918188",
   "metadata": {},
   "outputs": [
    {
     "name": "stdout",
     "output_type": "stream",
     "text": [
      "Stat              Smart Centers           CP      Royal Bank\n",
      "One Year Highs:  $       32.50   $    100.00   $      149.60\n",
      "One Year Lows:   $       25.22   $     82.12   $      108.15\n",
      "One Year HAvg:   $       30.08   $     93.40   $      128.53\n",
      "One Year LAvg:   $       29.68   $     91.60   $      127.17\n"
     ]
    }
   ],
   "source": [
    "print('Stat            ', ' Smart Centers', '          CP', '     Royal Bank')\n",
    "print('One Year Highs: ', \"${:12.2f}\".format(max(smart.High)), \"  ${:10.2f}\".format(max(cp.High)), \"  ${:12.2f}\".format(max(royal.High)))\n",
    "print('One Year Lows:  ', \"${:12.2f}\".format(min(smart.Low)), \"  ${:10.2f}\".format(min(cp.Low)), \"  ${:12.2f}\".format(min(royal.Low)))\n",
    "print('One Year HAvg:  ', \"${:12.2f}\".format(mean(smart.High)), \"  ${:10.2f}\".format(mean(cp.High)), \"  ${:12.2f}\".format(mean(royal.High)))\n",
    "print('One Year LAvg:  ', \"${:12.2f}\".format(mean(smart.Low)), \"  ${:10.2f}\".format(mean(cp.Low)), \"  ${:12.2f}\".format(mean(royal.Low)))"
   ]
  },
  {
   "cell_type": "code",
   "execution_count": 107,
   "id": "71152a49",
   "metadata": {},
   "outputs": [
    {
     "name": "stdout",
     "output_type": "stream",
     "text": [
      "Smart Centres REIT's one year stock price high was $32.50\n",
      "Smart Centres REIT's one year stock price low was $25.22\n",
      "Smart Centres REIT's one year stock price average was $29.88\n",
      "CP Rail's one year stock price high was $100.00\n",
      "CP Rail's one year stock price low was $82.12\n",
      "CP Rail's one year stock price average was $92.50\n",
      "Royal Bank's one year stock price high was $149.60\n",
      "Royal Bank's one year stock price low was $108.15\n",
      "Royal Bank's one year stock price average was $127.85\n"
     ]
    }
   ],
   "source": [
    "def Stock_Prices(ticker, df):\n",
    "    high = max(df.High)\n",
    "    low = min(df.Low)\n",
    "    average = ( sum(df.High) + sum (df.Low)) / (len(df) * 2)\n",
    "    print(f'{ticker}\\'s one year stock price high was ${high:,.2f}')\n",
    "    print(f'{ticker}\\'s one year stock price low was ${low:,.2f}')\n",
    "    print(f'{ticker}\\'s one year stock price average was ${average:,.2f}')\n",
    "    \n",
    "Stock_Prices('Smart Centres REIT',smart)\n",
    "Stock_Prices('CP Rail',cp)\n",
    "Stock_Prices('Royal Bank',royal)"
   ]
  },
  {
   "cell_type": "code",
   "execution_count": null,
   "id": "d7d35264",
   "metadata": {},
   "outputs": [],
   "source": []
  }
 ],
 "metadata": {
  "kernelspec": {
   "display_name": "Python 3 (ipykernel)",
   "language": "python",
   "name": "python3"
  },
  "language_info": {
   "codemirror_mode": {
    "name": "ipython",
    "version": 3
   },
   "file_extension": ".py",
   "mimetype": "text/x-python",
   "name": "python",
   "nbconvert_exporter": "python",
   "pygments_lexer": "ipython3",
   "version": "3.10.2"
  }
 },
 "nbformat": 4,
 "nbformat_minor": 5
}
