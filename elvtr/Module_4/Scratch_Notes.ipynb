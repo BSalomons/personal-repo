{
 "cells": [
  {
   "cell_type": "code",
   "execution_count": 1,
   "id": "87196707",
   "metadata": {},
   "outputs": [
    {
     "name": "stdout",
     "output_type": "stream",
     "text": [
      "Enter a Date (YYYY-MM-DD): 2022-02-02\n",
      "[2022, 2, 2]\n"
     ]
    }
   ],
   "source": [
    "date = map(int, input(\"Enter a Date (YYYY-MM-DD): \").split('-'))\n",
    "print(list(date))\n"
   ]
  },
  {
   "cell_type": "code",
   "execution_count": null,
   "id": "e5be4530",
   "metadata": {},
   "outputs": [],
   "source": [
    "import pandas as pd\n",
    "import numpy as np\n",
    "from tiingo import TiingoClient\n",
    "import datetime\n",
    "\n",
    "_MY_SECRET_API_KEY = 'b6cb5b39baf0ee9f3f376a13d7c7707e0c0160b8'\n",
    "config = {}\n",
    "config['session'] = True\n",
    "config['api_key'] = _MY_SECRET_API_KEY\n",
    "client = TiingoClient(config)\n",
    "\n",
    "class Ticker():\n",
    "    def __init__(self):\n",
    "        ticker = [str(x) for x in input('Enter Stock Tickers Separated by a Space: ').upper().split()]\n",
    "        while True:\n",
    "            try:\n",
    "                start_date = datetime.datetime.strptime(input('Enter a start date (YYYY-MM-DD): '), '%Y-%m-%d')\n",
    "                while True:\n",
    "                    try:\n",
    "                        self.end_date = datetime.datetime.strptime(input('Enter a end date (YYYY-MM-DD): '), '%Y-%m-%d')\n",
    "                        if end_date <= start_date:\n",
    "                            print('End Date must be later than Start Date')\n",
    "                            continue           \n",
    "                    except ValueError:\n",
    "                        print('Wrong format')\n",
    "                        continue\n",
    "                    else:\n",
    "                        break\n",
    "            except ValueError:\n",
    "                print('Wrong format')\n",
    "                continue\n",
    "            else:\n",
    "                break\n",
    "        \n",
    "        for stock in ticker:\n",
    "            chart_data = client.get_ticker_price(stock, fmt='csv', startDate=start_date, endDate=end_date, frequency='daily')\n",
    "            filename = f'{stock}.csv'\n",
    "            with open(filename, 'w') as outfile:\n",
    "                outfile.write(chart_data)\n",
    "        \n",
    "        \n",
    "class Stock(Ticker):\n",
    "    def __init__(self, ticker: str):\n",
    "        self._ticker = ticker\n",
    "        fn = f'{ticker}.csv'\n",
    "        print(f'\\ntrying to read from {fn}')\n",
    "        self._df = None\n",
    "    \n",
    "    @property\n",
    "    def ticker(self) -> str:\n",
    "        return self._ticker\n",
    "       \n",
    "    def read_from_csv(self, filename: str = None):\n",
    "        self._df = pd.read_csv(filename)\n",
    "        \n",
    "    def stock_rows(self) -> int:\n",
    "        return len(self._df)\n",
    "    \n",
    "    def closes(self) -> pd.Series:\n",
    "        return self._df['adjClose']\n",
    "        \n",
    "    def max_close(self) -> float:\n",
    "        return self.closes().max()\n",
    "        \n",
    "    def max_close_np(self) -> float:\n",
    "        return np.max(self.closes())\n",
    "\n",
    "\n",
    "stock = Stock(x)\n"
   ]
  },
  {
   "cell_type": "code",
   "execution_count": null,
   "id": "62f89e3c",
   "metadata": {},
   "outputs": [],
   "source": [
    "import datetime\n",
    "\n",
    "NOW = datetime.datetime.now()\n",
    "\n",
    "while True:\n",
    "    try:\n",
    "        start_date = datetime.datetime.strptime(input('Enter a start date (YYYY-MM-DD): '), '%Y-%m-%d')\n",
    "        if start_date >= NOW:\n",
    "            print('Date cannot be in the future')\n",
    "            continue            \n",
    "        while True:\n",
    "            try:\n",
    "                end_date = datetime.datetime.strptime(input('Enter a end date (YYYY-MM-DD): '), '%Y-%m-%d')\n",
    "                if end_date <= start_date:\n",
    "                    print('End Date must be later than Start Date')\n",
    "                    continue\n",
    "                elif end_date >= NOW:\n",
    "                    print('Date cannot be in the future')\n",
    "                    continue\n",
    "            except ValueError:\n",
    "                print('Wrong format')\n",
    "                continue\n",
    "            else:\n",
    "                break\n",
    "    except ValueError:\n",
    "        print('Wrong format')\n",
    "        continue\n",
    "    else:\n",
    "        break"
   ]
  },
  {
   "cell_type": "code",
   "execution_count": null,
   "id": "8678083d",
   "metadata": {},
   "outputs": [],
   "source": []
  }
 ],
 "metadata": {
  "kernelspec": {
   "display_name": "Python 3 (ipykernel)",
   "language": "python",
   "name": "python3"
  },
  "language_info": {
   "codemirror_mode": {
    "name": "ipython",
    "version": 3
   },
   "file_extension": ".py",
   "mimetype": "text/x-python",
   "name": "python",
   "nbconvert_exporter": "python",
   "pygments_lexer": "ipython3",
   "version": "3.10.2"
  }
 },
 "nbformat": 4,
 "nbformat_minor": 5
}
