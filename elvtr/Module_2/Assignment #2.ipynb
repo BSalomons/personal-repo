{
 "cells": [
  {
   "cell_type": "code",
   "execution_count": 58,
   "id": "eb2e9f3c",
   "metadata": {},
   "outputs": [
    {
     "name": "stdout",
     "output_type": "stream",
     "text": [
      "Spring Equinox this year is: 2022-03-29 09:33:00\n",
      "Spring is coming in 37 days\n"
     ]
    }
   ],
   "source": [
    "import datetime\n",
    "\n",
    "spring_equinox = datetime.datetime(2022,3,29,9,33)\n",
    "current_date = datetime.datetime.now()\n",
    "\n",
    "print('Spring Equinox this year is:', spring_equinox)\n",
    "\n",
    "spring = current_date < spring_equinox\n",
    "days_to_spring = spring_equinox - current_date\n",
    "\n",
    "if spring == True:\n",
    "    print('Spring is coming in', days_to_spring.days, 'days')\n",
    "else:\n",
    "    print('Spring has sprung', abs(days_to_spring.days), 'days ago')\n"
   ]
  },
  {
   "cell_type": "code",
   "execution_count": 6,
   "id": "8b8496e3",
   "metadata": {
    "scrolled": true
   },
   "outputs": [
    {
     "name": "stdout",
     "output_type": "stream",
     "text": [
      "Face Value:1000\n",
      "Coupon Payment:30\n",
      "Coupon Paid How Many Times a Year:2\n",
      "Years to Maturity:10\n",
      "Market Rate:4\n",
      "Price of the bond based on the above numbers is: $1,162.22\n"
     ]
    }
   ],
   "source": [
    "def Bond_Calculator():\n",
    "    face_value = int(input('Face Value:'))\n",
    "    coupon = int(input('Coupon Payment:'))\n",
    "    coupon_frequency = int(input('Coupon Paid How Many Times a Year:'))\n",
    "    ytm = int(input('Years to Maturity:'))\n",
    "    interest_rate = int(input('Market Rate:')) / 100\n",
    "    bond_price = 0\n",
    "    \n",
    "    for i in range(1,ytm+1):\n",
    "        bond_price = bond_price + ((coupon * coupon_frequency) / pow((1 + interest_rate), i))\n",
    "        \n",
    "    bond_price = \"${:,.2f}\".format(bond_price + (face_value / pow((1 + interest_rate), ytm)))\n",
    "        \n",
    "    print('Price of the bond based on the above numbers is:', bond_price)\n",
    "    \n",
    "Bond_Calculator()"
   ]
  },
  {
   "cell_type": "code",
   "execution_count": null,
   "id": "e8c306f9",
   "metadata": {},
   "outputs": [],
   "source": []
  }
 ],
 "metadata": {
  "kernelspec": {
   "display_name": "Python 3 (ipykernel)",
   "language": "python",
   "name": "python3"
  },
  "language_info": {
   "codemirror_mode": {
    "name": "ipython",
    "version": 3
   },
   "file_extension": ".py",
   "mimetype": "text/x-python",
   "name": "python",
   "nbconvert_exporter": "python",
   "pygments_lexer": "ipython3",
   "version": "3.10.2"
  }
 },
 "nbformat": 4,
 "nbformat_minor": 5
}
