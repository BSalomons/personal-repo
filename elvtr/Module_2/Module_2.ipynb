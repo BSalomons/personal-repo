{
 "cells": [
  {
   "cell_type": "markdown",
   "id": "919ebf1c",
   "metadata": {},
   "source": [
    "# Libraries"
   ]
  },
  {
   "cell_type": "markdown",
   "id": "e39201f1",
   "metadata": {},
   "source": [
    "## What happens if we don't import"
   ]
  },
  {
   "cell_type": "code",
   "execution_count": 1,
   "id": "af3d87d8",
   "metadata": {},
   "outputs": [
    {
     "ename": "NameError",
     "evalue": "name 'datetime' is not defined",
     "output_type": "error",
     "traceback": [
      "\u001b[1;31m---------------------------------------------------------------------------\u001b[0m",
      "\u001b[1;31mNameError\u001b[0m                                 Traceback (most recent call last)",
      "\u001b[1;32m~\\AppData\\Local\\Temp/ipykernel_26500/4251911717.py\u001b[0m in \u001b[0;36m<module>\u001b[1;34m\u001b[0m\n\u001b[0;32m      1\u001b[0m \u001b[1;31m# if you don't have the import, yet\u001b[0m\u001b[1;33m\u001b[0m\u001b[1;33m\u001b[0m\u001b[0m\n\u001b[1;32m----> 2\u001b[1;33m \u001b[0mmoment\u001b[0m \u001b[1;33m=\u001b[0m \u001b[0mdatetime\u001b[0m\u001b[1;33m.\u001b[0m\u001b[0mnow\u001b[0m\u001b[1;33m(\u001b[0m\u001b[1;33m)\u001b[0m\u001b[1;33m\u001b[0m\u001b[1;33m\u001b[0m\u001b[0m\n\u001b[0m\u001b[0;32m      3\u001b[0m \u001b[0mprint\u001b[0m\u001b[1;33m(\u001b[0m\u001b[1;34mf'This was run at {moment}'\u001b[0m\u001b[1;33m)\u001b[0m\u001b[1;33m\u001b[0m\u001b[1;33m\u001b[0m\u001b[0m\n",
      "\u001b[1;31mNameError\u001b[0m: name 'datetime' is not defined"
     ]
    }
   ],
   "source": [
    "# if you don't have the import, you'll get a NameError\n",
    "moment = datetime.now()\n",
    "print(f'This was run at {moment}')"
   ]
  },
  {
   "cell_type": "code",
   "execution_count": 3,
   "id": "51473ef8",
   "metadata": {},
   "outputs": [
    {
     "data": {
      "text/plain": [
       "datetime.datetime(2021, 12, 27, 10, 49, 46, 710752)"
      ]
     },
     "execution_count": 3,
     "metadata": {},
     "output_type": "execute_result"
    }
   ],
   "source": [
    "from datetime import datetime\n",
    "datetime.now()"
   ]
  },
  {
   "cell_type": "code",
   "execution_count": 9,
   "id": "e59e8375",
   "metadata": {},
   "outputs": [
    {
     "ename": "NameError",
     "evalue": "name 'factorial' is not defined",
     "output_type": "error",
     "traceback": [
      "\u001b[1;31m---------------------------------------------------------------------------\u001b[0m",
      "\u001b[1;31mNameError\u001b[0m                                 Traceback (most recent call last)",
      "\u001b[1;32m~\\AppData\\Local\\Temp/ipykernel_26500/1324958654.py\u001b[0m in \u001b[0;36m<module>\u001b[1;34m\u001b[0m\n\u001b[0;32m      1\u001b[0m \u001b[0mx\u001b[0m \u001b[1;33m=\u001b[0m \u001b[1;36m1000.0\u001b[0m\u001b[1;33m\u001b[0m\u001b[1;33m\u001b[0m\u001b[0m\n\u001b[0;32m      2\u001b[0m \u001b[0mn\u001b[0m \u001b[1;33m=\u001b[0m \u001b[1;36m4\u001b[0m\u001b[1;33m\u001b[0m\u001b[1;33m\u001b[0m\u001b[0m\n\u001b[1;32m----> 3\u001b[1;33m \u001b[0mfactorial\u001b[0m\u001b[1;33m(\u001b[0m\u001b[0mn\u001b[0m\u001b[1;33m)\u001b[0m\u001b[1;33m\u001b[0m\u001b[1;33m\u001b[0m\u001b[0m\n\u001b[0m\u001b[0;32m      4\u001b[0m \u001b[0msqrt\u001b[0m\u001b[1;33m(\u001b[0m\u001b[0mx\u001b[0m\u001b[1;33m)\u001b[0m\u001b[1;33m\u001b[0m\u001b[1;33m\u001b[0m\u001b[0m\n",
      "\u001b[1;31mNameError\u001b[0m: name 'factorial' is not defined"
     ]
    }
   ],
   "source": [
    "x = 1000.0\n",
    "n = 4\n",
    "factorial(n)\n",
    "sqrt(x)"
   ]
  },
  {
   "cell_type": "code",
   "execution_count": 10,
   "id": "52766be8",
   "metadata": {},
   "outputs": [
    {
     "name": "stdout",
     "output_type": "stream",
     "text": [
      "The square root of 1000.0 is 31.622776601683793\n",
      "4! is 24\n"
     ]
    }
   ],
   "source": [
    "from math import sqrt, factorial\n",
    "\n",
    "print(f'The square root of {x} is {sqrt(x)}')\n",
    "print(f'{n}! is {factorial(n)}')\n"
   ]
  },
  {
   "cell_type": "markdown",
   "id": "13e7f5f9",
   "metadata": {},
   "source": [
    "Switch over to PyCharm for a comparison!"
   ]
  },
  {
   "cell_type": "markdown",
   "id": "90ffddbd",
   "metadata": {},
   "source": [
    "## Basic form\n",
    "import xyz"
   ]
  },
  {
   "cell_type": "code",
   "execution_count": 12,
   "id": "33773dbd",
   "metadata": {},
   "outputs": [],
   "source": [
    "import sys # Loads all of sys!"
   ]
  },
  {
   "cell_type": "code",
   "execution_count": 14,
   "id": "6b7d5078",
   "metadata": {},
   "outputs": [
    {
     "name": "stdout",
     "output_type": "stream",
     "text": [
      "Your Python version: 3.9.7 (default, Sep 16 2021, 16:59:28) [MSC v.1916 64 bit (AMD64)]\n"
     ]
    }
   ],
   "source": [
    "print ('Your Python version: ' + sys.version)"
   ]
  },
  {
   "cell_type": "code",
   "execution_count": 15,
   "id": "81ce4895",
   "metadata": {},
   "outputs": [
    {
     "data": {
      "text/plain": [
       "['C:\\\\Users\\\\rajah\\\\OneDrive\\\\Documents\\\\Learning and Teaching\\\\ELVTR\\\\Module 2',\n",
       " 'C:\\\\Users\\\\rajah\\\\anaconda3\\\\python39.zip',\n",
       " 'C:\\\\Users\\\\rajah\\\\anaconda3\\\\DLLs',\n",
       " 'C:\\\\Users\\\\rajah\\\\anaconda3\\\\lib',\n",
       " 'C:\\\\Users\\\\rajah\\\\anaconda3',\n",
       " '',\n",
       " 'C:\\\\Users\\\\rajah\\\\anaconda3\\\\lib\\\\site-packages',\n",
       " 'C:\\\\Users\\\\rajah\\\\anaconda3\\\\lib\\\\site-packages\\\\locket-0.2.1-py3.9.egg',\n",
       " 'C:\\\\Users\\\\rajah\\\\anaconda3\\\\lib\\\\site-packages\\\\win32',\n",
       " 'C:\\\\Users\\\\rajah\\\\anaconda3\\\\lib\\\\site-packages\\\\win32\\\\lib',\n",
       " 'C:\\\\Users\\\\rajah\\\\anaconda3\\\\lib\\\\site-packages\\\\Pythonwin',\n",
       " 'C:\\\\Users\\\\rajah\\\\anaconda3\\\\lib\\\\site-packages\\\\IPython\\\\extensions',\n",
       " 'C:\\\\Users\\\\rajah\\\\.ipython']"
      ]
     },
     "execution_count": 15,
     "metadata": {},
     "output_type": "execute_result"
    }
   ],
   "source": [
    "# Don't need to import sys again to get path.\n",
    "sys.path"
   ]
  },
  {
   "cell_type": "markdown",
   "id": "63b4e23f",
   "metadata": {},
   "source": [
    "## Importing namespace packages\n",
    "\"A namespace package is a composite of various portions, where each portion contributes a subpackage to the parent package.\"\n",
    "\n",
    "from pkgutil import portion1, portion2"
   ]
  },
  {
   "cell_type": "code",
   "execution_count": 16,
   "id": "d02a325c",
   "metadata": {},
   "outputs": [],
   "source": [
    "from datetime import datetime, time, date"
   ]
  },
  {
   "cell_type": "code",
   "execution_count": 21,
   "id": "d40fe18d",
   "metadata": {},
   "outputs": [
    {
     "data": {
      "text/plain": [
       "datetime.datetime(2021, 12, 27, 11, 57, 43, 669544)"
      ]
     },
     "execution_count": 21,
     "metadata": {},
     "output_type": "execute_result"
    }
   ],
   "source": [
    "right_now = datetime.now()\n",
    "right_now"
   ]
  },
  {
   "cell_type": "code",
   "execution_count": 22,
   "id": "360fc940",
   "metadata": {},
   "outputs": [
    {
     "data": {
      "text/plain": [
       "datetime.time(23, 59)"
      ]
     },
     "execution_count": 22,
     "metadata": {},
     "output_type": "execute_result"
    }
   ],
   "source": [
    "last_minute = time(hour=23, minute=59)\n",
    "last_minute"
   ]
  },
  {
   "cell_type": "markdown",
   "id": "c6eaa775",
   "metadata": {},
   "source": [
    "# Python basic syntax\n",
    "\n",
    "Reference: https://www.python.org/dev/peps/pep-0008/ (written by BDFL)"
   ]
  },
  {
   "cell_type": "markdown",
   "id": "4b2deb25",
   "metadata": {},
   "source": [
    "## Assignment statements\n",
    "Uses the = sign\n",
    "### What does assignment mean?"
   ]
  },
  {
   "cell_type": "code",
   "execution_count": 24,
   "id": "44c71cc2",
   "metadata": {},
   "outputs": [
    {
     "data": {
      "text/plain": [
       "10"
      ]
     },
     "execution_count": 24,
     "metadata": {},
     "output_type": "execute_result"
    }
   ],
   "source": [
    "i = 10 # assign 10 to i\n",
    "i"
   ]
  },
  {
   "cell_type": "code",
   "execution_count": 25,
   "id": "13308871",
   "metadata": {},
   "outputs": [
    {
     "data": {
      "text/plain": [
       "False"
      ]
     },
     "execution_count": 25,
     "metadata": {},
     "output_type": "execute_result"
    }
   ],
   "source": [
    "# Remember, equality is tested with ==\n",
    "i == 11"
   ]
  },
  {
   "cell_type": "code",
   "execution_count": 26,
   "id": "0357f106",
   "metadata": {},
   "outputs": [
    {
     "data": {
      "text/plain": [
       "11"
      ]
     },
     "execution_count": 26,
     "metadata": {},
     "output_type": "execute_result"
    }
   ],
   "source": [
    "# Some statements in Python never happen in mathematics\n",
    "i = i + 1\n",
    "i"
   ]
  },
  {
   "cell_type": "code",
   "execution_count": 27,
   "id": "b43ff8a0",
   "metadata": {},
   "outputs": [
    {
     "data": {
      "text/plain": [
       "True"
      ]
     },
     "execution_count": 27,
     "metadata": {},
     "output_type": "execute_result"
    }
   ],
   "source": [
    "i == 11"
   ]
  },
  {
   "cell_type": "markdown",
   "id": "0833cfa5",
   "metadata": {},
   "source": [
    "## Multiple assignments"
   ]
  },
  {
   "cell_type": "code",
   "execution_count": 29,
   "id": "29b1c709",
   "metadata": {},
   "outputs": [
    {
     "data": {
      "text/plain": [
       "3.14"
      ]
     },
     "execution_count": 29,
     "metadata": {},
     "output_type": "execute_result"
    }
   ],
   "source": [
    "x, name, answer = 3.14, 'Bill', 42\n",
    "x"
   ]
  },
  {
   "cell_type": "markdown",
   "id": "ec906509",
   "metadata": {},
   "source": [
    "### Tuples"
   ]
  },
  {
   "cell_type": "code",
   "execution_count": 23,
   "id": "4d2c8241",
   "metadata": {},
   "outputs": [
    {
     "name": "stdout",
     "output_type": "stream",
     "text": [
      "The point is at x=-14.4, y=3.6\n"
     ]
    }
   ],
   "source": [
    "pt2 = (-14.4, 3.6)\n",
    "x, y = pt2\n",
    "print(f'The point is at x={x}, y={y}')"
   ]
  },
  {
   "cell_type": "markdown",
   "id": "9ce32f2c",
   "metadata": {},
   "source": [
    "## Creating variables\n",
    "Major points from https://www.python.org/dev/peps/pep-0008/#prescriptive-naming-conventions\n",
    "\n",
    "- Don't use l (\"el\"), O (\"Oh\"), or I (\"Eye\")l\n",
    "- Function names should be lowercase, with words separated by underscores as necessary to improve readability.\n",
    "- Variable names follow the same convention as function names.\n",
    "- mixedCase is allowed only in contexts where that's already the prevailing style\n",
    "\n",
    "Don't use a keyword (which you'll see colored differently).\n",
    "\n"
   ]
  },
  {
   "cell_type": "markdown",
   "id": "3274b490",
   "metadata": {},
   "source": [
    "# Conditionals and indenting a block\n",
    "\n",
    "## If conditional\n",
    "\n",
    "```python\n",
    "if condition:\n",
    "   statement_a\n",
    "   statement_b\n",
    "statement_z\n",
    "```\n",
    "\n",
    "If the (boolean) condition evaluates to True, execute statements a and b.\n",
    "Execute statement z.\n",
    "\n",
    "## Indent one tab for each level in\n",
    "Your IDE will usually take care of this. You may need to backspace to go back a level."
   ]
  },
  {
   "cell_type": "code",
   "execution_count": 30,
   "id": "68bf51b3",
   "metadata": {},
   "outputs": [
    {
     "name": "stdout",
     "output_type": "stream",
     "text": [
      "What do you get when multiply 6 times 8?48\n"
     ]
    },
    {
     "data": {
      "text/plain": [
       "48"
      ]
     },
     "execution_count": 30,
     "metadata": {},
     "output_type": "execute_result"
    }
   ],
   "source": [
    "your_answer = int(input('What do you get when multiply 6 times 8?'))\n",
    "print('You responded: {your_answer}')"
   ]
  },
  {
   "cell_type": "code",
   "execution_count": 32,
   "id": "2e5fbd7d",
   "metadata": {},
   "outputs": [
    {
     "name": "stdout",
     "output_type": "stream",
     "text": [
      "Starting...\n",
      "Correct.\n",
      "Done.\n"
     ]
    }
   ],
   "source": [
    "print('Starting...')\n",
    "if your_answer == 48:\n",
    "    print('Correct.')\n",
    "print('Done.')"
   ]
  },
  {
   "cell_type": "markdown",
   "id": "0320105d",
   "metadata": {},
   "source": [
    "## If-else conditional\n",
    "\n",
    "```python\n",
    "if condition:\n",
    "    # Executes this block if\n",
    "    # condition is true\n",
    "else:\n",
    "    # Executes this block if\n",
    "    # condition is false\n",
    "```"
   ]
  },
  {
   "cell_type": "code",
   "execution_count": 34,
   "id": "80034f00",
   "metadata": {},
   "outputs": [
    {
     "name": "stdout",
     "output_type": "stream",
     "text": [
      "Your answer of 48 is correct\n"
     ]
    }
   ],
   "source": [
    "if your_answer == 48:\n",
    "    results = \"correct\"\n",
    "else:\n",
    "    results = \"incorrect\"\n",
    "print(f'Your answer of {your_answer} is {results}.')"
   ]
  },
  {
   "cell_type": "markdown",
   "id": "5d26b0e4",
   "metadata": {},
   "source": [
    "## If-elif-else conditional\n",
    "\n",
    "```python\n",
    "if condition1:\n",
    "    statement_a\n",
    "elif condition2:\n",
    "    statement_b\n",
    ".\n",
    ".\n",
    "else:\n",
    "    statement_z\n",
    "```\n",
    "\n",
    "Execute statement_a block if condition1 is True. Execute statement_b block if condition2 is True. \n",
    "If nothing matches, execute the final, statement_z block."
   ]
  },
  {
   "cell_type": "code",
   "execution_count": 35,
   "id": "54482ede",
   "metadata": {},
   "outputs": [
    {
     "name": "stdout",
     "output_type": "stream",
     "text": [
      "What do you get when multiply 6 times 8?42\n",
      "Hello, Arthur Dent.\n",
      "Your answer of 42 is Correct according to Hitchhiker's Guide to the Galaxy.\n"
     ]
    }
   ],
   "source": [
    "hhgttg_ans = 42\n",
    "your_answer = int(input('What do you get when multiply 6 times 8?'))\n",
    "if your_answer == 48:\n",
    "    results = \"correct\"\n",
    "elif your_answer == hhgttg_ans:\n",
    "    print('Hello, Arthur Dent.')\n",
    "    results = \"Correct according to Hitchhiker's Guide to the Galaxy\"\n",
    "else:\n",
    "    results = \"incorrect\"\n",
    "print(f'Your answer of {your_answer} is {results}.')"
   ]
  },
  {
   "cell_type": "markdown",
   "id": "171eb906",
   "metadata": {},
   "source": [
    "## Multiply nested if statements\n",
    "\n",
    "```python\n",
    "if condition1:\n",
    "    statement_a\n",
    "    if condition2:\n",
    "        statement_b\n",
    "    else:\n",
    "        statement_c\n",
    "else:\n",
    "    # Executes this block if\n",
    "    # condition is false\n",
    "    statement_z\n",
    "```\n",
    "\n",
    "You may place an if within another if block, as it's just another Python statement. \n",
    "\n",
    "Puzzle this out: When will statement_c get executed?"
   ]
  },
  {
   "cell_type": "markdown",
   "id": "d9d24e70",
   "metadata": {},
   "source": [
    "## These two are not often used, but you should recognize them.\n",
    "### Short hand\n",
    "\n",
    "statement_a if condition else statement_b\n",
    "\n",
    "### Ternary\n",
    "\n",
    "var = a if condition else b.\n"
   ]
  },
  {
   "cell_type": "code",
   "execution_count": 44,
   "id": "46fa22c8",
   "metadata": {},
   "outputs": [
    {
     "name": "stdout",
     "output_type": "stream",
     "text": [
      "Short password\n"
     ]
    }
   ],
   "source": [
    "password = 'xyzzy'\n",
    "print('Short password') if len(password) < 8 else print('Password length OK')"
   ]
  },
  {
   "cell_type": "code",
   "execution_count": 36,
   "id": "c968785f",
   "metadata": {},
   "outputs": [
    {
     "name": "stdout",
     "output_type": "stream",
     "text": [
      "The lesser of 10 and 20 is 10.\n"
     ]
    }
   ],
   "source": [
    "a, b = 10, 20\n",
    " \n",
    "# Copy value of a in min if a < b else copy b\n",
    "lesser = a if a < b else b\n",
    " \n",
    "print(f'The lesser of {a} and {b} is {lesser}.')"
   ]
  },
  {
   "cell_type": "code",
   "execution_count": 39,
   "id": "f8cbf3f1",
   "metadata": {},
   "outputs": [
    {
     "name": "stdout",
     "output_type": "stream",
     "text": [
      "Using a name of no name\n"
     ]
    }
   ],
   "source": [
    "default = \"no name\"\n",
    "name = ''\n",
    "\n",
    "x = name if len(name) > 0 else default\n",
    "\n",
    "print(f'Using a name of {x}')"
   ]
  },
  {
   "cell_type": "markdown",
   "id": "d9c467ef",
   "metadata": {},
   "source": [
    "# For loops\n",
    "\n",
    "But first, a word about range(), which generates a range of numbers\n",
    "\n",
    "range(6) # provides numbers from 0 to 5\n",
    "range(100, 105) # provides 100 to 104\n",
    "range(3, 20, 2) # provides odd numbers from 3 to 19\n",
    "range(10, 0, -1) # provides a countdown. Guess: is zero in the list? "
   ]
  },
  {
   "cell_type": "code",
   "execution_count": 62,
   "id": "385c3c09",
   "metadata": {},
   "outputs": [
    {
     "data": {
      "text/plain": [
       "False"
      ]
     },
     "execution_count": 62,
     "metadata": {},
     "output_type": "execute_result"
    }
   ],
   "source": [
    "range(6) # range(0, 6)\n",
    "x = list(range(6)) # [0, 1, 2, 3, 4, 5]\n",
    "y = list(range(100, 105)) # [100, 101, 102, 103, 104]\n",
    "z = list(range(3, 20, 2)) # [3, 5, 7, 9, 11, 13, 15, 17, 19]\n",
    "countdown = list(range(10, 0, -1)) # [10, 9, 8, 7, 6, 5, 4, 3, 2, 1]\n",
    "0 in countdown"
   ]
  },
  {
   "cell_type": "markdown",
   "id": "916a7b83",
   "metadata": {},
   "source": [
    "## For loops with a range"
   ]
  },
  {
   "cell_type": "code",
   "execution_count": 55,
   "id": "47b02fa4",
   "metadata": {},
   "outputs": [
    {
     "name": "stdout",
     "output_type": "stream",
     "text": [
      "0\t1\t2\t3\t4\t5\t"
     ]
    }
   ],
   "source": [
    "for i in range(6):\n",
    "    print(i, end='\\t') # Can end with a tab instead of a new line"
   ]
  },
  {
   "cell_type": "markdown",
   "id": "aedb2b3b",
   "metadata": {},
   "source": [
    "## For loops over an iterable\n",
    "\n",
    "Lists and dictionaries are examples of iterables. "
   ]
  },
  {
   "cell_type": "code",
   "execution_count": 56,
   "id": "f6af25c7",
   "metadata": {},
   "outputs": [
    {
     "name": "stdout",
     "output_type": "stream",
     "text": [
      "3.14 Bill 42 "
     ]
    }
   ],
   "source": [
    "lst1 = [3.14, 'Bill', 42]\n",
    "for el in lst1:\n",
    "    print(el, end = ' ')"
   ]
  },
  {
   "cell_type": "code",
   "execution_count": 58,
   "id": "80340dfe",
   "metadata": {},
   "outputs": [
    {
     "name": "stdout",
     "output_type": "stream",
     "text": [
      "element 0: 3.14\n",
      "element 1: Bill\n",
      "element 2: 42\n"
     ]
    }
   ],
   "source": [
    "# Not the preferred way to do this...\n",
    "for i in range(len(lst1)): # since len(lst1) is 3, i will be 0, 1, and 2.\n",
    "    print(f'element {i}: {lst1[i]}')"
   ]
  },
  {
   "cell_type": "code",
   "execution_count": 59,
   "id": "adf435f7",
   "metadata": {},
   "outputs": [
    {
     "name": "stdout",
     "output_type": "stream",
     "text": [
      "element 0: 3.14\n",
      "element 1: Bill\n",
      "element 2: 42\n"
     ]
    }
   ],
   "source": [
    "# enumerate gives you a tuple of a counter and the element\n",
    "for i, el in enumerate(lst1):\n",
    "    print(f'element {i}: {el}')"
   ]
  },
  {
   "cell_type": "markdown",
   "id": "d3b939f1",
   "metadata": {},
   "source": [
    "## break and continue alter the flow\n",
    "\n",
    "You break out of a loop to the next outer block.\n",
    "\n",
    "You continue in the same loop but skip the rest of the block. "
   ]
  },
  {
   "cell_type": "code",
   "execution_count": 84,
   "id": "5fceb0ef",
   "metadata": {},
   "outputs": [
    {
     "name": "stdout",
     "output_type": "stream",
     "text": [
      "5  --   ++  15  --   ++  25  --  Done.\n",
      "5  --   ++  15  --   ++  25  --   ++  35  --   ++  45  --   ++  55  --  65  --  75  --  85  --  95  --  Done.\n"
     ]
    }
   ],
   "source": [
    "lst2 = list(range(5, 101, 10))\n",
    "for el in lst2:\n",
    "    print(el, end=' ')\n",
    "    print(' -- ', end=' ')\n",
    "    if el > 20:\n",
    "        break\n",
    "    print(' ++ ', end=' ')\n",
    "print('Done.')\n",
    "\n",
    "for el in lst2:\n",
    "    print(el, end=' ')\n",
    "    print(' -- ', end=' ')\n",
    "    if el > 50:\n",
    "        continue\n",
    "    print(' ++ ', end=' ')\n",
    "print('Done.')"
   ]
  },
  {
   "cell_type": "markdown",
   "id": "e6ccb0a4",
   "metadata": {},
   "source": [
    "## Dictionaries\n",
    "\n",
    "The dictionary has keys(), values(), and items() to iterate over."
   ]
  },
  {
   "cell_type": "code",
   "execution_count": 63,
   "id": "b592ddaf",
   "metadata": {},
   "outputs": [],
   "source": [
    "d1 = {'USD': 1.00, 'BTC': 51013.93, 'EUR': 1.131735}"
   ]
  },
  {
   "cell_type": "code",
   "execution_count": 66,
   "id": "453e63bf",
   "metadata": {},
   "outputs": [
    {
     "name": "stdout",
     "output_type": "stream",
     "text": [
      "USD\n",
      "BTC\n",
      "EUR\n"
     ]
    }
   ],
   "source": [
    "d1.keys() # dict_keys(['USD', 'BTC', 'EUR'])\n",
    "for k in d1.keys():\n",
    "    print(k)"
   ]
  },
  {
   "cell_type": "code",
   "execution_count": 69,
   "id": "2d072d4c",
   "metadata": {},
   "outputs": [
    {
     "name": "stdout",
     "output_type": "stream",
     "text": [
      "1.0\n",
      "51013.93\n",
      "1.131735\n"
     ]
    }
   ],
   "source": [
    "d1.values() # dict_values([1.0, 51013.93, 1.131735])\n",
    "for v in d1.values():\n",
    "    print(v)"
   ]
  },
  {
   "cell_type": "code",
   "execution_count": 72,
   "id": "07090138",
   "metadata": {},
   "outputs": [
    {
     "name": "stdout",
     "output_type": "stream",
     "text": [
      "currency USD has exchange rate 1.0\n",
      "currency BTC has exchange rate 51013.93\n",
      "currency EUR has exchange rate 1.131735\n"
     ]
    }
   ],
   "source": [
    "d1.items() # dict_items([('USD', 1.0), ('BTC', 51013.93), ('EUR', 1.131735)])\n",
    "for k, v in d1.items():\n",
    "    print(f'currency {k} has exchange rate {v}')"
   ]
  },
  {
   "cell_type": "code",
   "execution_count": 73,
   "id": "a43b9ce0",
   "metadata": {},
   "outputs": [
    {
     "name": "stdout",
     "output_type": "stream",
     "text": [
      "USD\n",
      "BTC\n",
      "EUR\n"
     ]
    }
   ],
   "source": [
    "for ent in d1:\n",
    "    print(ent)"
   ]
  },
  {
   "cell_type": "markdown",
   "id": "42c645f6",
   "metadata": {},
   "source": [
    "## While loops\n",
    "\n",
    "And a small dialogue from Monty Python and the Holy Grail:\n",
    "    \n",
    "\"And the Lord spake, saying, 'First shalt thou take out the Holy Pin. Then shalt thou count to three, no more, no less. Three shall be the number thou shalt count, and the number of the counting shall be three. Four shalt thou not count...\""
   ]
  },
  {
   "cell_type": "code",
   "execution_count": 75,
   "id": "59492aba",
   "metadata": {},
   "outputs": [
    {
     "name": "stdout",
     "output_type": "stream",
     "text": [
      "1 2 3 "
     ]
    }
   ],
   "source": [
    "count = 1\n",
    "while count < 4:\n",
    "    print(count, end=' ')\n",
    "    count += 1"
   ]
  },
  {
   "cell_type": "markdown",
   "id": "7c02d547",
   "metadata": {},
   "source": [
    "## Can also use break to get out of a loop."
   ]
  },
  {
   "cell_type": "code",
   "execution_count": 78,
   "id": "5fbd605a",
   "metadata": {},
   "outputs": [
    {
     "name": "stdout",
     "output_type": "stream",
     "text": [
      "1 2 3 "
     ]
    }
   ],
   "source": [
    "count = 1\n",
    "while True:\n",
    "    print(count, end=' ')\n",
    "    count += 1\n",
    "    if count >= 4:\n",
    "        break"
   ]
  },
  {
   "cell_type": "markdown",
   "id": "b62fe1bf",
   "metadata": {},
   "source": [
    "# Being Pythonic\n",
    "\n",
    "Let's start with an Easter Egg in Python."
   ]
  },
  {
   "cell_type": "code",
   "execution_count": 85,
   "id": "164e1b15",
   "metadata": {},
   "outputs": [
    {
     "name": "stdout",
     "output_type": "stream",
     "text": [
      "The Zen of Python, by Tim Peters\n",
      "\n",
      "Beautiful is better than ugly.\n",
      "Explicit is better than implicit.\n",
      "Simple is better than complex.\n",
      "Complex is better than complicated.\n",
      "Flat is better than nested.\n",
      "Sparse is better than dense.\n",
      "Readability counts.\n",
      "Special cases aren't special enough to break the rules.\n",
      "Although practicality beats purity.\n",
      "Errors should never pass silently.\n",
      "Unless explicitly silenced.\n",
      "In the face of ambiguity, refuse the temptation to guess.\n",
      "There should be one-- and preferably only one --obvious way to do it.\n",
      "Although that way may not be obvious at first unless you're Dutch.\n",
      "Now is better than never.\n",
      "Although never is often better than *right* now.\n",
      "If the implementation is hard to explain, it's a bad idea.\n",
      "If the implementation is easy to explain, it may be a good idea.\n",
      "Namespaces are one honking great idea -- let's do more of those!\n"
     ]
    }
   ],
   "source": [
    "import this"
   ]
  },
  {
   "cell_type": "markdown",
   "id": "72621eca",
   "metadata": {},
   "source": [
    "# Formatting strings and numbers\n",
    "\n",
    "Remember this from Module 1?"
   ]
  },
  {
   "cell_type": "code",
   "execution_count": 86,
   "id": "60ee60e3",
   "metadata": {},
   "outputs": [
    {
     "name": "stdout",
     "output_type": "stream",
     "text": [
      "Before (no formatting)\n",
      " Food\t$38.76\n",
      " tip\t$5.813999999999999\n",
      " tax\t$3.2946\n",
      "Total:\t$47.8686\n"
     ]
    }
   ],
   "source": [
    "# Making it print like dollars and cents.\n",
    "food = 38.76\n",
    "tip = food * .15\n",
    "tax_rate = .085\n",
    "tax = food * tax_rate\n",
    "total = food + tip + tax\n",
    "print('Before (no formatting)')\n",
    "print(f' Food\\t${food}\\n tip\\t${tip}\\n tax\\t${tax}\\nTotal:\\t${total}') "
   ]
  },
  {
   "cell_type": "markdown",
   "id": "54fcbc6a",
   "metadata": {},
   "source": [
    "## Some simple formatting\n",
    "\n",
    ":6.2f means we are requesting 6 places for the number and 2 decimal places. The f means it's a float."
   ]
  },
  {
   "cell_type": "code",
   "execution_count": 87,
   "id": "2b6c3358",
   "metadata": {},
   "outputs": [
    {
     "name": "stdout",
     "output_type": "stream",
     "text": [
      "\n",
      "After (with 6.2f formatting)\n",
      " Food\t$ 38.76\n",
      " tip\t$  5.81\n",
      " tax\t$  3.29\n",
      "Total:\t$ 47.87\n"
     ]
    }
   ],
   "source": [
    "print('\\nAfter (with 6.2f formatting)')\n",
    "print(f' Food\\t${food:6.2f}\\n tip\\t${tip:6.2f}\\n tax\\t${tax:6.2f}\\nTotal:\\t${total:6.2f}') "
   ]
  },
  {
   "cell_type": "markdown",
   "id": "26ccd400",
   "metadata": {},
   "source": [
    "## The go-to page for formatting\n",
    "\n",
    "https://docs.python.org/3/library/string.html#format-specification-mini-language"
   ]
  },
  {
   "cell_type": "code",
   "execution_count": 95,
   "id": "8ab3d536",
   "metadata": {},
   "outputs": [
    {
     "name": "stdout",
     "output_type": "stream",
     "text": [
      "without formatting\n",
      "Schenectady, NY : 12345 \n",
      "Holtsville, NY : 501 \n",
      "Ketchikan, AK : 99950 \n",
      "\n",
      "zip code formatted for leading zeroes\n",
      "Schenectady, NY : 12345 \n",
      "Holtsville, NY : 00501 \n",
      "Ketchikan, AK : 99950 \n",
      "\n",
      "Cities with a width\n",
      "Schenectady , NY : 12345 \n",
      "Holtsville  , NY : 00501 \n",
      "Ketchikan   , AK : 99950 \n",
      "\n",
      "Cities, right justified.\n",
      " Schenectady, NY : 12345 \n",
      "  Holtsville, NY : 00501 \n",
      "   Ketchikan, AK : 99950 \n"
     ]
    }
   ],
   "source": [
    "# interesting zip codes from https://lite987.com/americas-5-most-interesting-zip-codes/\n",
    "zips = [\n",
    "    (12345, 'Schenectady','NY'),\n",
    "    (  501, 'Holtsville', 'NY'),\n",
    "    (99950, 'Ketchikan',  'AK')\n",
    "    ]\n",
    "\n",
    "print('without formatting')\n",
    "for zip_obj in zips:\n",
    "    zip_code, city, state = zip_obj\n",
    "    print(f'{city}, {state} : {zip_code} ')\n",
    "    \n",
    "print('\\nzip code formatted for leading zeroes')\n",
    "for zip_obj in zips:\n",
    "    zip_code, city, state = zip_obj\n",
    "    print(f'{city}, {state} : {zip_code:05d} ')\n",
    "\n",
    "print('\\nCities with a width')\n",
    "for zip_obj in zips:\n",
    "    zip_code, city, state = zip_obj\n",
    "    print(f'{city:12}, {state} : {zip_code:05d} ')\n",
    "    \n",
    "print('\\nCities, right justified.')\n",
    "for zip_obj in zips:\n",
    "    zip_code, city, state = zip_obj\n",
    "    print(f'{city:>12}, {state} : {zip_code:05d} ')"
   ]
  },
  {
   "cell_type": "markdown",
   "id": "5946169e",
   "metadata": {},
   "source": [
    "## Formatting floats (and everything else)\n",
    "\n",
    "```python\n",
    "format_spec     ::=  [[fill]align][sign][#][0][width][grouping_option][.precision][type]\n",
    "fill            ::=  <any character>\n",
    "align           ::=  \"<\" | \">\" | \"=\" | \"^\"\n",
    "sign            ::=  \"+\" | \"-\" | \" \"\n",
    "width           ::=  digit+\n",
    "grouping_option ::=  \"_\" | \",\"\n",
    "precision       ::=  digit+\n",
    "type            ::=  \"b\" | \"c\" | \"d\" | \"e\" | \"E\" | \"f\" | \"F\" | \"g\" | \"G\" | \"n\" | \"o\" | \"s\" | \"x\" | \"X\" | \"%\"\n",
    "```"
   ]
  },
  {
   "cell_type": "code",
   "execution_count": 97,
   "id": "cdc1a8db",
   "metadata": {},
   "outputs": [
    {
     "data": {
      "text/plain": [
       "[38.76, 5.813999999999999, 0.085, 3.2946, 47.8686, 1000000.0]"
      ]
     },
     "execution_count": 97,
     "metadata": {},
     "output_type": "execute_result"
    }
   ],
   "source": [
    "lst3 = [food, tip, tax_rate, tax, total, 1000000.00]\n",
    "lst3"
   ]
  },
  {
   "cell_type": "code",
   "execution_count": 98,
   "id": "0a05ae5f",
   "metadata": {},
   "outputs": [
    {
     "name": "stdout",
     "output_type": "stream",
     "text": [
      "38.76\n",
      "5.81\n",
      "0.09\n",
      "3.29\n",
      "47.87\n",
      "1000000.00\n"
     ]
    }
   ],
   "source": [
    "# specifying two decimal places\n",
    "for amount in lst3:\n",
    "    print(f'{amount:.2f}')"
   ]
  },
  {
   "cell_type": "code",
   "execution_count": 99,
   "id": "e8c13ae4",
   "metadata": {},
   "outputs": [
    {
     "name": "stdout",
     "output_type": "stream",
     "text": [
      "       38.76\n",
      "        5.81\n",
      "        0.09\n",
      "        3.29\n",
      "       47.87\n",
      "  1000000.00\n"
     ]
    }
   ],
   "source": [
    "# specifying two decimal places and width of 12\n",
    "for amount in lst3:\n",
    "    print(f'{amount:12.2f}')"
   ]
  },
  {
   "cell_type": "code",
   "execution_count": 105,
   "id": "7a1ac8ca",
   "metadata": {},
   "outputs": [
    {
     "name": "stdout",
     "output_type": "stream",
     "text": [
      "       38.76\n",
      "        5.81\n",
      "        0.09\n",
      "        3.29\n",
      "       47.87\n",
      "1,000,000.00\n"
     ]
    }
   ],
   "source": [
    "# specifying two decimal places, commas, and width of 12\n",
    "# [width][grouping_option][.precision][type]\n",
    "for amount in lst3:\n",
    "    print(f'{amount:12,.2f}')"
   ]
  },
  {
   "cell_type": "markdown",
   "id": "6398b2c1",
   "metadata": {},
   "source": [
    "# Jupyter Markdown\n",
    "## heading 2\n",
    "### heading 3\n",
    "\n",
    "Just plain text\n",
    "\n",
    "An unordered list:\n",
    "- apples\n",
    "- peaches\n",
    "- plums\n",
    "\n",
    "An ordered list:\n",
    "1. First\n",
    "1. Second\n",
    "1. Third\n",
    "\n",
    "Oh, and you can do equations.\n",
    "\n",
    "Formula for compund interest: $ C_0 * {(1 + r)}^n $"
   ]
  },
  {
   "cell_type": "code",
   "execution_count": null,
   "id": "b6d0f0fd",
   "metadata": {},
   "outputs": [],
   "source": []
  },
  {
   "cell_type": "code",
   "execution_count": null,
   "id": "37baea49",
   "metadata": {},
   "outputs": [],
   "source": []
  },
  {
   "cell_type": "code",
   "execution_count": null,
   "id": "91aab497",
   "metadata": {},
   "outputs": [],
   "source": []
  },
  {
   "cell_type": "code",
   "execution_count": null,
   "id": "2838192e",
   "metadata": {},
   "outputs": [],
   "source": []
  }
 ],
 "metadata": {
  "kernelspec": {
   "display_name": "Python 3 (ipykernel)",
   "language": "python",
   "name": "python3"
  },
  "language_info": {
   "codemirror_mode": {
    "name": "ipython",
    "version": 3
   },
   "file_extension": ".py",
   "mimetype": "text/x-python",
   "name": "python",
   "nbconvert_exporter": "python",
   "pygments_lexer": "ipython3",
   "version": "3.9.7"
  }
 },
 "nbformat": 4,
 "nbformat_minor": 5
}
