{
 "cells": [
  {
   "cell_type": "markdown",
   "id": "7bc2ddc8",
   "metadata": {},
   "source": [
    "# Some Jupyter basics\n",
    "- Starting Jupyter\n",
    "- Navigating directories\n",
    "- Creating a new notebook\n",
    "- Buttons I use all the time\n",
    "- Adding, Insert->Add above\n",
    "- Keyboard shortcuts\n",
    "- Saving\n",
    "- Interrupting or restarting\n",
    "- Run all, Run above, Run Below\n",
    "- Printing"
   ]
  },
  {
   "cell_type": "markdown",
   "id": "2c53df4a",
   "metadata": {},
   "source": [
    "# The obligatory"
   ]
  },
  {
   "cell_type": "code",
   "execution_count": 1,
   "id": "f99e515f",
   "metadata": {},
   "outputs": [
    {
     "data": {
      "text/plain": [
       "'Hello, World'"
      ]
     },
     "execution_count": 1,
     "metadata": {},
     "output_type": "execute_result"
    }
   ],
   "source": [
    "'Hello, World'"
   ]
  },
  {
   "cell_type": "code",
   "execution_count": 2,
   "id": "7904b96b",
   "metadata": {},
   "outputs": [
    {
     "data": {
      "text/plain": [
       "'Hello, World'"
      ]
     },
     "execution_count": 2,
     "metadata": {},
     "output_type": "execute_result"
    }
   ],
   "source": [
    "name = 'World'\n",
    "'Hello, ' + name"
   ]
  },
  {
   "cell_type": "code",
   "execution_count": 3,
   "id": "bcef6f07",
   "metadata": {},
   "outputs": [
    {
     "name": "stdout",
     "output_type": "stream",
     "text": [
      "Hello, World\n"
     ]
    }
   ],
   "source": [
    "print ('Hello, ' + name)"
   ]
  },
  {
   "cell_type": "markdown",
   "id": "394dde37",
   "metadata": {},
   "source": [
    "# Strings"
   ]
  },
  {
   "cell_type": "code",
   "execution_count": 4,
   "id": "1e089362",
   "metadata": {},
   "outputs": [
    {
     "data": {
      "text/plain": [
       "'ELVTR'"
      ]
     },
     "execution_count": 4,
     "metadata": {},
     "output_type": "execute_result"
    }
   ],
   "source": [
    "'Rajah'\n",
    "\"ELVTR\""
   ]
  },
  {
   "cell_type": "code",
   "execution_count": 1,
   "id": "e1cfc149",
   "metadata": {},
   "outputs": [
    {
     "data": {
      "text/plain": [
       "'Rajah is teaching Python for Financial Analysis'"
      ]
     },
     "execution_count": 1,
     "metadata": {},
     "output_type": "execute_result"
    }
   ],
   "source": [
    "who = 'Rajah'\n",
    "what = 'Python for Financial Analysis'\n",
    "# who what\n",
    "who + ' is teaching ' + what"
   ]
  },
  {
   "cell_type": "code",
   "execution_count": 6,
   "id": "03a7fa10",
   "metadata": {},
   "outputs": [
    {
     "ename": "SyntaxError",
     "evalue": "invalid syntax (Temp/ipykernel_13544/2748520001.py, line 1)",
     "output_type": "error",
     "traceback": [
      "\u001b[1;36m  File \u001b[1;32m\"C:\\Users\\rajah\\AppData\\Local\\Temp/ipykernel_13544/2748520001.py\"\u001b[1;36m, line \u001b[1;32m1\u001b[0m\n\u001b[1;33m    'don't do it'\u001b[0m\n\u001b[1;37m         ^\u001b[0m\n\u001b[1;31mSyntaxError\u001b[0m\u001b[1;31m:\u001b[0m invalid syntax\n"
     ]
    }
   ],
   "source": [
    "'don't do it'\n",
    "\"don't do it\""
   ]
  },
  {
   "cell_type": "code",
   "execution_count": 2,
   "id": "7f61934b",
   "metadata": {},
   "outputs": [
    {
     "name": "stdout",
     "output_type": "stream",
     "text": [
      "Separated by \n",
      "a line break\n",
      "1.\tOne\n",
      "2.\tTwo\n",
      "3.\tThree\n"
     ]
    }
   ],
   "source": [
    "# Some other fun with strings\n",
    "'mashed' 'together'\n",
    "x = 'Separated by \\na line break'\n",
    "print (x) # but x by itself is <Separated by \\na line break>\n",
    "y = '1.\\tOne\\n2.\\tTwo\\n3.\\tThree'\n",
    "print (y)"
   ]
  },
  {
   "cell_type": "markdown",
   "id": "e5e4bcf9",
   "metadata": {},
   "source": [
    "# Comments"
   ]
  },
  {
   "cell_type": "code",
   "execution_count": 9,
   "id": "d90d1e5b",
   "metadata": {},
   "outputs": [
    {
     "data": {
      "text/plain": [
       "42"
      ]
     },
     "execution_count": 9,
     "metadata": {},
     "output_type": "execute_result"
    }
   ],
   "source": [
    "# this is a comment\n",
    "42  # The answer to life, the universe, and everything"
   ]
  },
  {
   "cell_type": "markdown",
   "id": "616a02aa",
   "metadata": {},
   "source": [
    "# Python is 0-offset\n",
    "That means we start counting from 0, not 1. "
   ]
  },
  {
   "cell_type": "markdown",
   "id": "19e78c4b",
   "metadata": {},
   "source": [
    "# Print statement\n",
    "See the docs: https://docs.python.org/3.9/tutorial/inputoutput.html\n",
    "\n",
    "A helpful intro: https://realpython.com/python-print/"
   ]
  },
  {
   "cell_type": "markdown",
   "id": "59f2c594",
   "metadata": {},
   "source": [
    "## many ways to do the print statement"
   ]
  },
  {
   "cell_type": "code",
   "execution_count": 3,
   "id": "b9b7adcb",
   "metadata": {},
   "outputs": [
    {
     "name": "stdout",
     "output_type": "stream",
     "text": [
      "Rajah is teaching Python for Financial Analysis\n",
      "Python for Financial Analysis is taught by Rajah\n",
      "Rajah teaches the class: \"Python for Financial Analysis\"\n"
     ]
    }
   ],
   "source": [
    "print (who + ' is teaching ' + what)\n",
    "print ('{} is taught by {}'.format(what, who)) # the {} represents the variables, in order\n",
    "print ('{1} teaches the class: \"{0}\"'.format(what, who)) # Or you can explicitly number the vars. "
   ]
  },
  {
   "cell_type": "markdown",
   "id": "6b9725dc",
   "metadata": {},
   "source": [
    "## but I prefer the f-string"
   ]
  },
  {
   "cell_type": "code",
   "execution_count": 4,
   "id": "b37826d1",
   "metadata": {},
   "outputs": [
    {
     "name": "stdout",
     "output_type": "stream",
     "text": [
      "Hello, Rajah!\n"
     ]
    }
   ],
   "source": [
    "name = 'Rajah'\n",
    "print (f'Hello, {name}!')"
   ]
  },
  {
   "cell_type": "markdown",
   "id": "274162ed",
   "metadata": {},
   "source": [
    "# Integers"
   ]
  },
  {
   "cell_type": "code",
   "execution_count": 12,
   "id": "acd25427",
   "metadata": {},
   "outputs": [
    {
     "data": {
      "text/plain": [
       "42"
      ]
     },
     "execution_count": 12,
     "metadata": {},
     "output_type": "execute_result"
    }
   ],
   "source": [
    "42"
   ]
  },
  {
   "cell_type": "code",
   "execution_count": 6,
   "id": "c1a0d19f",
   "metadata": {},
   "outputs": [
    {
     "data": {
      "text/plain": [
       "42"
      ]
     },
     "execution_count": 6,
     "metadata": {},
     "output_type": "execute_result"
    }
   ],
   "source": [
    "i = 42\n",
    "j = -3 * -9\n",
    "i"
   ]
  },
  {
   "cell_type": "code",
   "execution_count": 14,
   "id": "adac4e15",
   "metadata": {},
   "outputs": [
    {
     "name": "stdout",
     "output_type": "stream",
     "text": [
      "27\n"
     ]
    }
   ],
   "source": [
    "print (j)"
   ]
  },
  {
   "cell_type": "code",
   "execution_count": 15,
   "id": "a2c7b285",
   "metadata": {},
   "outputs": [
    {
     "data": {
      "text/plain": [
       "31.5"
      ]
     },
     "execution_count": 15,
     "metadata": {},
     "output_type": "execute_result"
    }
   ],
   "source": [
    "x = 3/5\n",
    "y = 10 ** -4\n",
    "z = 3 / -6 + 2 * 8 + 2 ** 4 # Precedence: parens, unary, exponentiation, mult/div, add/sub\n",
    "z"
   ]
  },
  {
   "cell_type": "markdown",
   "id": "e05e068d",
   "metadata": {},
   "source": [
    "# A little more on print\n",
    "## Why doesn't this work?"
   ]
  },
  {
   "cell_type": "code",
   "execution_count": 16,
   "id": "b70563e7",
   "metadata": {},
   "outputs": [
    {
     "ename": "TypeError",
     "evalue": "can only concatenate str (not \"int\") to str",
     "output_type": "error",
     "traceback": [
      "\u001b[1;31m---------------------------------------------------------------------------\u001b[0m",
      "\u001b[1;31mTypeError\u001b[0m                                 Traceback (most recent call last)",
      "\u001b[1;32m~\\AppData\\Local\\Temp/ipykernel_13544/3230341722.py\u001b[0m in \u001b[0;36m<module>\u001b[1;34m\u001b[0m\n\u001b[1;32m----> 1\u001b[1;33m \u001b[0mprint\u001b[0m \u001b[1;33m(\u001b[0m\u001b[1;34m'The answer to life, the universe, and everything is'\u001b[0m \u001b[1;33m+\u001b[0m \u001b[0mi\u001b[0m\u001b[1;33m)\u001b[0m\u001b[1;33m\u001b[0m\u001b[1;33m\u001b[0m\u001b[0m\n\u001b[0m",
      "\u001b[1;31mTypeError\u001b[0m: can only concatenate str (not \"int\") to str"
     ]
    }
   ],
   "source": [
    "print ('The answer to life, the universe, and everything is' + i)"
   ]
  },
  {
   "cell_type": "code",
   "execution_count": 7,
   "id": "c22b5188",
   "metadata": {},
   "outputs": [
    {
     "name": "stdout",
     "output_type": "stream",
     "text": [
      "The answer to life, the universe, and everything is 42\n",
      "The answer to life, the universe, and everything is: {i}.\n",
      "The answer to life, the universe, and everything is: 42.\n"
     ]
    }
   ],
   "source": [
    "print ('The answer to life, the universe, and everything is ' + str(i))\n",
    "print ('The answer to life, the universe, and everything is: {i}.')\n",
    "print (f'The answer to life, the universe, and everything is: {i}.')"
   ]
  },
  {
   "cell_type": "markdown",
   "id": "1c584f9e",
   "metadata": {},
   "source": [
    "# Floats\n",
    "\n",
    "StackOverflow: is Floating point math broken? https://stackoverflow.com/questions/588004/is-floating-point-math-broken\n",
    "\n",
    "Technical paper, *What Every Computer Scientist Should Know About\n",
    "Floating-Point Arithmetic*, by David Goldberg http://plato.la.asu.edu/MAT420/float2.pdf\n",
    "\n",
    "The Python API: https://docs.python.org/3/tutorial/floatingpoint.html\n",
    "\n",
    "## Either read the above or take it on faith\n",
    "Really neat numbers in decimal might not be so neat in binary.\n",
    "\n",
    "## But the FORTRAN library\n",
    "... was well written and covers a multitude of sins."
   ]
  },
  {
   "cell_type": "code",
   "execution_count": 18,
   "id": "03ed8e91",
   "metadata": {},
   "outputs": [
    {
     "data": {
      "text/plain": [
       "2.4000000000000004"
      ]
     },
     "execution_count": 18,
     "metadata": {},
     "output_type": "execute_result"
    }
   ],
   "source": [
    "1.3 + 1.1"
   ]
  },
  {
   "cell_type": "code",
   "execution_count": 1,
   "id": "6181f4d2",
   "metadata": {},
   "outputs": [
    {
     "name": "stdout",
     "output_type": "stream",
     "text": [
      "Total (no formatting)\n",
      " Food\t$38.76\n",
      " tip\t$5.813999999999999\n",
      " tax\t$3.2946\n",
      "Total:\t$47.8686\n"
     ]
    }
   ],
   "source": [
    "# Making it print like dollars and cents.\n",
    "food = 38.76\n",
    "tip = food * .15\n",
    "tax_rate = .085\n",
    "tax = food * tax_rate\n",
    "total = food + tip + tax\n",
    "print('Total (no formatting)')\n",
    "print(f' Food\\t${food}\\n tip\\t${tip}\\n tax\\t${tax}\\nTotal:\\t${total}') \n"
   ]
  },
  {
   "cell_type": "markdown",
   "id": "e0cdff55",
   "metadata": {},
   "source": [
    "## One way to get a float to look right\n",
    "### Round"
   ]
  },
  {
   "cell_type": "code",
   "execution_count": 9,
   "id": "03efccc5",
   "metadata": {},
   "outputs": [
    {
     "name": "stdout",
     "output_type": "stream",
     "text": [
      "47.8686\n",
      "48\n",
      "47.87\n",
      "50.0\n"
     ]
    }
   ],
   "source": [
    "print(total)            # What we're starting with\n",
    "print(round(total))     # Round to the nearest dollar\n",
    "print(round(total, 2))  # Round to the nearest penny\n",
    "print(round(total, -1)) # Round to the nearest ten-dollar"
   ]
  },
  {
   "cell_type": "markdown",
   "id": "8b746d0b",
   "metadata": {},
   "source": [
    "# Datetime\n",
    "Need to import the datetime library\n",
    "Helpful information: https://www.geeksforgeeks.org/python-datetime-module/?ref=gcse"
   ]
  },
  {
   "cell_type": "code",
   "execution_count": 34,
   "id": "e18b3bbf",
   "metadata": {},
   "outputs": [
    {
     "name": "stdout",
     "output_type": "stream",
     "text": [
      "This was run at 2021-12-22 17:54:48.766083\n",
      "Valentine's day is 2022-02-14\n"
     ]
    }
   ],
   "source": [
    "from datetime import datetime, date\n",
    "moment = datetime.now()\n",
    "print(f'This was run at {moment}')\n",
    "v_date = date(2022, 2, 14)\n",
    "print (f\"Valentine's day is {v_date}\")"
   ]
  },
  {
   "cell_type": "markdown",
   "id": "9e7044fc",
   "metadata": {},
   "source": [
    "## A little about objects\n",
    "We use a . to get an attribute inside an object."
   ]
  },
  {
   "cell_type": "code",
   "execution_count": 23,
   "id": "0c320de1",
   "metadata": {},
   "outputs": [
    {
     "data": {
      "text/plain": [
       "2021"
      ]
     },
     "execution_count": 23,
     "metadata": {},
     "output_type": "execute_result"
    }
   ],
   "source": [
    "moment.year"
   ]
  },
  {
   "cell_type": "code",
   "execution_count": 29,
   "id": "624fb2e6",
   "metadata": {},
   "outputs": [
    {
     "name": "stdout",
     "output_type": "stream",
     "text": [
      "Year / month / day = 2021 / 12 / 22\n",
      "hour / minute / second = 17 / 26 / 37\n"
     ]
    }
   ],
   "source": [
    "print(f'Year / month / day = {moment.year} / {moment.month} / {moment.day}')\n",
    "print(f'hour / minute / second = {moment.hour} / {moment.minute} / {moment.second}')"
   ]
  },
  {
   "cell_type": "markdown",
   "id": "e48ac329",
   "metadata": {},
   "source": [
    "## Past and future dates"
   ]
  },
  {
   "cell_type": "code",
   "execution_count": 32,
   "id": "5bab2d91",
   "metadata": {},
   "outputs": [
    {
     "data": {
      "text/plain": [
       "datetime.datetime(2021, 12, 21, 17, 26, 37, 570225)"
      ]
     },
     "execution_count": 32,
     "metadata": {},
     "output_type": "execute_result"
    }
   ],
   "source": [
    "from datetime import timedelta\n",
    "day_ago = timedelta(days=-1)\n",
    "week_hence = timedelta(days=14)\n",
    "yesterday = moment + day_ago\n",
    "yesterday"
   ]
  },
  {
   "cell_type": "code",
   "execution_count": 33,
   "id": "5722d04f",
   "metadata": {},
   "outputs": [
    {
     "data": {
      "text/plain": [
       "datetime.datetime(2022, 1, 5, 17, 26, 37, 570225)"
      ]
     },
     "execution_count": 33,
     "metadata": {},
     "output_type": "execute_result"
    }
   ],
   "source": [
    "next_week = moment + week_hence\n",
    "next_week"
   ]
  },
  {
   "cell_type": "markdown",
   "id": "d2614369",
   "metadata": {},
   "source": [
    "## Comparing dates\n",
    "Sometimes we need to convert types from one to another."
   ]
  },
  {
   "cell_type": "code",
   "execution_count": 41,
   "id": "4c56c19b",
   "metadata": {},
   "outputs": [
    {
     "data": {
      "text/plain": [
       "True"
      ]
     },
     "execution_count": 41,
     "metadata": {},
     "output_type": "execute_result"
    }
   ],
   "source": [
    "# moment < v_date # Causes an error \"TypeError: can't compare datetime.datetime to datetime.date\"\n",
    "v_datetime = datetime(v_date.year, v_date.month, v_date.day)\n",
    "moment < v_datetime"
   ]
  },
  {
   "cell_type": "markdown",
   "id": "71946f04",
   "metadata": {},
   "source": [
    "# Booleans\n",
    "## True and False"
   ]
  },
  {
   "cell_type": "code",
   "execution_count": 42,
   "id": "e89b33eb",
   "metadata": {},
   "outputs": [
    {
     "data": {
      "text/plain": [
       "bool"
      ]
     },
     "execution_count": 42,
     "metadata": {},
     "output_type": "execute_result"
    }
   ],
   "source": [
    "x = True\n",
    "type(x)"
   ]
  },
  {
   "cell_type": "code",
   "execution_count": 45,
   "id": "555effd6",
   "metadata": {},
   "outputs": [
    {
     "name": "stdout",
     "output_type": "stream",
     "text": [
      "True and False yield False\n",
      "True or False yield True\n",
      "not True is False\n",
      "not False is True\n"
     ]
    }
   ],
   "source": [
    "a = 3 < 4\n",
    "b = name == 'Bill' # Meaning: Assign to b the truth value of name containing the string 'Bill'\n",
    "print(f'{a} and {b} yield {a and b}')\n",
    "print(f'{a} or {b} yield {a or b}')\n",
    "print(f'not {a} is {not a}')\n",
    "print(f'not {b} is {not b}')"
   ]
  },
  {
   "cell_type": "code",
   "execution_count": 32,
   "id": "f49aedd2",
   "metadata": {},
   "outputs": [
    {
     "data": {
      "text/plain": [
       "'Fred'"
      ]
     },
     "execution_count": 32,
     "metadata": {},
     "output_type": "execute_result"
    }
   ],
   "source": [
    "# A Python pitfall: = and == are not the same.\n",
    "name1 = 'Alice'\n",
    "name2 = 'Alice'\n",
    "name1 == name2 # True: 'Alice' and 'Alice' are the same strings\n",
    "name3 = 'Bob'\n",
    "name4 = 'Fred'\n",
    "name3 = name4 # assigns name4 to name3\n",
    "name3"
   ]
  },
  {
   "cell_type": "markdown",
   "id": "3a17053a",
   "metadata": {},
   "source": [
    "# None\n",
    "This is used for uninitialized variables"
   ]
  },
  {
   "cell_type": "code",
   "execution_count": 12,
   "id": "4f2db19b",
   "metadata": {},
   "outputs": [
    {
     "data": {
      "text/plain": [
       "False"
      ]
     },
     "execution_count": 12,
     "metadata": {},
     "output_type": "execute_result"
    }
   ],
   "source": [
    "x = None\n",
    "y = 3\n",
    "x == y"
   ]
  },
  {
   "cell_type": "code",
   "execution_count": 4,
   "id": "7e56a190",
   "metadata": {},
   "outputs": [
    {
     "data": {
      "text/plain": [
       "True"
      ]
     },
     "execution_count": 4,
     "metadata": {},
     "output_type": "execute_result"
    }
   ],
   "source": [
    "y = None\n",
    "y is None"
   ]
  },
  {
   "cell_type": "markdown",
   "id": "9b0d481d",
   "metadata": {},
   "source": [
    "# Lists\n",
    "## May be mixed types\n",
    "Surrounded by square brackets. Elements are separated by commas. May be empty. Have lengths that you can retrieve with len()."
   ]
  },
  {
   "cell_type": "code",
   "execution_count": 5,
   "id": "d758181a",
   "metadata": {},
   "outputs": [],
   "source": [
    "lst_0 = []\n",
    "lst_1 = [y]\n",
    "lst_2 = [3, 'Hey']"
   ]
  },
  {
   "cell_type": "code",
   "execution_count": 8,
   "id": "d650e480",
   "metadata": {},
   "outputs": [
    {
     "data": {
      "text/plain": [
       "[3, 'Hey']"
      ]
     },
     "execution_count": 8,
     "metadata": {},
     "output_type": "execute_result"
    }
   ],
   "source": [
    "lst_0 # []\n",
    "lst_1 # [None]\n",
    "lst_2 # [3, 'Hey']\n",
    "len(lst_0) # 0\n",
    "len(lst_1) # 1\n",
    "len(lst_2) # 2"
   ]
  },
  {
   "cell_type": "markdown",
   "id": "96284048",
   "metadata": {},
   "source": [
    "## Different ways to add to a list\n",
    "### Append\n",
    "Append adds a single element to the end."
   ]
  },
  {
   "cell_type": "code",
   "execution_count": 15,
   "id": "c843fcc6",
   "metadata": {},
   "outputs": [
    {
     "data": {
      "text/plain": [
       "[5.0]"
      ]
     },
     "execution_count": 15,
     "metadata": {},
     "output_type": "execute_result"
    }
   ],
   "source": [
    "lst_3 = list() # The other way to make an empty list\n",
    "lst_3.append(5.0)\n",
    "lst_3 # [5.0]"
   ]
  },
  {
   "cell_type": "markdown",
   "id": "91e75229",
   "metadata": {},
   "source": [
    "###  Append vs. extend\n",
    "Appending a list gets you a multi-dimensional list\n",
    "Extending a list adds the elements, one at a time."
   ]
  },
  {
   "cell_type": "code",
   "execution_count": 16,
   "id": "06f1d804",
   "metadata": {},
   "outputs": [
    {
     "data": {
      "text/plain": [
       "[5.0, [3, 'Hey']]"
      ]
     },
     "execution_count": 16,
     "metadata": {},
     "output_type": "execute_result"
    }
   ],
   "source": [
    "# Append a list\n",
    "lst_3.append(lst_2)\n",
    "lst_3 # Python just adds the list: [5.0, [3, 'Hey']]"
   ]
  },
  {
   "cell_type": "code",
   "execution_count": 14,
   "id": "6c728908",
   "metadata": {},
   "outputs": [
    {
     "data": {
      "text/plain": [
       "['a', 'b', 'c', 1, 2, 3]"
      ]
     },
     "execution_count": 14,
     "metadata": {},
     "output_type": "execute_result"
    }
   ],
   "source": [
    "lst_a = ['a', 'b', 'c']\n",
    "lst_b = [1, 2, 3]\n",
    "lst_a.extend(lst_b) # adds the elements of lst_b, one at a time\n",
    "lst_a"
   ]
  },
  {
   "cell_type": "markdown",
   "id": "fb160854",
   "metadata": {},
   "source": [
    "### You don't have to add at the end\n",
    "You may also insert at the front, the back, or in the middle."
   ]
  },
  {
   "cell_type": "code",
   "execution_count": 39,
   "id": "f15ddd1d",
   "metadata": {},
   "outputs": [
    {
     "name": "stdout",
     "output_type": "stream",
     "text": [
      "['first', 10, 20, 30, 40]\n"
     ]
    }
   ],
   "source": [
    "lst_c = [10, 20, 30, 40]\n",
    "lst_c.insert(0, 'first') # insert an el before the 0th pos.\n",
    "print(lst_c)"
   ]
  },
  {
   "cell_type": "code",
   "execution_count": 40,
   "id": "5c9a3c75",
   "metadata": {},
   "outputs": [
    {
     "name": "stdout",
     "output_type": "stream",
     "text": [
      "['first', 10, 20, 'before third', 30, 40]\n"
     ]
    }
   ],
   "source": [
    "lst_c.insert(3, 'before third') # insert an el before the 3rd pos.\n",
    "print(lst_c)"
   ]
  },
  {
   "cell_type": "code",
   "execution_count": 41,
   "id": "4b6d71fb",
   "metadata": {},
   "outputs": [
    {
     "name": "stdout",
     "output_type": "stream",
     "text": [
      "['first', 10, 20, 'before third', 30, 'penultimate', 40]\n"
     ]
    }
   ],
   "source": [
    "lst_c.insert(-1, 'penultimate') # insert an el before the last pos.\n",
    "print(lst_c)"
   ]
  },
  {
   "cell_type": "markdown",
   "id": "300a7c04",
   "metadata": {},
   "source": [
    "### Some unexpected things that lists do\n",
    "(optional section, but you will probably run into this)"
   ]
  },
  {
   "cell_type": "code",
   "execution_count": 10,
   "id": "9ff8c213",
   "metadata": {},
   "outputs": [
    {
     "name": "stdout",
     "output_type": "stream",
     "text": [
      "[1, 2, 3, 4, 5]\n",
      "None\n"
     ]
    }
   ],
   "source": [
    "lst_4 = [1, 2, 3, 4]\n",
    "lst_5 = lst_4.append(5) # Python pitfall!\n",
    "print(lst_4) # [1, 2, 3, 4, 5]\n",
    "print(lst_5) # None"
   ]
  },
  {
   "cell_type": "code",
   "execution_count": 33,
   "id": "81fd4b3c",
   "metadata": {},
   "outputs": [
    {
     "name": "stdout",
     "output_type": "stream",
     "text": [
      "[1, 2, 3, 4, 5, 6]\n",
      "[1, 2, 3, 4, 5, 6]\n"
     ]
    }
   ],
   "source": [
    "# Assigning lists has side effects\n",
    "lst_6 = lst_4 # Another pitfall\n",
    "lst_6.append(6)\n",
    "print(lst_6) # [1, 2, 3, 4, 5, 6], as expected\n",
    "print(lst_4) # [1, 2, 3, 4, 5, 6], a side effect"
   ]
  },
  {
   "cell_type": "code",
   "execution_count": 12,
   "id": "6c65e8d1",
   "metadata": {},
   "outputs": [
    {
     "name": "stdout",
     "output_type": "stream",
     "text": [
      "[True, 'Hey', 3.14159, 42]\n",
      "[True, 'Hey', 3.14159]\n"
     ]
    }
   ],
   "source": [
    "# The copy function makes this work as expected\n",
    "lst_7 = [True, 'Hey', 3.14159]\n",
    "lst_8 = lst_7.copy()\n",
    "lst_8.append(42)\n",
    "print(lst_8) # [True, 'Hey', 3.14159, 42], as expected\n",
    "print(lst_7) # [True, 'Hey', 3.14159], because the copy() leaves the orig unaffected"
   ]
  },
  {
   "cell_type": "markdown",
   "id": "7ff5006f",
   "metadata": {},
   "source": [
    "## Accessing elements of a list\n",
    "Remember: Python is zero-offset"
   ]
  },
  {
   "cell_type": "code",
   "execution_count": 21,
   "id": "1cbe1d9b",
   "metadata": {},
   "outputs": [
    {
     "data": {
      "text/plain": [
       "True"
      ]
     },
     "execution_count": 21,
     "metadata": {},
     "output_type": "execute_result"
    }
   ],
   "source": [
    "lst_7[0] # First element in the list"
   ]
  },
  {
   "cell_type": "code",
   "execution_count": 23,
   "id": "dea4b5d6",
   "metadata": {},
   "outputs": [
    {
     "data": {
      "text/plain": [
       "3.14159"
      ]
     },
     "execution_count": 23,
     "metadata": {},
     "output_type": "execute_result"
    }
   ],
   "source": [
    "lst_7[2]"
   ]
  },
  {
   "cell_type": "code",
   "execution_count": 24,
   "id": "6232b25b",
   "metadata": {},
   "outputs": [
    {
     "ename": "IndexError",
     "evalue": "list index out of range",
     "output_type": "error",
     "traceback": [
      "\u001b[1;31m---------------------------------------------------------------------------\u001b[0m",
      "\u001b[1;31mIndexError\u001b[0m                                Traceback (most recent call last)",
      "\u001b[1;32m~\\AppData\\Local\\Temp/ipykernel_21528/3511202995.py\u001b[0m in \u001b[0;36m<module>\u001b[1;34m\u001b[0m\n\u001b[1;32m----> 1\u001b[1;33m \u001b[0mlst_7\u001b[0m\u001b[1;33m[\u001b[0m\u001b[1;36m3\u001b[0m\u001b[1;33m]\u001b[0m \u001b[1;31m#\u001b[0m\u001b[1;33m\u001b[0m\u001b[1;33m\u001b[0m\u001b[0m\n\u001b[0m",
      "\u001b[1;31mIndexError\u001b[0m: list index out of range"
     ]
    }
   ],
   "source": [
    "lst_7[3] # Throws an IndexError"
   ]
  },
  {
   "cell_type": "code",
   "execution_count": 28,
   "id": "09d0be55",
   "metadata": {},
   "outputs": [
    {
     "data": {
      "text/plain": [
       "3.14159"
      ]
     },
     "execution_count": 28,
     "metadata": {},
     "output_type": "execute_result"
    }
   ],
   "source": [
    "# Negative numbers start from the end of the list\n",
    "lst_7[-1]"
   ]
  },
  {
   "cell_type": "code",
   "execution_count": 30,
   "id": "15114390",
   "metadata": {},
   "outputs": [
    {
     "data": {
      "text/plain": [
       "True"
      ]
     },
     "execution_count": 30,
     "metadata": {},
     "output_type": "execute_result"
    }
   ],
   "source": [
    "lst_7[-2] # Penultimate element: 'Hey'\n",
    "lst_7[-3] # True"
   ]
  },
  {
   "cell_type": "markdown",
   "id": "689f834c",
   "metadata": {},
   "source": [
    "## keyword *in* tells us if an element is in the list\n",
    "Returns a boolean."
   ]
  },
  {
   "cell_type": "code",
   "execution_count": 26,
   "id": "4989f44a",
   "metadata": {},
   "outputs": [
    {
     "data": {
      "text/plain": [
       "False"
      ]
     },
     "execution_count": 26,
     "metadata": {},
     "output_type": "execute_result"
    }
   ],
   "source": [
    "42 in lst_7"
   ]
  },
  {
   "cell_type": "code",
   "execution_count": 27,
   "id": "921e7bd0",
   "metadata": {},
   "outputs": [
    {
     "data": {
      "text/plain": [
       "True"
      ]
     },
     "execution_count": 27,
     "metadata": {},
     "output_type": "execute_result"
    }
   ],
   "source": [
    "42 in lst_8"
   ]
  },
  {
   "cell_type": "markdown",
   "id": "5785546f",
   "metadata": {},
   "source": [
    "## Removing elements of a list\n",
    "The function pop() can remove the first value.\n",
    "Can use the positions or remove an element by value."
   ]
  },
  {
   "cell_type": "code",
   "execution_count": 45,
   "id": "023cdc03",
   "metadata": {},
   "outputs": [
    {
     "name": "stdout",
     "output_type": "stream",
     "text": [
      "I popped 2 off the front of the list, which is now [3, 'hi', 100, 1000]\n",
      "I popped 1000 off the end of the list, which is now [3, 'hi', 100]\n"
     ]
    }
   ],
   "source": [
    "lst_d = [2, 3, 'hi', 100, 1000]\n",
    "first = lst_d.pop(0)\n",
    "print(f'I popped {first} off the front of the list, which is now {lst_d}')\n",
    "last = lst_d.pop()\n",
    "print(f'I popped {last} off the end of the list, which is now {lst_d}')"
   ]
  },
  {
   "cell_type": "code",
   "execution_count": 47,
   "id": "847cd95f",
   "metadata": {},
   "outputs": [
    {
     "name": "stdout",
     "output_type": "stream",
     "text": [
      "I removed hi. The list is now [2, 3, 100, 1000]\n"
     ]
    },
    {
     "data": {
      "text/plain": [
       "False"
      ]
     },
     "execution_count": 47,
     "metadata": {},
     "output_type": "execute_result"
    }
   ],
   "source": [
    "to_remove = 'hi'\n",
    "lst_d = [2, 3, to_remove, 100, 1000]\n",
    "lst_d.remove(to_remove)\n",
    "print(f'I removed {to_remove}. The list is now {lst_d}')\n",
    "to_remove in lst_d"
   ]
  },
  {
   "cell_type": "markdown",
   "id": "bbdd0cdd",
   "metadata": {},
   "source": [
    "# Dictionary fun\n",
    "Dictionaries have keys and values. They are set off with squiggly braces {}. \n",
    "\n",
    "More info: https://www.geeksforgeeks.org/python-dictionary/"
   ]
  },
  {
   "cell_type": "code",
   "execution_count": 49,
   "id": "6404b9eb",
   "metadata": {},
   "outputs": [
    {
     "data": {
      "text/plain": [
       "51013.93"
      ]
     },
     "execution_count": 49,
     "metadata": {},
     "output_type": "execute_result"
    }
   ],
   "source": [
    "d1 = {'USD': 1.00, 'BTC': 51013.93, 'EUR': 1.131735}\n",
    "d1['BTC']"
   ]
  },
  {
   "cell_type": "code",
   "execution_count": 52,
   "id": "d40a94e6",
   "metadata": {},
   "outputs": [
    {
     "name": "stdout",
     "output_type": "stream",
     "text": [
      "dict_keys(['USD', 'BTC', 'EUR'])\n",
      "dict_values([1.0, 51013.93, 1.131735])\n"
     ]
    }
   ],
   "source": [
    "print(d1.keys())\n",
    "print(d1.values())"
   ]
  },
  {
   "cell_type": "markdown",
   "id": "3cf8c6f3",
   "metadata": {},
   "source": [
    "## Replacing a value\n",
    "Simply use the same key."
   ]
  },
  {
   "cell_type": "code",
   "execution_count": 53,
   "id": "110c0ffc",
   "metadata": {},
   "outputs": [
    {
     "name": "stdout",
     "output_type": "stream",
     "text": [
      "dict_values([1.0, 51147.0, 1.131735])\n"
     ]
    }
   ],
   "source": [
    "d1['BTC'] = 51147.00\n",
    "print(d1.values())"
   ]
  },
  {
   "cell_type": "markdown",
   "id": "e766fc37",
   "metadata": {},
   "source": [
    "## Adding a new value\n",
    "Use a different key."
   ]
  },
  {
   "cell_type": "code",
   "execution_count": 54,
   "id": "fa7aa77c",
   "metadata": {},
   "outputs": [
    {
     "name": "stdout",
     "output_type": "stream",
     "text": [
      "dict_keys(['USD', 'BTC', 'EUR', 'CAD'])\n",
      "dict_values([1.0, 51147.0, 1.131735, 0.780698])\n"
     ]
    }
   ],
   "source": [
    "d1['CAD'] = 0.780698\n",
    "print(d1.keys())\n",
    "print(d1.values())"
   ]
  },
  {
   "cell_type": "markdown",
   "id": "f8231f04",
   "metadata": {},
   "source": [
    "## Remove keys and values \n",
    "Use the del keyword.\n",
    "By the way, you can put any Python object in the value."
   ]
  },
  {
   "cell_type": "code",
   "execution_count": 61,
   "id": "76a401c5",
   "metadata": {},
   "outputs": [
    {
     "name": "stdout",
     "output_type": "stream",
     "text": [
      "{'USD': 1.0, 'BTC': 51147.0, 'EUR': 1.131735, 'CAD': 0.780698, 'x': ['abracadabra', None]}\n",
      "{'USD': 1.0, 'BTC': 51147.0, 'EUR': 1.131735, 'CAD': 0.780698}\n"
     ]
    }
   ],
   "source": [
    "d1['x'] = ['abracadabra', None]\n",
    "print(d1)\n",
    "del d1['x']\n",
    "print(d1)"
   ]
  },
  {
   "cell_type": "markdown",
   "id": "0cb758c5",
   "metadata": {},
   "source": [
    "# Tuples\n",
    "How to pronounce? First syllable (probably) rhymes with *cup*.\n",
    "\n",
    "Set off with regular parentheses. Examples: \n",
    "- ('CAD', 0.780698)\n",
    "- (3, 4, 5)\n",
    "- (1.8, 456)\n",
    "\n",
    "They are accessed by (you guessed it) by element number, zero-offset.\n",
    "\n",
    "They are *immutable*."
   ]
  },
  {
   "cell_type": "code",
   "execution_count": 62,
   "id": "a9929bc5",
   "metadata": {},
   "outputs": [],
   "source": [
    "t0 = ()\n",
    "t1 = ('Bill')\n",
    "t2 = (3, 4)"
   ]
  },
  {
   "cell_type": "code",
   "execution_count": 64,
   "id": "a4632eb6",
   "metadata": {},
   "outputs": [
    {
     "name": "stdout",
     "output_type": "stream",
     "text": [
      "The tuple (3, 4) has 2 elements: 3 and 4\n"
     ]
    }
   ],
   "source": [
    "print(f'The tuple {t2} has {len(t2)} elements: {t2[0]} and {t2[1]}')"
   ]
  },
  {
   "cell_type": "code",
   "execution_count": 70,
   "id": "6fd30492",
   "metadata": {},
   "outputs": [
    {
     "ename": "AttributeError",
     "evalue": "'tuple' object has no attribute 'append'",
     "output_type": "error",
     "traceback": [
      "\u001b[1;31m---------------------------------------------------------------------------\u001b[0m",
      "\u001b[1;31mAttributeError\u001b[0m                            Traceback (most recent call last)",
      "\u001b[1;32m~\\AppData\\Local\\Temp/ipykernel_21528/1162697102.py\u001b[0m in \u001b[0;36m<module>\u001b[1;34m\u001b[0m\n\u001b[0;32m      1\u001b[0m \u001b[1;31m# OK, what does immutable mean? It means we can't change it.\u001b[0m\u001b[1;33m\u001b[0m\u001b[1;33m\u001b[0m\u001b[0m\n\u001b[1;32m----> 2\u001b[1;33m \u001b[0mt2\u001b[0m\u001b[1;33m.\u001b[0m\u001b[0mappend\u001b[0m\u001b[1;33m(\u001b[0m\u001b[1;36m5\u001b[0m\u001b[1;33m)\u001b[0m \u001b[1;31m# AttributeError\u001b[0m\u001b[1;33m\u001b[0m\u001b[1;33m\u001b[0m\u001b[0m\n\u001b[0m\u001b[0;32m      3\u001b[0m \u001b[1;31m# t2[1] = 700 # TypeError: 'tuple' object does not support item assignment\u001b[0m\u001b[1;33m\u001b[0m\u001b[1;33m\u001b[0m\u001b[0m\n\u001b[0;32m      4\u001b[0m \u001b[1;31m# t2[2] = 'new one' #TypeError: 'tuple' object does not support item assignment\u001b[0m\u001b[1;33m\u001b[0m\u001b[1;33m\u001b[0m\u001b[0m\n",
      "\u001b[1;31mAttributeError\u001b[0m: 'tuple' object has no attribute 'append'"
     ]
    }
   ],
   "source": [
    "# OK, what does immutable mean? It means we can't change it.\n",
    "t2.append(5) # AttributeError: 'tuple' object has no attribute 'append'\n",
    "t2[1] = 700 # TypeError: 'tuple' object does not support item assignment\n",
    "t2[2] = 'new one' #TypeError: 'tuple' object does not support item assignment"
   ]
  },
  {
   "cell_type": "markdown",
   "id": "130e1e00",
   "metadata": {},
   "source": [
    "## Tuples are good for collecting different objects that need to be treated as a single object\n",
    "\n",
    "For example, A point may be described as an x and a y. \n",
    "\n",
    "A circle may be described x, y, and a radius. \n",
    "\n",
    "An exchange rate might be described as a from-currency, a to-currency, and a float."
   ]
  },
  {
   "cell_type": "code",
   "execution_count": 71,
   "id": "d162c92c",
   "metadata": {},
   "outputs": [],
   "source": [
    "pt1 = (3, 4)\n",
    "pt2 = (-14.4, 3.6)\n",
    "circle = (8, 8, 4.0)\n",
    "exchange = ('USD', 'CAD', 0.780698)"
   ]
  }
 ],
 "metadata": {
  "kernelspec": {
   "display_name": "Python 3 (ipykernel)",
   "language": "python",
   "name": "python3"
  },
  "language_info": {
   "codemirror_mode": {
    "name": "ipython",
    "version": 3
   },
   "file_extension": ".py",
   "mimetype": "text/x-python",
   "name": "python",
   "nbconvert_exporter": "python",
   "pygments_lexer": "ipython3",
   "version": "3.9.7"
  }
 },
 "nbformat": 4,
 "nbformat_minor": 5
}
