{
 "cells": [
  {
   "cell_type": "code",
   "execution_count": 4,
   "id": "b56d4d15",
   "metadata": {},
   "outputs": [
    {
     "name": "stdout",
     "output_type": "stream",
     "text": [
      "3.10.2\n"
     ]
    }
   ],
   "source": [
    "from platform import python_version\n",
    "print(python_version())"
   ]
  },
  {
   "cell_type": "code",
   "execution_count": 2,
   "id": "2fa70cfd",
   "metadata": {},
   "outputs": [
    {
     "name": "stdout",
     "output_type": "stream",
     "text": [
      "1.4.0\n"
     ]
    }
   ],
   "source": [
    "import pandas as pd\n",
    "print(pd.__version__)"
   ]
  },
  {
   "cell_type": "code",
   "execution_count": 2,
   "id": "5a7ada48",
   "metadata": {},
   "outputs": [
    {
     "name": "stdout",
     "output_type": "stream",
     "text": [
      "1.22.2\n"
     ]
    }
   ],
   "source": [
    "import numpy as num\n",
    "print(num.__version__)"
   ]
  },
  {
   "cell_type": "code",
   "execution_count": 5,
   "id": "a16a8376",
   "metadata": {},
   "outputs": [
    {
     "name": "stdout",
     "output_type": "stream",
     "text": [
      "$21,724.52\n"
     ]
    }
   ],
   "source": [
    "pv = 1000\n",
    "rate = 0.08\n",
    "n = 40\n",
    "\n",
    "for i in range(0,n):\n",
    "    pv = (pv * rate) + pv\n",
    "    \n",
    "pv = \"${:,.2f}\".format(pv)\n",
    "print (pv)"
   ]
  },
  {
   "cell_type": "code",
   "execution_count": 44,
   "id": "efac1656",
   "metadata": {},
   "outputs": [
    {
     "name": "stdout",
     "output_type": "stream",
     "text": [
      "Happy Home because dogs = True and no cats\n",
      "Happy Home because cats = True and no dogs\n",
      "False Not a Happy Home\n",
      "Happy Home because dogs = True and no cats\n",
      "Happy Home because cats = True and no dogs\n",
      "False Not a Happy Home\n"
     ]
    }
   ],
   "source": [
    "def happyHome(cats, dogs):\n",
    "    cat_count = cats\n",
    "    dog_count = dogs\n",
    "    \n",
    "    if cat_count > 0:\n",
    "        has_cats = True\n",
    "    elif cat_count <= 0:\n",
    "        has_cats = False\n",
    "    if dog_count > 0:\n",
    "        has_dogs = True\n",
    "    elif dog_count <= 0:\n",
    "        has_dogs = False\n",
    "                \n",
    "    if has_cats == True and has_dogs == False:\n",
    "        print('Happy Home because cats =', has_cats, 'and no dogs')\n",
    "    elif has_dogs == True and has_cats == False:\n",
    "        print('Happy Home because dogs =', has_dogs, 'and no cats')\n",
    "    else:\n",
    "        print(False, 'Not a Happy Home')\n",
    "        \n",
    "\n",
    "happyHome(0,2)\n",
    "happyHome(3,0)\n",
    "happyHome(1,2)\n",
    "happyHome(-1,3)\n",
    "happyHome(2,-3)\n",
    "happyHome(-2,-1)\n"
   ]
  },
  {
   "cell_type": "code",
   "execution_count": 23,
   "id": "983e2b83",
   "metadata": {},
   "outputs": [
    {
     "name": "stdout",
     "output_type": "stream",
     "text": [
      "How many cats do you have?\n",
      "2\n",
      "How many dogs do you have?\n",
      "0\n",
      "You have a happy home = True\n"
     ]
    }
   ],
   "source": [
    "print('How many cats do you have?')\n",
    "cat_count = int(input())\n",
    "print('How many dogs do you have?')\n",
    "dog_count = int(input())\n",
    "    \n",
    "has_cats = cat_count > 0\n",
    "has_dogs = dog_count > 0\n",
    "\n",
    "happy_home = (has_cats and not has_dogs) or (not has_cats and has_dogs)\n",
    "\n",
    "\n",
    "if happy_home == True:\n",
    "    print(f'You have a happy home = {happy_home}')\n",
    "else:\n",
    "    print(f'You have too many pets = {happy_home}')\n",
    "\n",
    "          "
   ]
  },
  {
   "cell_type": "code",
   "execution_count": 25,
   "id": "a32a89d0",
   "metadata": {},
   "outputs": [
    {
     "name": "stdout",
     "output_type": "stream",
     "text": [
      "[1, 2, 3, 4, 5, 6, 7, 8, 9, 10]\n",
      "[11, 12, 13, 14, 15, 16, 17, 18, 19, 20]\n",
      "[2, 3, 5, 7]\n",
      "[11, 13, 17, 19]\n",
      "[2, 3, 5, 7, [11, 13, 17, 19]]\n",
      "[2, 3, 5, 7, [11, 13, 17, 19], 11, 13, 17, 19]\n"
     ]
    }
   ],
   "source": [
    "first10 = list(range(1,11))\n",
    "second10 = list(range(11,21))\n",
    "firstprimes = []\n",
    "secondprimes = []\n",
    "\n",
    "print(first10)\n",
    "print(second10)\n",
    "\n",
    "prime = [True for i in range(21)]\n",
    "p = 2\n",
    "        \n",
    "while (p * p <= 20):\n",
    "    if (prime[p] == True):\n",
    "        for i in range(p * p, 21, p):\n",
    "            prime[i] = False\n",
    "    p += 1\n",
    "    \n",
    "for p in range(2, 21):\n",
    "    if prime[p] and p <= 10:\n",
    "        firstprimes.append(p)\n",
    "    elif prime[p] and p > 10:\n",
    "        secondprimes.append(p)\n",
    "\n",
    "first10 = [x for x in first10 if x in firstprimes]\n",
    "second10 = [x for x in second10 if x in secondprimes]\n",
    "\n",
    "print(first10)\n",
    "print(second10)\n",
    "\n",
    "first10.append(second10)\n",
    "print(first10)\n",
    "\n",
    "first10.extend(second10)\n",
    "print(first10)"
   ]
  },
  {
   "cell_type": "code",
   "execution_count": 17,
   "id": "81614ae9",
   "metadata": {},
   "outputs": [
    {
     "name": "stdout",
     "output_type": "stream",
     "text": [
      "One EUR = 1.4325759493670884 CAD\n",
      "One BTC = 51013.93 USD\n",
      "One EUR = 2.2184822851327077e-05 BTC\n",
      "One USD = 1.2658227848101264 CAD\n",
      "One CAD = 1.5485966284111026e-05 BTC\n"
     ]
    },
    {
     "ename": "KeyError",
     "evalue": "'YEN'",
     "output_type": "error",
     "traceback": [
      "\u001b[0;31m---------------------------------------------------------------------------\u001b[0m",
      "\u001b[0;31mKeyError\u001b[0m                                  Traceback (most recent call last)",
      "Input \u001b[0;32mIn [17]\u001b[0m, in \u001b[0;36m<module>\u001b[0;34m\u001b[0m\n\u001b[1;32m     11\u001b[0m currencyconversion(\u001b[38;5;124m'\u001b[39m\u001b[38;5;124mUSD\u001b[39m\u001b[38;5;124m'\u001b[39m, \u001b[38;5;124m'\u001b[39m\u001b[38;5;124mCAD\u001b[39m\u001b[38;5;124m'\u001b[39m)\n\u001b[1;32m     12\u001b[0m currencyconversion(\u001b[38;5;124m'\u001b[39m\u001b[38;5;124mCAD\u001b[39m\u001b[38;5;124m'\u001b[39m, \u001b[38;5;124m'\u001b[39m\u001b[38;5;124mBTC\u001b[39m\u001b[38;5;124m'\u001b[39m)\n\u001b[0;32m---> 14\u001b[0m \u001b[43mcurrencyconversion\u001b[49m\u001b[43m(\u001b[49m\u001b[38;5;124;43m'\u001b[39;49m\u001b[38;5;124;43mEUR\u001b[39;49m\u001b[38;5;124;43m'\u001b[39;49m\u001b[43m,\u001b[49m\u001b[43m \u001b[49m\u001b[38;5;124;43m'\u001b[39;49m\u001b[38;5;124;43mYEN\u001b[39;49m\u001b[38;5;124;43m'\u001b[39;49m\u001b[43m)\u001b[49m\n",
      "Input \u001b[0;32mIn [17]\u001b[0m, in \u001b[0;36mcurrencyconversion\u001b[0;34m(base, convert)\u001b[0m\n\u001b[1;32m      4\u001b[0m \u001b[38;5;28;01mdef\u001b[39;00m \u001b[38;5;21mcurrencyconversion\u001b[39m(base, convert):\n\u001b[0;32m----> 5\u001b[0m     exchange \u001b[38;5;241m=\u001b[39m money1[base] \u001b[38;5;241m*\u001b[39m (\u001b[38;5;241m1\u001b[39m \u001b[38;5;241m/\u001b[39m \u001b[43mmoney1\u001b[49m\u001b[43m[\u001b[49m\u001b[43mconvert\u001b[49m\u001b[43m]\u001b[49m)\n\u001b[1;32m      6\u001b[0m     \u001b[38;5;28mprint\u001b[39m(\u001b[38;5;124m'\u001b[39m\u001b[38;5;124mOne\u001b[39m\u001b[38;5;124m'\u001b[39m, base, \u001b[38;5;124m'\u001b[39m\u001b[38;5;124m=\u001b[39m\u001b[38;5;124m'\u001b[39m, exchange, convert)\n",
      "\u001b[0;31mKeyError\u001b[0m: 'YEN'"
     ]
    }
   ],
   "source": [
    "money1 = {'USD':1.00, 'BTC':51013.93, 'EUR':1.131735}\n",
    "money1['CAD'] = 0.79\n",
    "\n",
    "def currencyconversion(base, convert):\n",
    "    exchange = money1[base] * (1 / money1[convert])\n",
    "    print('One', base, '=', exchange, convert)\n",
    "\n",
    "currencyconversion('EUR', 'CAD')\n",
    "currencyconversion('BTC', 'USD')\n",
    "currencyconversion('EUR', 'BTC')\n",
    "currencyconversion('USD', 'CAD')\n",
    "currencyconversion('CAD', 'BTC')\n",
    "\n",
    "currencyconversion('EUR', 'YEN')"
   ]
  },
  {
   "cell_type": "code",
   "execution_count": 30,
   "id": "e915b90a",
   "metadata": {},
   "outputs": [
    {
     "name": "stdout",
     "output_type": "stream",
     "text": [
      "47.69696007084728\n"
     ]
    }
   ],
   "source": [
    "x1 = 5\n",
    "x2 = 9\n",
    "y1 = 12\n",
    "y2 = 45\n",
    "\n",
    "point1 = (x1, y1)\n",
    "point2 = (x2, y2)\n",
    "\n",
    "magnitude = ((point1[0]**2+point1[1]**2)+(point2[0]**2+point2[1]**2))**0.5\n",
    "\n",
    "print(magnitude)"
   ]
  }
 ],
 "metadata": {
  "kernelspec": {
   "display_name": "Python 3 (ipykernel)",
   "language": "python",
   "name": "python3"
  },
  "language_info": {
   "codemirror_mode": {
    "name": "ipython",
    "version": 3
   },
   "file_extension": ".py",
   "mimetype": "text/x-python",
   "name": "python",
   "nbconvert_exporter": "python",
   "pygments_lexer": "ipython3",
   "version": "3.10.2"
  }
 },
 "nbformat": 4,
 "nbformat_minor": 5
}
