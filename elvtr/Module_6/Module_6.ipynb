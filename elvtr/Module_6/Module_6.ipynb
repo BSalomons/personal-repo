{
 "cells": [
  {
   "cell_type": "markdown",
   "id": "31cd29e7",
   "metadata": {},
   "source": [
    "# Gold and deflator in one spreadsheet\n"
   ]
  },
  {
   "cell_type": "code",
   "execution_count": 1,
   "id": "8b9f2b43",
   "metadata": {},
   "outputs": [
    {
     "name": "stdout",
     "output_type": "stream",
     "text": [
      "Read in 215 records from gold and GDP deflator.xls.\n"
     ]
    },
    {
     "data": {
      "text/html": [
       "<div>\n",
       "<style scoped>\n",
       "    .dataframe tbody tr th:only-of-type {\n",
       "        vertical-align: middle;\n",
       "    }\n",
       "\n",
       "    .dataframe tbody tr th {\n",
       "        vertical-align: top;\n",
       "    }\n",
       "\n",
       "    .dataframe thead th {\n",
       "        text-align: right;\n",
       "    }\n",
       "</style>\n",
       "<table border=\"1\" class=\"dataframe\">\n",
       "  <thead>\n",
       "    <tr style=\"text-align: right;\">\n",
       "      <th></th>\n",
       "      <th>observation_date</th>\n",
       "      <th>GOLDAMGBD228NLBM</th>\n",
       "      <th>GDPDEF</th>\n",
       "    </tr>\n",
       "  </thead>\n",
       "  <tbody>\n",
       "    <tr>\n",
       "      <th>210</th>\n",
       "      <td>2020-10-01</td>\n",
       "      <td>1875.700781</td>\n",
       "      <td>114.439</td>\n",
       "    </tr>\n",
       "    <tr>\n",
       "      <th>211</th>\n",
       "      <td>2021-01-01</td>\n",
       "      <td>1797.926984</td>\n",
       "      <td>115.652</td>\n",
       "    </tr>\n",
       "    <tr>\n",
       "      <th>212</th>\n",
       "      <td>2021-04-01</td>\n",
       "      <td>1814.324590</td>\n",
       "      <td>117.413</td>\n",
       "    </tr>\n",
       "    <tr>\n",
       "      <th>213</th>\n",
       "      <td>2021-07-01</td>\n",
       "      <td>1790.398462</td>\n",
       "      <td>119.115</td>\n",
       "    </tr>\n",
       "    <tr>\n",
       "      <th>214</th>\n",
       "      <td>2021-10-01</td>\n",
       "      <td>1794.878906</td>\n",
       "      <td>NaN</td>\n",
       "    </tr>\n",
       "  </tbody>\n",
       "</table>\n",
       "</div>"
      ],
      "text/plain": [
       "    observation_date  GOLDAMGBD228NLBM   GDPDEF\n",
       "210       2020-10-01       1875.700781  114.439\n",
       "211       2021-01-01       1797.926984  115.652\n",
       "212       2021-04-01       1814.324590  117.413\n",
       "213       2021-07-01       1790.398462  119.115\n",
       "214       2021-10-01       1794.878906      NaN"
      ]
     },
     "execution_count": 1,
     "metadata": {},
     "output_type": "execute_result"
    }
   ],
   "source": [
    "import pandas as pd\n",
    "filename = 'gold and GDP deflator.xls'\n",
    "gdp_df = pd.read_excel(filename, sheet_name='FRED Graph', header=11)\n",
    "print(f'Read in {len(gdp_df)} records from {filename}.')\n",
    "gdp_df.tail()"
   ]
  },
  {
   "cell_type": "code",
   "execution_count": 2,
   "id": "f631a45e",
   "metadata": {},
   "outputs": [
    {
     "data": {
      "text/html": [
       "<div>\n",
       "<style scoped>\n",
       "    .dataframe tbody tr th:only-of-type {\n",
       "        vertical-align: middle;\n",
       "    }\n",
       "\n",
       "    .dataframe tbody tr th {\n",
       "        vertical-align: top;\n",
       "    }\n",
       "\n",
       "    .dataframe thead th {\n",
       "        text-align: right;\n",
       "    }\n",
       "</style>\n",
       "<table border=\"1\" class=\"dataframe\">\n",
       "  <thead>\n",
       "    <tr style=\"text-align: right;\">\n",
       "      <th></th>\n",
       "      <th>observation_date</th>\n",
       "      <th>GOLDAMGBD228NLBM</th>\n",
       "      <th>GDPDEF</th>\n",
       "    </tr>\n",
       "  </thead>\n",
       "  <tbody>\n",
       "    <tr>\n",
       "      <th>209</th>\n",
       "      <td>2020-07-01</td>\n",
       "      <td>1908.899231</td>\n",
       "      <td>113.888</td>\n",
       "    </tr>\n",
       "    <tr>\n",
       "      <th>210</th>\n",
       "      <td>2020-10-01</td>\n",
       "      <td>1875.700781</td>\n",
       "      <td>114.439</td>\n",
       "    </tr>\n",
       "    <tr>\n",
       "      <th>211</th>\n",
       "      <td>2021-01-01</td>\n",
       "      <td>1797.926984</td>\n",
       "      <td>115.652</td>\n",
       "    </tr>\n",
       "    <tr>\n",
       "      <th>212</th>\n",
       "      <td>2021-04-01</td>\n",
       "      <td>1814.324590</td>\n",
       "      <td>117.413</td>\n",
       "    </tr>\n",
       "    <tr>\n",
       "      <th>213</th>\n",
       "      <td>2021-07-01</td>\n",
       "      <td>1790.398462</td>\n",
       "      <td>119.115</td>\n",
       "    </tr>\n",
       "  </tbody>\n",
       "</table>\n",
       "</div>"
      ],
      "text/plain": [
       "    observation_date  GOLDAMGBD228NLBM   GDPDEF\n",
       "209       2020-07-01       1908.899231  113.888\n",
       "210       2020-10-01       1875.700781  114.439\n",
       "211       2021-01-01       1797.926984  115.652\n",
       "212       2021-04-01       1814.324590  117.413\n",
       "213       2021-07-01       1790.398462  119.115"
      ]
     },
     "execution_count": 2,
     "metadata": {},
     "output_type": "execute_result"
    }
   ],
   "source": [
    "gdp_df.dropna(how='any', inplace=True)\n",
    "gdp_df.tail()"
   ]
  },
  {
   "cell_type": "code",
   "execution_count": 3,
   "id": "34ee58a1",
   "metadata": {},
   "outputs": [],
   "source": [
    "gdp_df.set_index('observation_date', inplace=True)\n",
    "gdp_df['quotient'] = gdp_df.GOLDAMGBD228NLBM / gdp_df.GDPDEF"
   ]
  },
  {
   "cell_type": "code",
   "execution_count": 4,
   "id": "017d8bfb",
   "metadata": {},
   "outputs": [
    {
     "data": {
      "text/html": [
       "<div>\n",
       "<style scoped>\n",
       "    .dataframe tbody tr th:only-of-type {\n",
       "        vertical-align: middle;\n",
       "    }\n",
       "\n",
       "    .dataframe tbody tr th {\n",
       "        vertical-align: top;\n",
       "    }\n",
       "\n",
       "    .dataframe thead th {\n",
       "        text-align: right;\n",
       "    }\n",
       "</style>\n",
       "<table border=\"1\" class=\"dataframe\">\n",
       "  <thead>\n",
       "    <tr style=\"text-align: right;\">\n",
       "      <th></th>\n",
       "      <th>GOLDAMGBD228NLBM</th>\n",
       "      <th>GDPDEF</th>\n",
       "      <th>quotient</th>\n",
       "    </tr>\n",
       "    <tr>\n",
       "      <th>observation_date</th>\n",
       "      <th></th>\n",
       "      <th></th>\n",
       "      <th></th>\n",
       "    </tr>\n",
       "  </thead>\n",
       "  <tbody>\n",
       "    <tr>\n",
       "      <th>1968-04-01</th>\n",
       "      <td>39.912097</td>\n",
       "      <td>19.499</td>\n",
       "      <td>2.046879</td>\n",
       "    </tr>\n",
       "    <tr>\n",
       "      <th>1968-07-01</th>\n",
       "      <td>39.615385</td>\n",
       "      <td>19.690</td>\n",
       "      <td>2.011955</td>\n",
       "    </tr>\n",
       "    <tr>\n",
       "      <th>1968-10-01</th>\n",
       "      <td>39.996484</td>\n",
       "      <td>19.968</td>\n",
       "      <td>2.003029</td>\n",
       "    </tr>\n",
       "    <tr>\n",
       "      <th>1969-01-01</th>\n",
       "      <td>42.687698</td>\n",
       "      <td>20.174</td>\n",
       "      <td>2.115976</td>\n",
       "    </tr>\n",
       "    <tr>\n",
       "      <th>1969-04-01</th>\n",
       "      <td>42.723387</td>\n",
       "      <td>20.431</td>\n",
       "      <td>2.091106</td>\n",
       "    </tr>\n",
       "  </tbody>\n",
       "</table>\n",
       "</div>"
      ],
      "text/plain": [
       "                  GOLDAMGBD228NLBM  GDPDEF  quotient\n",
       "observation_date                                    \n",
       "1968-04-01               39.912097  19.499  2.046879\n",
       "1968-07-01               39.615385  19.690  2.011955\n",
       "1968-10-01               39.996484  19.968  2.003029\n",
       "1969-01-01               42.687698  20.174  2.115976\n",
       "1969-04-01               42.723387  20.431  2.091106"
      ]
     },
     "execution_count": 4,
     "metadata": {},
     "output_type": "execute_result"
    }
   ],
   "source": [
    "gdp_df.head()"
   ]
  },
  {
   "cell_type": "code",
   "execution_count": 5,
   "id": "84a3047d",
   "metadata": {},
   "outputs": [
    {
     "name": "stdout",
     "output_type": "stream",
     "text": [
      "Dates range from 4/1968 to 7/2021\n"
     ]
    }
   ],
   "source": [
    "numpy_datetimes = gdp_df.index.values\n",
    "first_yr = pd.to_datetime(numpy_datetimes).min().year\n",
    "first_mo = pd.to_datetime(numpy_datetimes).min().month\n",
    "last_yr = pd.to_datetime(numpy_datetimes).max().year\n",
    "last_mo = pd.to_datetime(numpy_datetimes).max().month\n",
    "print(f'Dates range from {first_mo}/{first_yr} to {last_mo}/{last_yr}')"
   ]
  },
  {
   "cell_type": "markdown",
   "id": "d335a9e1",
   "metadata": {},
   "source": [
    "# Seaborn\n",
    "\n",
    "Out of the box"
   ]
  },
  {
   "cell_type": "code",
   "execution_count": 6,
   "id": "60153bbb",
   "metadata": {},
   "outputs": [
    {
     "data": {
      "text/plain": [
       "<AxesSubplot:xlabel='observation_date'>"
      ]
     },
     "execution_count": 6,
     "metadata": {},
     "output_type": "execute_result"
    },
    {
     "data": {
      "image/png": "[encoded data removed]",
      "text/plain": [
       "<Figure size 432x288 with 1 Axes>"
      ]
     },
     "metadata": {
      "needs_background": "light"
     },
     "output_type": "display_data"
    }
   ],
   "source": [
    "import seaborn as sns\n",
    "sns.lineplot(data=gdp_df)"
   ]
  },
  {
   "cell_type": "markdown",
   "id": "9f0810de",
   "metadata": {},
   "source": [
    "# Matplotlib\n",
    "\n",
    "Seaborn has all the info from a single line of code. But scaling helps tell the picture.\n",
    "\n",
    "Two y-axes with different scales: https://matplotlib.org/stable/gallery/subplots_axes_and_figures/two_scales.html\n",
    "(twinx is the key)"
   ]
  },
  {
   "cell_type": "code",
   "execution_count": 7,
   "id": "263267a2",
   "metadata": {},
   "outputs": [
    {
     "data": {
      "image/png": "[encoded data removed]",
      "text/plain": [
       "<Figure size 720x432 with 2 Axes>"
      ]
     },
     "metadata": {
      "needs_background": "light"
     },
     "output_type": "display_data"
    }
   ],
   "source": [
    "import numpy as np\n",
    "import matplotlib.pyplot as plt\n",
    "\n",
    "t = np.linspace(first_yr + first_mo/12, last_yr + last_mo / 12, len(gdp_df))\n",
    "data1 = gdp_df.GOLDAMGBD228NLBM\n",
    "data2 = gdp_df.GDPDEF\n",
    "\n",
    "fig, ax1 = plt.subplots()\n",
    "fig.set_size_inches(10, 6)\n",
    "\n",
    "color = 'tab:red'\n",
    "ax1.set_xlabel('date')\n",
    "ax1.set_ylabel('Gold (in USD)', color=color)\n",
    "ax1.plot(t, data1, color=color)\n",
    "ax1.tick_params(axis='y', labelcolor=color)\n",
    "\n",
    "ax2 = ax1.twinx()  # instantiate a second axes that shares the same x-axis\n",
    "\n",
    "color = 'tab:blue'\n",
    "ax2.set_ylabel('GDP Deflator (2012=100)', color=color)  # we already handled the x-label with ax1\n",
    "ax2.plot(t, data2, color=color)\n",
    "ax2.tick_params(axis='y', labelcolor=color)\n",
    "\n",
    "fig.tight_layout()  # otherwise the right y-label is slightly clipped\n",
    "plt.show()"
   ]
  },
  {
   "cell_type": "markdown",
   "id": "11ebc652",
   "metadata": {},
   "source": [
    "# Using charts to persuade\n",
    "\n",
    "Please, please, please: Use your new-found powers for good.\n",
    "\n",
    "## Covid and the anti-vaxxers\n",
    "\n",
    "Reference: https://fivethirtyeight.com/features/unvaccinated-america-in-5-charts/\n",
    "\n",
    "which refers to https://www.kff.org/policy-watch/covid-19-vaccine-breakthrough-cases-data-from-the-states/"
   ]
  },
  {
   "cell_type": "code",
   "execution_count": 8,
   "id": "00d0d8c8",
   "metadata": {},
   "outputs": [
    {
     "name": "stdout",
     "output_type": "stream",
     "text": [
      "Read in 55 records from KFF Covid 19 vaccine breakthrough cases by state.xlsx.\n"
     ]
    },
    {
     "data": {
      "text/html": [
       "<div>\n",
       "<style scoped>\n",
       "    .dataframe tbody tr th:only-of-type {\n",
       "        vertical-align: middle;\n",
       "    }\n",
       "\n",
       "    .dataframe tbody tr th {\n",
       "        vertical-align: top;\n",
       "    }\n",
       "\n",
       "    .dataframe thead th {\n",
       "        text-align: right;\n",
       "    }\n",
       "</style>\n",
       "<table border=\"1\" class=\"dataframe\">\n",
       "  <thead>\n",
       "    <tr style=\"text-align: right;\">\n",
       "      <th></th>\n",
       "      <th>State</th>\n",
       "      <th>Observation Period*</th>\n",
       "      <th>Update Frequency</th>\n",
       "      <th>Total Number of Fully Vaccinated People</th>\n",
       "      <th>Total Number of COVID-19 Cases During Observation Period</th>\n",
       "      <th>Number of Fully Vaccinated People Diagnosed with COVID-19</th>\n",
       "      <th>Total Number of COVID-19 Hospitalizations During Observation Period</th>\n",
       "      <th>Number of Fully Vaccinated People Hospitalized with COVID-19**</th>\n",
       "      <th>Total Number of COVID-19 Deaths During Observation Period</th>\n",
       "      <th>Number of Fully Vaccinated People Who Have Died with COVID-19**</th>\n",
       "      <th>Source</th>\n",
       "    </tr>\n",
       "  </thead>\n",
       "  <tbody>\n",
       "    <tr>\n",
       "      <th>0</th>\n",
       "      <td>Alabama</td>\n",
       "      <td>NaN</td>\n",
       "      <td>NaN</td>\n",
       "      <td>NaN</td>\n",
       "      <td>NaN</td>\n",
       "      <td>NaN</td>\n",
       "      <td>NaN</td>\n",
       "      <td>NaN</td>\n",
       "      <td>NaN</td>\n",
       "      <td>NaN</td>\n",
       "      <td>NaN</td>\n",
       "    </tr>\n",
       "    <tr>\n",
       "      <th>1</th>\n",
       "      <td>Alaska</td>\n",
       "      <td>1/1/21 - 7/17/21</td>\n",
       "      <td>Weekly</td>\n",
       "      <td>331185.0</td>\n",
       "      <td>23529.0</td>\n",
       "      <td>948.0</td>\n",
       "      <td>562.0</td>\n",
       "      <td>28.0</td>\n",
       "      <td>86.0</td>\n",
       "      <td>2.0</td>\n",
       "      <td>https://content.govdelivery.com/accounts/AKDHS...</td>\n",
       "    </tr>\n",
       "    <tr>\n",
       "      <th>2</th>\n",
       "      <td>Arizona</td>\n",
       "      <td>Cases: 5/1/21 - 6/30/21, Deaths: 1/1/21 - 7/14/21</td>\n",
       "      <td>Periodic</td>\n",
       "      <td>3236843.0</td>\n",
       "      <td>29821.0</td>\n",
       "      <td>1759.0</td>\n",
       "      <td>NaN</td>\n",
       "      <td>NaN</td>\n",
       "      <td>9232.0</td>\n",
       "      <td>92.0</td>\n",
       "      <td>https://directorsblog.health.azdhs.gov/uptick-...</td>\n",
       "    </tr>\n",
       "    <tr>\n",
       "      <th>3</th>\n",
       "      <td>Arkansas</td>\n",
       "      <td>1/1/21 - 7/29/21</td>\n",
       "      <td>One-time</td>\n",
       "      <td>1044173.0</td>\n",
       "      <td>157431.0</td>\n",
       "      <td>5683.0</td>\n",
       "      <td>13474.0</td>\n",
       "      <td>627.0</td>\n",
       "      <td>2611.0</td>\n",
       "      <td>68.0</td>\n",
       "      <td>Personal communication</td>\n",
       "    </tr>\n",
       "    <tr>\n",
       "      <th>4</th>\n",
       "      <td>California</td>\n",
       "      <td>1/1/21 - 7/22/21</td>\n",
       "      <td>Weekly</td>\n",
       "      <td>20927113.0</td>\n",
       "      <td>1558985.0</td>\n",
       "      <td>21083.0</td>\n",
       "      <td>118178.0</td>\n",
       "      <td>934.0</td>\n",
       "      <td>38154.0</td>\n",
       "      <td>93.0</td>\n",
       "      <td>https://www.cdph.ca.gov/Programs/CID/DCDC/Page...</td>\n",
       "    </tr>\n",
       "  </tbody>\n",
       "</table>\n",
       "</div>"
      ],
      "text/plain": [
       "        State                                Observation Period*  \\\n",
       "0     Alabama                                                NaN   \n",
       "1      Alaska                                   1/1/21 - 7/17/21   \n",
       "2     Arizona  Cases: 5/1/21 - 6/30/21, Deaths: 1/1/21 - 7/14/21   \n",
       "3    Arkansas                                   1/1/21 - 7/29/21   \n",
       "4  California                                   1/1/21 - 7/22/21   \n",
       "\n",
       "  Update Frequency  Total Number of Fully Vaccinated People  \\\n",
       "0              NaN                                      NaN   \n",
       "1           Weekly                                 331185.0   \n",
       "2         Periodic                                3236843.0   \n",
       "3         One-time                                1044173.0   \n",
       "4           Weekly                               20927113.0   \n",
       "\n",
       "   Total Number of COVID-19 Cases During Observation Period  \\\n",
       "0                                                NaN          \n",
       "1                                            23529.0          \n",
       "2                                            29821.0          \n",
       "3                                           157431.0          \n",
       "4                                          1558985.0          \n",
       "\n",
       "   Number of Fully Vaccinated People Diagnosed with COVID-19  \\\n",
       "0                                                NaN           \n",
       "1                                              948.0           \n",
       "2                                             1759.0           \n",
       "3                                             5683.0           \n",
       "4                                            21083.0           \n",
       "\n",
       "   Total Number of COVID-19 Hospitalizations During Observation Period  \\\n",
       "0                                                NaN                     \n",
       "1                                              562.0                     \n",
       "2                                                NaN                     \n",
       "3                                            13474.0                     \n",
       "4                                           118178.0                     \n",
       "\n",
       "   Number of Fully Vaccinated People Hospitalized with COVID-19**  \\\n",
       "0                                                NaN                \n",
       "1                                               28.0                \n",
       "2                                                NaN                \n",
       "3                                              627.0                \n",
       "4                                              934.0                \n",
       "\n",
       "   Total Number of COVID-19 Deaths During Observation Period  \\\n",
       "0                                                NaN           \n",
       "1                                               86.0           \n",
       "2                                             9232.0           \n",
       "3                                             2611.0           \n",
       "4                                            38154.0           \n",
       "\n",
       "   Number of Fully Vaccinated People Who Have Died with COVID-19**  \\\n",
       "0                                                NaN                 \n",
       "1                                                2.0                 \n",
       "2                                               92.0                 \n",
       "3                                               68.0                 \n",
       "4                                               93.0                 \n",
       "\n",
       "                                              Source  \n",
       "0                                                NaN  \n",
       "1  https://content.govdelivery.com/accounts/AKDHS...  \n",
       "2  https://directorsblog.health.azdhs.gov/uptick-...  \n",
       "3                             Personal communication  \n",
       "4  https://www.cdph.ca.gov/Programs/CID/DCDC/Page...  "
      ]
     },
     "execution_count": 8,
     "metadata": {},
     "output_type": "execute_result"
    }
   ],
   "source": [
    "import pandas as pd\n",
    "filename = 'KFF Covid 19 vaccine breakthrough cases by state.xlsx'\n",
    "covid_df = pd.read_excel(filename, sheet_name='Sheet1', header=0)\n",
    "print(f'Read in {len(covid_df)} records from {filename}.')\n",
    "covid_df.head()"
   ]
  },
  {
   "cell_type": "code",
   "execution_count": 9,
   "id": "e2d8b950",
   "metadata": {},
   "outputs": [
    {
     "data": {
      "text/html": [
       "<div>\n",
       "<style scoped>\n",
       "    .dataframe tbody tr th:only-of-type {\n",
       "        vertical-align: middle;\n",
       "    }\n",
       "\n",
       "    .dataframe tbody tr th {\n",
       "        vertical-align: top;\n",
       "    }\n",
       "\n",
       "    .dataframe thead th {\n",
       "        text-align: right;\n",
       "    }\n",
       "</style>\n",
       "<table border=\"1\" class=\"dataframe\">\n",
       "  <thead>\n",
       "    <tr style=\"text-align: right;\">\n",
       "      <th></th>\n",
       "      <th>State</th>\n",
       "      <th>Observation Period</th>\n",
       "      <th>Update Frequency</th>\n",
       "      <th>Total Number of Fully Vaccinated People</th>\n",
       "      <th>Total Number of COVID-19 Cases During Observation Period</th>\n",
       "      <th>Number of Fully Vaccinated People Diagnosed with COVID-19</th>\n",
       "      <th>Total Number of COVID-19 Hospitalizations During Observation Period</th>\n",
       "      <th>Number of Fully Vaccinated People Hospitalized with COVID-19</th>\n",
       "      <th>Total Number of COVID-19 Deaths During Observation Period</th>\n",
       "      <th>Number of Fully Vaccinated People Who Have Died with COVID-19</th>\n",
       "      <th>Source</th>\n",
       "    </tr>\n",
       "  </thead>\n",
       "  <tbody>\n",
       "    <tr>\n",
       "      <th>0</th>\n",
       "      <td>Alabama</td>\n",
       "      <td>NaN</td>\n",
       "      <td>NaN</td>\n",
       "      <td>NaN</td>\n",
       "      <td>NaN</td>\n",
       "      <td>NaN</td>\n",
       "      <td>NaN</td>\n",
       "      <td>NaN</td>\n",
       "      <td>NaN</td>\n",
       "      <td>NaN</td>\n",
       "      <td>NaN</td>\n",
       "    </tr>\n",
       "    <tr>\n",
       "      <th>1</th>\n",
       "      <td>Alaska</td>\n",
       "      <td>1/1/21 - 7/17/21</td>\n",
       "      <td>Weekly</td>\n",
       "      <td>331185.0</td>\n",
       "      <td>23529.0</td>\n",
       "      <td>948.0</td>\n",
       "      <td>562.0</td>\n",
       "      <td>28.0</td>\n",
       "      <td>86.0</td>\n",
       "      <td>2.0</td>\n",
       "      <td>https://content.govdelivery.com/accounts/AKDHS...</td>\n",
       "    </tr>\n",
       "    <tr>\n",
       "      <th>2</th>\n",
       "      <td>Arizona</td>\n",
       "      <td>Cases: 5/1/21 - 6/30/21, Deaths: 1/1/21 - 7/14/21</td>\n",
       "      <td>Periodic</td>\n",
       "      <td>3236843.0</td>\n",
       "      <td>29821.0</td>\n",
       "      <td>1759.0</td>\n",
       "      <td>NaN</td>\n",
       "      <td>NaN</td>\n",
       "      <td>9232.0</td>\n",
       "      <td>92.0</td>\n",
       "      <td>https://directorsblog.health.azdhs.gov/uptick-...</td>\n",
       "    </tr>\n",
       "    <tr>\n",
       "      <th>3</th>\n",
       "      <td>Arkansas</td>\n",
       "      <td>1/1/21 - 7/29/21</td>\n",
       "      <td>One-time</td>\n",
       "      <td>1044173.0</td>\n",
       "      <td>157431.0</td>\n",
       "      <td>5683.0</td>\n",
       "      <td>13474.0</td>\n",
       "      <td>627.0</td>\n",
       "      <td>2611.0</td>\n",
       "      <td>68.0</td>\n",
       "      <td>Personal communication</td>\n",
       "    </tr>\n",
       "    <tr>\n",
       "      <th>4</th>\n",
       "      <td>California</td>\n",
       "      <td>1/1/21 - 7/22/21</td>\n",
       "      <td>Weekly</td>\n",
       "      <td>20927113.0</td>\n",
       "      <td>1558985.0</td>\n",
       "      <td>21083.0</td>\n",
       "      <td>118178.0</td>\n",
       "      <td>934.0</td>\n",
       "      <td>38154.0</td>\n",
       "      <td>93.0</td>\n",
       "      <td>https://www.cdph.ca.gov/Programs/CID/DCDC/Page...</td>\n",
       "    </tr>\n",
       "  </tbody>\n",
       "</table>\n",
       "</div>"
      ],
      "text/plain": [
       "        State                                 Observation Period  \\\n",
       "0     Alabama                                                NaN   \n",
       "1      Alaska                                   1/1/21 - 7/17/21   \n",
       "2     Arizona  Cases: 5/1/21 - 6/30/21, Deaths: 1/1/21 - 7/14/21   \n",
       "3    Arkansas                                   1/1/21 - 7/29/21   \n",
       "4  California                                   1/1/21 - 7/22/21   \n",
       "\n",
       "  Update Frequency  Total Number of Fully Vaccinated People  \\\n",
       "0              NaN                                      NaN   \n",
       "1           Weekly                                 331185.0   \n",
       "2         Periodic                                3236843.0   \n",
       "3         One-time                                1044173.0   \n",
       "4           Weekly                               20927113.0   \n",
       "\n",
       "   Total Number of COVID-19 Cases During Observation Period  \\\n",
       "0                                                NaN          \n",
       "1                                            23529.0          \n",
       "2                                            29821.0          \n",
       "3                                           157431.0          \n",
       "4                                          1558985.0          \n",
       "\n",
       "   Number of Fully Vaccinated People Diagnosed with COVID-19  \\\n",
       "0                                                NaN           \n",
       "1                                              948.0           \n",
       "2                                             1759.0           \n",
       "3                                             5683.0           \n",
       "4                                            21083.0           \n",
       "\n",
       "   Total Number of COVID-19 Hospitalizations During Observation Period  \\\n",
       "0                                                NaN                     \n",
       "1                                              562.0                     \n",
       "2                                                NaN                     \n",
       "3                                            13474.0                     \n",
       "4                                           118178.0                     \n",
       "\n",
       "   Number of Fully Vaccinated People Hospitalized with COVID-19  \\\n",
       "0                                                NaN              \n",
       "1                                               28.0              \n",
       "2                                                NaN              \n",
       "3                                              627.0              \n",
       "4                                              934.0              \n",
       "\n",
       "   Total Number of COVID-19 Deaths During Observation Period  \\\n",
       "0                                                NaN           \n",
       "1                                               86.0           \n",
       "2                                             9232.0           \n",
       "3                                             2611.0           \n",
       "4                                            38154.0           \n",
       "\n",
       "   Number of Fully Vaccinated People Who Have Died with COVID-19  \\\n",
       "0                                                NaN               \n",
       "1                                                2.0               \n",
       "2                                               92.0               \n",
       "3                                               68.0               \n",
       "4                                               93.0               \n",
       "\n",
       "                                              Source  \n",
       "0                                                NaN  \n",
       "1  https://content.govdelivery.com/accounts/AKDHS...  \n",
       "2  https://directorsblog.health.azdhs.gov/uptick-...  \n",
       "3                             Personal communication  \n",
       "4  https://www.cdph.ca.gov/Programs/CID/DCDC/Page...  "
      ]
     },
     "execution_count": 9,
     "metadata": {},
     "output_type": "execute_result"
    }
   ],
   "source": [
    "# Take out the * from the column names\n",
    "orig_cols = covid_df.columns\n",
    "rename_dict = {}\n",
    "remove_me = \"*\"\n",
    "for col in orig_cols:\n",
    "    if remove_me in col:\n",
    "        rename_dict[col] = col.replace(remove_me, '')\n",
    "covid_df.rename(columns=rename_dict, inplace=True)\n",
    "covid_df.head()"
   ]
  },
  {
   "cell_type": "code",
   "execution_count": 10,
   "id": "f7df208f",
   "metadata": {},
   "outputs": [
    {
     "data": {
      "text/html": [
       "<div>\n",
       "<style scoped>\n",
       "    .dataframe tbody tr th:only-of-type {\n",
       "        vertical-align: middle;\n",
       "    }\n",
       "\n",
       "    .dataframe tbody tr th {\n",
       "        vertical-align: top;\n",
       "    }\n",
       "\n",
       "    .dataframe thead th {\n",
       "        text-align: right;\n",
       "    }\n",
       "</style>\n",
       "<table border=\"1\" class=\"dataframe\">\n",
       "  <thead>\n",
       "    <tr style=\"text-align: right;\">\n",
       "      <th></th>\n",
       "      <th>State</th>\n",
       "      <th>Total Number of Fully Vaccinated People</th>\n",
       "      <th>Total Number of COVID-19 Cases During Observation Period</th>\n",
       "      <th>Number of Fully Vaccinated People Diagnosed with COVID-19</th>\n",
       "      <th>Total Number of COVID-19 Hospitalizations During Observation Period</th>\n",
       "      <th>Number of Fully Vaccinated People Hospitalized with COVID-19</th>\n",
       "      <th>Total Number of COVID-19 Deaths During Observation Period</th>\n",
       "      <th>Number of Fully Vaccinated People Who Have Died with COVID-19</th>\n",
       "    </tr>\n",
       "  </thead>\n",
       "  <tbody>\n",
       "    <tr>\n",
       "      <th>1</th>\n",
       "      <td>Alaska</td>\n",
       "      <td>331185.0</td>\n",
       "      <td>23529.0</td>\n",
       "      <td>948.0</td>\n",
       "      <td>562.0</td>\n",
       "      <td>28.0</td>\n",
       "      <td>86.0</td>\n",
       "      <td>2.0</td>\n",
       "    </tr>\n",
       "    <tr>\n",
       "      <th>3</th>\n",
       "      <td>Arkansas</td>\n",
       "      <td>1044173.0</td>\n",
       "      <td>157431.0</td>\n",
       "      <td>5683.0</td>\n",
       "      <td>13474.0</td>\n",
       "      <td>627.0</td>\n",
       "      <td>2611.0</td>\n",
       "      <td>68.0</td>\n",
       "    </tr>\n",
       "    <tr>\n",
       "      <th>4</th>\n",
       "      <td>California</td>\n",
       "      <td>20927113.0</td>\n",
       "      <td>1558985.0</td>\n",
       "      <td>21083.0</td>\n",
       "      <td>118178.0</td>\n",
       "      <td>934.0</td>\n",
       "      <td>38154.0</td>\n",
       "      <td>93.0</td>\n",
       "    </tr>\n",
       "    <tr>\n",
       "      <th>7</th>\n",
       "      <td>Delaware</td>\n",
       "      <td>506457.0</td>\n",
       "      <td>53120.0</td>\n",
       "      <td>518.0</td>\n",
       "      <td>3722.0</td>\n",
       "      <td>22.0</td>\n",
       "      <td>636.0</td>\n",
       "      <td>8.0</td>\n",
       "    </tr>\n",
       "    <tr>\n",
       "      <th>8</th>\n",
       "      <td>District of Columbia</td>\n",
       "      <td>469462.0</td>\n",
       "      <td>15918.0</td>\n",
       "      <td>200.0</td>\n",
       "      <td>2685.0</td>\n",
       "      <td>13.0</td>\n",
       "      <td>296.0</td>\n",
       "      <td>4.0</td>\n",
       "    </tr>\n",
       "    <tr>\n",
       "      <th>14</th>\n",
       "      <td>Indiana</td>\n",
       "      <td>2883877.0</td>\n",
       "      <td>247830.0</td>\n",
       "      <td>2720.0</td>\n",
       "      <td>21185.0</td>\n",
       "      <td>132.0</td>\n",
       "      <td>4574.0</td>\n",
       "      <td>46.0</td>\n",
       "    </tr>\n",
       "    <tr>\n",
       "      <th>22</th>\n",
       "      <td>Michigan</td>\n",
       "      <td>4800032.0</td>\n",
       "      <td>473867.0</td>\n",
       "      <td>7696.0</td>\n",
       "      <td>40749.0</td>\n",
       "      <td>529.0</td>\n",
       "      <td>8078.0</td>\n",
       "      <td>217.0</td>\n",
       "    </tr>\n",
       "    <tr>\n",
       "      <th>26</th>\n",
       "      <td>Montana</td>\n",
       "      <td>468821.0</td>\n",
       "      <td>15620.0</td>\n",
       "      <td>500.0</td>\n",
       "      <td>2203.0</td>\n",
       "      <td>51.0</td>\n",
       "      <td>324.0</td>\n",
       "      <td>10.0</td>\n",
       "    </tr>\n",
       "    <tr>\n",
       "      <th>30</th>\n",
       "      <td>New Jersey</td>\n",
       "      <td>2873499.0</td>\n",
       "      <td>547414.0</td>\n",
       "      <td>1319.0</td>\n",
       "      <td>40768.0</td>\n",
       "      <td>30.0</td>\n",
       "      <td>7553.0</td>\n",
       "      <td>7.0</td>\n",
       "    </tr>\n",
       "    <tr>\n",
       "      <th>31</th>\n",
       "      <td>New Mexico</td>\n",
       "      <td>1005056.0</td>\n",
       "      <td>60287.0</td>\n",
       "      <td>696.0</td>\n",
       "      <td>4643.0</td>\n",
       "      <td>15.0</td>\n",
       "      <td>1787.0</td>\n",
       "      <td>6.0</td>\n",
       "    </tr>\n",
       "    <tr>\n",
       "      <th>36</th>\n",
       "      <td>Oklahoma</td>\n",
       "      <td>1566238.0</td>\n",
       "      <td>177283.0</td>\n",
       "      <td>1416.0</td>\n",
       "      <td>17841.0</td>\n",
       "      <td>130.0</td>\n",
       "      <td>4928.0</td>\n",
       "      <td>19.0</td>\n",
       "    </tr>\n",
       "    <tr>\n",
       "      <th>37</th>\n",
       "      <td>Oregon</td>\n",
       "      <td>2223826.0</td>\n",
       "      <td>94731.0</td>\n",
       "      <td>1790.0</td>\n",
       "      <td>5970.0</td>\n",
       "      <td>191.0</td>\n",
       "      <td>1297.0</td>\n",
       "      <td>11.0</td>\n",
       "    </tr>\n",
       "    <tr>\n",
       "      <th>42</th>\n",
       "      <td>Tennessee</td>\n",
       "      <td>2642790.0</td>\n",
       "      <td>292502.0</td>\n",
       "      <td>1035.0</td>\n",
       "      <td>21782.0</td>\n",
       "      <td>204.0</td>\n",
       "      <td>5848.0</td>\n",
       "      <td>31.0</td>\n",
       "    </tr>\n",
       "    <tr>\n",
       "      <th>44</th>\n",
       "      <td>Utah</td>\n",
       "      <td>1450738.0</td>\n",
       "      <td>100935.0</td>\n",
       "      <td>3251.0</td>\n",
       "      <td>5206.0</td>\n",
       "      <td>241.0</td>\n",
       "      <td>639.0</td>\n",
       "      <td>9.0</td>\n",
       "    </tr>\n",
       "    <tr>\n",
       "      <th>46</th>\n",
       "      <td>Virginia</td>\n",
       "      <td>4569489.0</td>\n",
       "      <td>198756.0</td>\n",
       "      <td>1377.0</td>\n",
       "      <td>7149.0</td>\n",
       "      <td>114.0</td>\n",
       "      <td>2489.0</td>\n",
       "      <td>37.0</td>\n",
       "    </tr>\n",
       "    <tr>\n",
       "      <th>47</th>\n",
       "      <td>Washington</td>\n",
       "      <td>4302519.0</td>\n",
       "      <td>174097.0</td>\n",
       "      <td>3446.0</td>\n",
       "      <td>10301.0</td>\n",
       "      <td>228.0</td>\n",
       "      <td>2249.0</td>\n",
       "      <td>48.0</td>\n",
       "    </tr>\n",
       "  </tbody>\n",
       "</table>\n",
       "</div>"
      ],
      "text/plain": [
       "                   State  Total Number of Fully Vaccinated People  \\\n",
       "1                 Alaska                                 331185.0   \n",
       "3               Arkansas                                1044173.0   \n",
       "4             California                               20927113.0   \n",
       "7               Delaware                                 506457.0   \n",
       "8   District of Columbia                                 469462.0   \n",
       "14               Indiana                                2883877.0   \n",
       "22              Michigan                                4800032.0   \n",
       "26               Montana                                 468821.0   \n",
       "30            New Jersey                                2873499.0   \n",
       "31            New Mexico                                1005056.0   \n",
       "36              Oklahoma                                1566238.0   \n",
       "37                Oregon                                2223826.0   \n",
       "42             Tennessee                                2642790.0   \n",
       "44                  Utah                                1450738.0   \n",
       "46              Virginia                                4569489.0   \n",
       "47            Washington                                4302519.0   \n",
       "\n",
       "    Total Number of COVID-19 Cases During Observation Period  \\\n",
       "1                                             23529.0          \n",
       "3                                            157431.0          \n",
       "4                                           1558985.0          \n",
       "7                                             53120.0          \n",
       "8                                             15918.0          \n",
       "14                                           247830.0          \n",
       "22                                           473867.0          \n",
       "26                                            15620.0          \n",
       "30                                           547414.0          \n",
       "31                                            60287.0          \n",
       "36                                           177283.0          \n",
       "37                                            94731.0          \n",
       "42                                           292502.0          \n",
       "44                                           100935.0          \n",
       "46                                           198756.0          \n",
       "47                                           174097.0          \n",
       "\n",
       "    Number of Fully Vaccinated People Diagnosed with COVID-19  \\\n",
       "1                                               948.0           \n",
       "3                                              5683.0           \n",
       "4                                             21083.0           \n",
       "7                                               518.0           \n",
       "8                                               200.0           \n",
       "14                                             2720.0           \n",
       "22                                             7696.0           \n",
       "26                                              500.0           \n",
       "30                                             1319.0           \n",
       "31                                              696.0           \n",
       "36                                             1416.0           \n",
       "37                                             1790.0           \n",
       "42                                             1035.0           \n",
       "44                                             3251.0           \n",
       "46                                             1377.0           \n",
       "47                                             3446.0           \n",
       "\n",
       "    Total Number of COVID-19 Hospitalizations During Observation Period  \\\n",
       "1                                               562.0                     \n",
       "3                                             13474.0                     \n",
       "4                                            118178.0                     \n",
       "7                                              3722.0                     \n",
       "8                                              2685.0                     \n",
       "14                                            21185.0                     \n",
       "22                                            40749.0                     \n",
       "26                                             2203.0                     \n",
       "30                                            40768.0                     \n",
       "31                                             4643.0                     \n",
       "36                                            17841.0                     \n",
       "37                                             5970.0                     \n",
       "42                                            21782.0                     \n",
       "44                                             5206.0                     \n",
       "46                                             7149.0                     \n",
       "47                                            10301.0                     \n",
       "\n",
       "    Number of Fully Vaccinated People Hospitalized with COVID-19  \\\n",
       "1                                                28.0              \n",
       "3                                               627.0              \n",
       "4                                               934.0              \n",
       "7                                                22.0              \n",
       "8                                                13.0              \n",
       "14                                              132.0              \n",
       "22                                              529.0              \n",
       "26                                               51.0              \n",
       "30                                               30.0              \n",
       "31                                               15.0              \n",
       "36                                              130.0              \n",
       "37                                              191.0              \n",
       "42                                              204.0              \n",
       "44                                              241.0              \n",
       "46                                              114.0              \n",
       "47                                              228.0              \n",
       "\n",
       "    Total Number of COVID-19 Deaths During Observation Period  \\\n",
       "1                                                86.0           \n",
       "3                                              2611.0           \n",
       "4                                             38154.0           \n",
       "7                                               636.0           \n",
       "8                                               296.0           \n",
       "14                                             4574.0           \n",
       "22                                             8078.0           \n",
       "26                                              324.0           \n",
       "30                                             7553.0           \n",
       "31                                             1787.0           \n",
       "36                                             4928.0           \n",
       "37                                             1297.0           \n",
       "42                                             5848.0           \n",
       "44                                              639.0           \n",
       "46                                             2489.0           \n",
       "47                                             2249.0           \n",
       "\n",
       "    Number of Fully Vaccinated People Who Have Died with COVID-19  \n",
       "1                                                 2.0              \n",
       "3                                                68.0              \n",
       "4                                                93.0              \n",
       "7                                                 8.0              \n",
       "8                                                 4.0              \n",
       "14                                               46.0              \n",
       "22                                              217.0              \n",
       "26                                               10.0              \n",
       "30                                                7.0              \n",
       "31                                                6.0              \n",
       "36                                               19.0              \n",
       "37                                               11.0              \n",
       "42                                               31.0              \n",
       "44                                                9.0              \n",
       "46                                               37.0              \n",
       "47                                               48.0              "
      ]
     },
     "execution_count": 10,
     "metadata": {},
     "output_type": "execute_result"
    }
   ],
   "source": [
    "## Drop the source column\n",
    "cols_to_drop = ['Source', 'Observation Period', 'Update Frequency']\n",
    "covid_df.drop(columns=cols_to_drop, inplace=True)\n",
    "\n",
    "## Looking for breakthrough percentages\n",
    "### Need to remove states with a NaN in the denominator. Those cols: \n",
    "should_not_have_nan_cols = ['Total Number of COVID-19 Cases During Observation Period', \n",
    "                           'Total Number of COVID-19 Hospitalizations During Observation Period',\n",
    "                           'Total Number of COVID-19 Deaths During Observation Period']\n",
    "### Which rows have NaNs?\n",
    "df = covid_df.dropna(subset=should_not_have_nan_cols, inplace=False)\n",
    "df"
   ]
  },
  {
   "cell_type": "code",
   "execution_count": 11,
   "id": "a58f56f9",
   "metadata": {},
   "outputs": [
    {
     "name": "stderr",
     "output_type": "stream",
     "text": [
      "C:\\Users\\rajah\\AppData\\Local\\Temp/ipykernel_41656/468270931.py:4: SettingWithCopyWarning: \n",
      "A value is trying to be set on a copy of a slice from a DataFrame.\n",
      "Try using .loc[row_indexer,col_indexer] = value instead\n",
      "\n",
      "See the caveats in the documentation: https://pandas.pydata.org/pandas-docs/stable/user_guide/indexing.html#returning-a-view-versus-a-copy\n",
      "  df[unvaccinated] = df[total] - df[vaccinated]\n"
     ]
    },
    {
     "data": {
      "text/html": [
       "<div>\n",
       "<style scoped>\n",
       "    .dataframe tbody tr th:only-of-type {\n",
       "        vertical-align: middle;\n",
       "    }\n",
       "\n",
       "    .dataframe tbody tr th {\n",
       "        vertical-align: top;\n",
       "    }\n",
       "\n",
       "    .dataframe thead th {\n",
       "        text-align: right;\n",
       "    }\n",
       "</style>\n",
       "<table border=\"1\" class=\"dataframe\">\n",
       "  <thead>\n",
       "    <tr style=\"text-align: right;\">\n",
       "      <th></th>\n",
       "      <th>State</th>\n",
       "      <th>Total Number of Fully Vaccinated People</th>\n",
       "      <th>Total Number of COVID-19 Cases During Observation Period</th>\n",
       "      <th>Number of Fully Vaccinated People Diagnosed with COVID-19</th>\n",
       "      <th>Total Number of COVID-19 Hospitalizations During Observation Period</th>\n",
       "      <th>Number of Fully Vaccinated People Hospitalized with COVID-19</th>\n",
       "      <th>Total Number of COVID-19 Deaths During Observation Period</th>\n",
       "      <th>Number of Fully Vaccinated People Who Have Died with COVID-19</th>\n",
       "      <th>Unvaccinated Deaths</th>\n",
       "    </tr>\n",
       "  </thead>\n",
       "  <tbody>\n",
       "    <tr>\n",
       "      <th>1</th>\n",
       "      <td>Alaska</td>\n",
       "      <td>331185.0</td>\n",
       "      <td>23529.0</td>\n",
       "      <td>948.0</td>\n",
       "      <td>562.0</td>\n",
       "      <td>28.0</td>\n",
       "      <td>86.0</td>\n",
       "      <td>2.0</td>\n",
       "      <td>84.0</td>\n",
       "    </tr>\n",
       "    <tr>\n",
       "      <th>3</th>\n",
       "      <td>Arkansas</td>\n",
       "      <td>1044173.0</td>\n",
       "      <td>157431.0</td>\n",
       "      <td>5683.0</td>\n",
       "      <td>13474.0</td>\n",
       "      <td>627.0</td>\n",
       "      <td>2611.0</td>\n",
       "      <td>68.0</td>\n",
       "      <td>2543.0</td>\n",
       "    </tr>\n",
       "    <tr>\n",
       "      <th>4</th>\n",
       "      <td>California</td>\n",
       "      <td>20927113.0</td>\n",
       "      <td>1558985.0</td>\n",
       "      <td>21083.0</td>\n",
       "      <td>118178.0</td>\n",
       "      <td>934.0</td>\n",
       "      <td>38154.0</td>\n",
       "      <td>93.0</td>\n",
       "      <td>38061.0</td>\n",
       "    </tr>\n",
       "    <tr>\n",
       "      <th>7</th>\n",
       "      <td>Delaware</td>\n",
       "      <td>506457.0</td>\n",
       "      <td>53120.0</td>\n",
       "      <td>518.0</td>\n",
       "      <td>3722.0</td>\n",
       "      <td>22.0</td>\n",
       "      <td>636.0</td>\n",
       "      <td>8.0</td>\n",
       "      <td>628.0</td>\n",
       "    </tr>\n",
       "    <tr>\n",
       "      <th>8</th>\n",
       "      <td>District of Columbia</td>\n",
       "      <td>469462.0</td>\n",
       "      <td>15918.0</td>\n",
       "      <td>200.0</td>\n",
       "      <td>2685.0</td>\n",
       "      <td>13.0</td>\n",
       "      <td>296.0</td>\n",
       "      <td>4.0</td>\n",
       "      <td>292.0</td>\n",
       "    </tr>\n",
       "    <tr>\n",
       "      <th>14</th>\n",
       "      <td>Indiana</td>\n",
       "      <td>2883877.0</td>\n",
       "      <td>247830.0</td>\n",
       "      <td>2720.0</td>\n",
       "      <td>21185.0</td>\n",
       "      <td>132.0</td>\n",
       "      <td>4574.0</td>\n",
       "      <td>46.0</td>\n",
       "      <td>4528.0</td>\n",
       "    </tr>\n",
       "    <tr>\n",
       "      <th>22</th>\n",
       "      <td>Michigan</td>\n",
       "      <td>4800032.0</td>\n",
       "      <td>473867.0</td>\n",
       "      <td>7696.0</td>\n",
       "      <td>40749.0</td>\n",
       "      <td>529.0</td>\n",
       "      <td>8078.0</td>\n",
       "      <td>217.0</td>\n",
       "      <td>7861.0</td>\n",
       "    </tr>\n",
       "    <tr>\n",
       "      <th>26</th>\n",
       "      <td>Montana</td>\n",
       "      <td>468821.0</td>\n",
       "      <td>15620.0</td>\n",
       "      <td>500.0</td>\n",
       "      <td>2203.0</td>\n",
       "      <td>51.0</td>\n",
       "      <td>324.0</td>\n",
       "      <td>10.0</td>\n",
       "      <td>314.0</td>\n",
       "    </tr>\n",
       "    <tr>\n",
       "      <th>30</th>\n",
       "      <td>New Jersey</td>\n",
       "      <td>2873499.0</td>\n",
       "      <td>547414.0</td>\n",
       "      <td>1319.0</td>\n",
       "      <td>40768.0</td>\n",
       "      <td>30.0</td>\n",
       "      <td>7553.0</td>\n",
       "      <td>7.0</td>\n",
       "      <td>7546.0</td>\n",
       "    </tr>\n",
       "    <tr>\n",
       "      <th>31</th>\n",
       "      <td>New Mexico</td>\n",
       "      <td>1005056.0</td>\n",
       "      <td>60287.0</td>\n",
       "      <td>696.0</td>\n",
       "      <td>4643.0</td>\n",
       "      <td>15.0</td>\n",
       "      <td>1787.0</td>\n",
       "      <td>6.0</td>\n",
       "      <td>1781.0</td>\n",
       "    </tr>\n",
       "    <tr>\n",
       "      <th>36</th>\n",
       "      <td>Oklahoma</td>\n",
       "      <td>1566238.0</td>\n",
       "      <td>177283.0</td>\n",
       "      <td>1416.0</td>\n",
       "      <td>17841.0</td>\n",
       "      <td>130.0</td>\n",
       "      <td>4928.0</td>\n",
       "      <td>19.0</td>\n",
       "      <td>4909.0</td>\n",
       "    </tr>\n",
       "    <tr>\n",
       "      <th>37</th>\n",
       "      <td>Oregon</td>\n",
       "      <td>2223826.0</td>\n",
       "      <td>94731.0</td>\n",
       "      <td>1790.0</td>\n",
       "      <td>5970.0</td>\n",
       "      <td>191.0</td>\n",
       "      <td>1297.0</td>\n",
       "      <td>11.0</td>\n",
       "      <td>1286.0</td>\n",
       "    </tr>\n",
       "    <tr>\n",
       "      <th>42</th>\n",
       "      <td>Tennessee</td>\n",
       "      <td>2642790.0</td>\n",
       "      <td>292502.0</td>\n",
       "      <td>1035.0</td>\n",
       "      <td>21782.0</td>\n",
       "      <td>204.0</td>\n",
       "      <td>5848.0</td>\n",
       "      <td>31.0</td>\n",
       "      <td>5817.0</td>\n",
       "    </tr>\n",
       "    <tr>\n",
       "      <th>44</th>\n",
       "      <td>Utah</td>\n",
       "      <td>1450738.0</td>\n",
       "      <td>100935.0</td>\n",
       "      <td>3251.0</td>\n",
       "      <td>5206.0</td>\n",
       "      <td>241.0</td>\n",
       "      <td>639.0</td>\n",
       "      <td>9.0</td>\n",
       "      <td>630.0</td>\n",
       "    </tr>\n",
       "    <tr>\n",
       "      <th>46</th>\n",
       "      <td>Virginia</td>\n",
       "      <td>4569489.0</td>\n",
       "      <td>198756.0</td>\n",
       "      <td>1377.0</td>\n",
       "      <td>7149.0</td>\n",
       "      <td>114.0</td>\n",
       "      <td>2489.0</td>\n",
       "      <td>37.0</td>\n",
       "      <td>2452.0</td>\n",
       "    </tr>\n",
       "    <tr>\n",
       "      <th>47</th>\n",
       "      <td>Washington</td>\n",
       "      <td>4302519.0</td>\n",
       "      <td>174097.0</td>\n",
       "      <td>3446.0</td>\n",
       "      <td>10301.0</td>\n",
       "      <td>228.0</td>\n",
       "      <td>2249.0</td>\n",
       "      <td>48.0</td>\n",
       "      <td>2201.0</td>\n",
       "    </tr>\n",
       "  </tbody>\n",
       "</table>\n",
       "</div>"
      ],
      "text/plain": [
       "                   State  Total Number of Fully Vaccinated People  \\\n",
       "1                 Alaska                                 331185.0   \n",
       "3               Arkansas                                1044173.0   \n",
       "4             California                               20927113.0   \n",
       "7               Delaware                                 506457.0   \n",
       "8   District of Columbia                                 469462.0   \n",
       "14               Indiana                                2883877.0   \n",
       "22              Michigan                                4800032.0   \n",
       "26               Montana                                 468821.0   \n",
       "30            New Jersey                                2873499.0   \n",
       "31            New Mexico                                1005056.0   \n",
       "36              Oklahoma                                1566238.0   \n",
       "37                Oregon                                2223826.0   \n",
       "42             Tennessee                                2642790.0   \n",
       "44                  Utah                                1450738.0   \n",
       "46              Virginia                                4569489.0   \n",
       "47            Washington                                4302519.0   \n",
       "\n",
       "    Total Number of COVID-19 Cases During Observation Period  \\\n",
       "1                                             23529.0          \n",
       "3                                            157431.0          \n",
       "4                                           1558985.0          \n",
       "7                                             53120.0          \n",
       "8                                             15918.0          \n",
       "14                                           247830.0          \n",
       "22                                           473867.0          \n",
       "26                                            15620.0          \n",
       "30                                           547414.0          \n",
       "31                                            60287.0          \n",
       "36                                           177283.0          \n",
       "37                                            94731.0          \n",
       "42                                           292502.0          \n",
       "44                                           100935.0          \n",
       "46                                           198756.0          \n",
       "47                                           174097.0          \n",
       "\n",
       "    Number of Fully Vaccinated People Diagnosed with COVID-19  \\\n",
       "1                                               948.0           \n",
       "3                                              5683.0           \n",
       "4                                             21083.0           \n",
       "7                                               518.0           \n",
       "8                                               200.0           \n",
       "14                                             2720.0           \n",
       "22                                             7696.0           \n",
       "26                                              500.0           \n",
       "30                                             1319.0           \n",
       "31                                              696.0           \n",
       "36                                             1416.0           \n",
       "37                                             1790.0           \n",
       "42                                             1035.0           \n",
       "44                                             3251.0           \n",
       "46                                             1377.0           \n",
       "47                                             3446.0           \n",
       "\n",
       "    Total Number of COVID-19 Hospitalizations During Observation Period  \\\n",
       "1                                               562.0                     \n",
       "3                                             13474.0                     \n",
       "4                                            118178.0                     \n",
       "7                                              3722.0                     \n",
       "8                                              2685.0                     \n",
       "14                                            21185.0                     \n",
       "22                                            40749.0                     \n",
       "26                                             2203.0                     \n",
       "30                                            40768.0                     \n",
       "31                                             4643.0                     \n",
       "36                                            17841.0                     \n",
       "37                                             5970.0                     \n",
       "42                                            21782.0                     \n",
       "44                                             5206.0                     \n",
       "46                                             7149.0                     \n",
       "47                                            10301.0                     \n",
       "\n",
       "    Number of Fully Vaccinated People Hospitalized with COVID-19  \\\n",
       "1                                                28.0              \n",
       "3                                               627.0              \n",
       "4                                               934.0              \n",
       "7                                                22.0              \n",
       "8                                                13.0              \n",
       "14                                              132.0              \n",
       "22                                              529.0              \n",
       "26                                               51.0              \n",
       "30                                               30.0              \n",
       "31                                               15.0              \n",
       "36                                              130.0              \n",
       "37                                              191.0              \n",
       "42                                              204.0              \n",
       "44                                              241.0              \n",
       "46                                              114.0              \n",
       "47                                              228.0              \n",
       "\n",
       "    Total Number of COVID-19 Deaths During Observation Period  \\\n",
       "1                                                86.0           \n",
       "3                                              2611.0           \n",
       "4                                             38154.0           \n",
       "7                                               636.0           \n",
       "8                                               296.0           \n",
       "14                                             4574.0           \n",
       "22                                             8078.0           \n",
       "26                                              324.0           \n",
       "30                                             7553.0           \n",
       "31                                             1787.0           \n",
       "36                                             4928.0           \n",
       "37                                             1297.0           \n",
       "42                                             5848.0           \n",
       "44                                              639.0           \n",
       "46                                             2489.0           \n",
       "47                                             2249.0           \n",
       "\n",
       "    Number of Fully Vaccinated People Who Have Died with COVID-19  \\\n",
       "1                                                 2.0               \n",
       "3                                                68.0               \n",
       "4                                                93.0               \n",
       "7                                                 8.0               \n",
       "8                                                 4.0               \n",
       "14                                               46.0               \n",
       "22                                              217.0               \n",
       "26                                               10.0               \n",
       "30                                                7.0               \n",
       "31                                                6.0               \n",
       "36                                               19.0               \n",
       "37                                               11.0               \n",
       "42                                               31.0               \n",
       "44                                                9.0               \n",
       "46                                               37.0               \n",
       "47                                               48.0               \n",
       "\n",
       "    Unvaccinated Deaths  \n",
       "1                  84.0  \n",
       "3                2543.0  \n",
       "4               38061.0  \n",
       "7                 628.0  \n",
       "8                 292.0  \n",
       "14               4528.0  \n",
       "22               7861.0  \n",
       "26                314.0  \n",
       "30               7546.0  \n",
       "31               1781.0  \n",
       "36               4909.0  \n",
       "37               1286.0  \n",
       "42               5817.0  \n",
       "44                630.0  \n",
       "46               2452.0  \n",
       "47               2201.0  "
      ]
     },
     "execution_count": 11,
     "metadata": {},
     "output_type": "execute_result"
    }
   ],
   "source": [
    "total = 'Total Number of COVID-19 Deaths During Observation Period'\n",
    "vaccinated = 'Number of Fully Vaccinated People Who Have Died with COVID-19' \n",
    "unvaccinated = 'Unvaccinated Deaths'\n",
    "df[unvaccinated] = df[total] - df[vaccinated]\n",
    "df"
   ]
  },
  {
   "cell_type": "code",
   "execution_count": 12,
   "id": "b71d3269",
   "metadata": {},
   "outputs": [
    {
     "data": {
      "image/png": "[encoded data removed]",
      "text/plain": [
       "<Figure size 432x288 with 1 Axes>"
      ]
     },
     "metadata": {},
     "output_type": "display_data"
    }
   ],
   "source": [
    "import matplotlib.pyplot as plt\n",
    "\n",
    "x = [2, 84]\n",
    "labels = ['Vaccinated', 'Unvaccinated', ]\n",
    "colors = ['tab:blue', 'tab:cyan', ]\n",
    "\n",
    "fig, ax = plt.subplots()\n",
    "ax.pie(x, labels = labels, colors = colors, autopct='%.0f%%')\n",
    "ax.set_title('Alaska')\n",
    "plt.show()"
   ]
  },
  {
   "cell_type": "code",
   "execution_count": 13,
   "id": "47e4c8d4",
   "metadata": {},
   "outputs": [
    {
     "name": "stdout",
     "output_type": "stream",
     "text": [
      "Alaska: 2.0 / 84.0\n",
      "Arkansas: 68.0 / 2543.0\n",
      "California: 93.0 / 38061.0\n",
      "Delaware: 8.0 / 628.0\n",
      "District of Columbia: 4.0 / 292.0\n",
      "Indiana: 46.0 / 4528.0\n",
      "Michigan: 217.0 / 7861.0\n",
      "Montana: 10.0 / 314.0\n",
      "New Jersey: 7.0 / 7546.0\n",
      "New Mexico: 6.0 / 1781.0\n",
      "Oklahoma: 19.0 / 4909.0\n",
      "Oregon: 11.0 / 1286.0\n",
      "Tennessee: 31.0 / 5817.0\n",
      "Utah: 9.0 / 630.0\n",
      "Virginia: 37.0 / 2452.0\n",
      "Washington: 48.0 / 2201.0\n"
     ]
    }
   ],
   "source": [
    "# https://pandas.pydata.org/docs/reference/api/pandas.DataFrame.itertuples.html\n",
    "\n",
    "for row in df.itertuples():\n",
    "    print(f'{row.State}: {row[8]} / {row[9]}')\n"
   ]
  },
  {
   "cell_type": "code",
   "execution_count": 14,
   "id": "c2f025b3",
   "metadata": {},
   "outputs": [
    {
     "data": {
      "image/png": "[encoded data removed]",
      "text/plain": [
       "<Figure size 432x288 with 1 Axes>"
      ]
     },
     "metadata": {},
     "output_type": "display_data"
    },
    {
     "data": {
      "image/png": "[encoded data removed]",
      "text/plain": [
       "<Figure size 432x288 with 1 Axes>"
      ]
     },
     "metadata": {},
     "output_type": "display_data"
    },
    {
     "data": {
      "image/png": "[encoded data removed]",
      "text/plain": [
       "<Figure size 432x288 with 1 Axes>"
      ]
     },
     "metadata": {},
     "output_type": "display_data"
    },
    {
     "data": {
      "image/png": "[encoded data removed]",
      "text/plain": [
       "<Figure size 432x288 with 1 Axes>"
      ]
     },
     "metadata": {},
     "output_type": "display_data"
    },
    {
     "data": {
      "image/png": "[encoded data removed]",
      "text/plain": [
       "<Figure size 432x288 with 1 Axes>"
      ]
     },
     "metadata": {},
     "output_type": "display_data"
    },
    {
     "data": {
      "image/png": "[encoded data removed]",
      "text/plain": [
       "<Figure size 432x288 with 1 Axes>"
      ]
     },
     "metadata": {},
     "output_type": "display_data"
    },
    {
     "data": {
      "image/png": "[encoded data removed]",
      "text/plain": [
       "<Figure size 432x288 with 1 Axes>"
      ]
     },
     "metadata": {},
     "output_type": "display_data"
    },
    {
     "data": {
      "image/png": "[encoded data removed]",
      "text/plain": [
       "<Figure size 432x288 with 1 Axes>"
      ]
     },
     "metadata": {},
     "output_type": "display_data"
    },
    {
     "data": {
      "image/png": "[encoded data removed]",
      "text/plain": [
       "<Figure size 432x288 with 1 Axes>"
      ]
     },
     "metadata": {},
     "output_type": "display_data"
    },
    {
     "data": {
      "image/png": "[encoded data removed]",
      "text/plain": [
       "<Figure size 432x288 with 1 Axes>"
      ]
     },
     "metadata": {},
     "output_type": "display_data"
    },
    {
     "data": {
      "image/png": "[encoded data removed]",
      "text/plain": [
       "<Figure size 432x288 with 1 Axes>"
      ]
     },
     "metadata": {},
     "output_type": "display_data"
    },
    {
     "data": {
      "image/png": "[encoded data removed]",
      "text/plain": [
       "<Figure size 432x288 with 1 Axes>"
      ]
     },
     "metadata": {},
     "output_type": "display_data"
    },
    {
     "data": {
      "image/png": "[encoded data removed]",
      "text/plain": [
       "<Figure size 432x288 with 1 Axes>"
      ]
     },
     "metadata": {},
     "output_type": "display_data"
    },
    {
     "data": {
      "image/png": "[encoded data removed]",
      "text/plain": [
       "<Figure size 432x288 with 1 Axes>"
      ]
     },
     "metadata": {},
     "output_type": "display_data"
    },
    {
     "data": {
      "image/png": "[encoded data removed]",
      "text/plain": [
       "<Figure size 432x288 with 1 Axes>"
      ]
     },
     "metadata": {},
     "output_type": "display_data"
    },
    {
     "data": {
      "image/png": "[encoded data removed]",
      "text/plain": [
       "<Figure size 432x288 with 1 Axes>"
      ]
     },
     "metadata": {},
     "output_type": "display_data"
    }
   ],
   "source": [
    "labels = ['Vaccinated', 'Unvaccinated', ]\n",
    "colors = ['tab:blue', 'tab:cyan', ]\n",
    "\n",
    "for row in df.itertuples():\n",
    "    x = [row[8], row[9]]\n",
    "    fig, ax = plt.subplots()\n",
    "    ax.pie(x, labels = labels, colors = colors, autopct='%.0f%%')\n",
    "    ax.set_title(row.State)\n",
    "    plt.show()"
   ]
  },
  {
   "cell_type": "markdown",
   "id": "94a35546",
   "metadata": {},
   "source": [
    "## A little more on itertuples"
   ]
  },
  {
   "cell_type": "code",
   "execution_count": 15,
   "id": "5bbeff97",
   "metadata": {},
   "outputs": [],
   "source": [
    "df_row = df.itertuples() # itertuples returns a map of the df"
   ]
  },
  {
   "cell_type": "code",
   "execution_count": 16,
   "id": "08080ef1",
   "metadata": {},
   "outputs": [],
   "source": [
    "rows = list(df_row) # These are all the rows in df"
   ]
  },
  {
   "cell_type": "code",
   "execution_count": 17,
   "id": "0b5c8dea",
   "metadata": {},
   "outputs": [
    {
     "data": {
      "text/plain": [
       "Pandas(Index=1, State='Alaska', _2=331185.0, _3=23529.0, _4=948.0, _5=562.0, _6=28.0, _7=86.0, _8=2.0, _9=84.0)"
      ]
     },
     "execution_count": 17,
     "metadata": {},
     "output_type": "execute_result"
    }
   ],
   "source": [
    "rows[0]"
   ]
  },
  {
   "cell_type": "markdown",
   "id": "1dd4c8cb",
   "metadata": {},
   "source": [
    "# Refactoring the above\n",
    "\n",
    "It's a little clunky to calculate the unvaccinated by hand. Can we do this automatically?\n",
    "- In a class\n",
    "- Specifying the Total column and Vaccinated colums to use\n"
   ]
  },
  {
   "cell_type": "code",
   "execution_count": 18,
   "id": "0abed261",
   "metadata": {},
   "outputs": [],
   "source": [
    "class Vaccinated():\n",
    "    def __init__(self, df: pd.DataFrame, label: str, total_col: str, vacc_col: str):\n",
    "        self._df = df\n",
    "        self._label = df[label].tolist()\n",
    "        self._total = df[total_col].tolist()\n",
    "        self._vaccinated = df[vacc_col].tolist()\n",
    "\n",
    "    @property\n",
    "    def label(self, labels: list):\n",
    "        self._label = labels\n",
    "\n",
    "    @label.getter\n",
    "    def label(self):\n",
    "        return self._label\n",
    "\n",
    "    @property\n",
    "    def total(self, totals: list):\n",
    "        self._total = np.array(totals)\n",
    "\n",
    "    @total.getter\n",
    "    def total(self):\n",
    "        return self._total\n",
    "\n",
    "    @property\n",
    "    def vaccinated(self, vaccinated: list):\n",
    "        self._vaccinated = np.array(vaccinated)\n",
    "\n",
    "    @vaccinated.getter\n",
    "    def vaccinated(self):\n",
    "        return self._vaccinated\n",
    "\n",
    "    def unvaccinated(self) -> list:\n",
    "        return np.subtract(self.total, self.vaccinated)\n",
    "        \n"
   ]
  },
  {
   "cell_type": "code",
   "execution_count": 19,
   "id": "86af36f9",
   "metadata": {},
   "outputs": [],
   "source": [
    "total = 'Total Number of COVID-19 Deaths During Observation Period'\n",
    "vaccinated = 'Number of Fully Vaccinated People Who Have Died with COVID-19'\n",
    "deaths = Vaccinated(df=df, label='State', total_col=total, vacc_col=vaccinated)"
   ]
  },
  {
   "cell_type": "code",
   "execution_count": 20,
   "id": "7c016f68",
   "metadata": {},
   "outputs": [
    {
     "data": {
      "text/plain": [
       "array([   84.,  2543., 38061.,   628.,   292.,  4528.,  7861.,   314.,\n",
       "        7546.,  1781.,  4909.,  1286.,  5817.,   630.,  2452.,  2201.])"
      ]
     },
     "execution_count": 20,
     "metadata": {},
     "output_type": "execute_result"
    }
   ],
   "source": [
    "deaths.unvaccinated()\n",
    "#deaths.vaccinated"
   ]
  },
  {
   "cell_type": "code",
   "execution_count": 21,
   "id": "b99585ce",
   "metadata": {},
   "outputs": [],
   "source": [
    "# Adding a namedtuple. More on namedtuples in a later module.\n",
    "from collections import namedtuple\n",
    "\n",
    "CovidNums = namedtuple(\"CovidNums\", \"state vaccinated unvaccinated\")\n",
    "\n",
    "class Vaccinated():\n",
    "    def __init__(self, df: pd.DataFrame, label: str, total_col: str, vacc_col: str):\n",
    "        self._df = df\n",
    "        self._label = df[label].tolist()\n",
    "        self._total = df[total_col].tolist()\n",
    "        self._vaccinated = df[vacc_col].tolist()\n",
    "\n",
    "    @property\n",
    "    def label(self, labels: list):\n",
    "        self._label = labels\n",
    "\n",
    "    @label.getter\n",
    "    def label(self):\n",
    "        return self._label\n",
    "\n",
    "    @property\n",
    "    def total(self, totals: list):\n",
    "        self._total = np.array(totals)\n",
    "\n",
    "    @total.getter\n",
    "    def total(self):\n",
    "        return self._total\n",
    "\n",
    "    @property\n",
    "    def vaccinated(self, vaccinated: list):\n",
    "        self._vaccinated = np.array(vaccinated)\n",
    "\n",
    "    @vaccinated.getter\n",
    "    def vaccinated(self):\n",
    "        return self._vaccinated\n",
    "\n",
    "    def unvaccinated(self) -> list:\n",
    "        return np.subtract(self.total, self.vaccinated)\n",
    "\n",
    "    def as_namedtuple_list(self) -> list:\n",
    "        ans = []\n",
    "        for i in range(len(self.total)):\n",
    "            entry = CovidNums(state=self.label[i], vaccinated=self.vaccinated[i], unvaccinated=self.unvaccinated()[i])\n",
    "            ans.append(entry)\n",
    "        return ans\n"
   ]
  },
  {
   "cell_type": "code",
   "execution_count": 22,
   "id": "10bd681a",
   "metadata": {},
   "outputs": [
    {
     "data": {
      "text/plain": [
       "[CovidNums(state='Alaska', vaccinated=2.0, unvaccinated=84.0),\n",
       " CovidNums(state='Arkansas', vaccinated=68.0, unvaccinated=2543.0),\n",
       " CovidNums(state='California', vaccinated=93.0, unvaccinated=38061.0),\n",
       " CovidNums(state='Delaware', vaccinated=8.0, unvaccinated=628.0),\n",
       " CovidNums(state='District of Columbia', vaccinated=4.0, unvaccinated=292.0),\n",
       " CovidNums(state='Indiana', vaccinated=46.0, unvaccinated=4528.0),\n",
       " CovidNums(state='Michigan', vaccinated=217.0, unvaccinated=7861.0),\n",
       " CovidNums(state='Montana', vaccinated=10.0, unvaccinated=314.0),\n",
       " CovidNums(state='New Jersey', vaccinated=7.0, unvaccinated=7546.0),\n",
       " CovidNums(state='New Mexico', vaccinated=6.0, unvaccinated=1781.0),\n",
       " CovidNums(state='Oklahoma', vaccinated=19.0, unvaccinated=4909.0),\n",
       " CovidNums(state='Oregon', vaccinated=11.0, unvaccinated=1286.0),\n",
       " CovidNums(state='Tennessee', vaccinated=31.0, unvaccinated=5817.0),\n",
       " CovidNums(state='Utah', vaccinated=9.0, unvaccinated=630.0),\n",
       " CovidNums(state='Virginia', vaccinated=37.0, unvaccinated=2452.0),\n",
       " CovidNums(state='Washington', vaccinated=48.0, unvaccinated=2201.0)]"
      ]
     },
     "execution_count": 22,
     "metadata": {},
     "output_type": "execute_result"
    }
   ],
   "source": [
    "deaths = Vaccinated(df=df, label='State', total_col=total, vacc_col=vaccinated)\n",
    "covid_stats = deaths.as_namedtuple_list()\n",
    "covid_stats"
   ]
  },
  {
   "cell_type": "code",
   "execution_count": 23,
   "id": "a3a960b7",
   "metadata": {},
   "outputs": [
    {
     "name": "stdout",
     "output_type": "stream",
     "text": [
      "Alaska experienced 2.0 vaccinated deaths and 84.0 unvaccinated deaths.\n"
     ]
    }
   ],
   "source": [
    "# namedtuples let you access the tuples by name (rather than an integer index)\n",
    "first_row = covid_stats[0]\n",
    "print(f'{first_row.state} experienced {first_row.vaccinated} vaccinated deaths and {first_row.unvaccinated} unvaccinated deaths.')"
   ]
  },
  {
   "cell_type": "markdown",
   "id": "f1a6b409",
   "metadata": {},
   "source": [
    "## Arranging many graphs into a single figure\n",
    "\n",
    "Reference: https://matplotlib.org/stable/tutorials/intermediate/arranging_axes.html\n",
    "Example: https://stackoverflow.com/questions/31726643/how-to-plot-in-multiple-subplots\n",
    "        "
   ]
  },
  {
   "cell_type": "code",
   "execution_count": 24,
   "id": "d5552056",
   "metadata": {},
   "outputs": [
    {
     "data": {
      "text/plain": [
       "Text(0.5, 0.98, 'plt.subplots()')"
      ]
     },
     "execution_count": 24,
     "metadata": {},
     "output_type": "execute_result"
    },
    {
     "data": {
      "image/png": "[encoded data removed]",
      "text/plain": [
       "<Figure size 396x252 with 4 Axes>"
      ]
     },
     "metadata": {
      "needs_background": "light"
     },
     "output_type": "display_data"
    }
   ],
   "source": [
    "import matplotlib.pyplot as plt\n",
    "import numpy as np\n",
    "\n",
    "fig, axes = plt.subplots(ncols=2, nrows=2, figsize=(5.5, 3.5), constrained_layout=True) # one fig, 4 axes\n",
    "\n",
    "for r, row in enumerate(axes):\n",
    "    for c, col in enumerate(row):\n",
    "        col.annotate(f'axis[{r}, {c}]', (0.5, 0.5),\n",
    "                               transform=axes[r, c].transAxes,\n",
    "                               ha='center', va='center', fontsize=18,\n",
    "                               color='darkgrey')\n",
    "fig.suptitle('plt.subplots()')"
   ]
  },
  {
   "cell_type": "code",
   "execution_count": 25,
   "id": "e33be680",
   "metadata": {},
   "outputs": [
    {
     "name": "stdout",
     "output_type": "stream",
     "text": [
      "The dataframe contains 16 states.\n"
     ]
    },
    {
     "data": {
      "text/plain": [
       "Text(0.5, 0.98, 'Coivd-19 deaths')"
      ]
     },
     "execution_count": 25,
     "metadata": {},
     "output_type": "execute_result"
    },
    {
     "data": {
      "image/png": "[encoded data removed]",
      "text/plain": [
       "<Figure size 720x1440 with 16 Axes>"
      ]
     },
     "metadata": {},
     "output_type": "display_data"
    }
   ],
   "source": [
    "print(f'The dataframe contains {len(df)} states.')\n",
    "nrows = 8\n",
    "ncols = 2\n",
    "\n",
    "fig, axes = plt.subplots(ncols=ncols, nrows=nrows, figsize=(10, 20))\n",
    "\n",
    "covid_index = 0\n",
    "for r, row in enumerate(axes):\n",
    "    for c, col in enumerate(row):\n",
    "        state_row = covid_stats[covid_index]\n",
    "        x = [state_row.vaccinated, state_row.unvaccinated]\n",
    "        col.pie(x, labels = labels, colors = colors, autopct='%.0f%%')\n",
    "        col.set_title(state_row.state)\n",
    "        covid_index += 1\n",
    "fig.suptitle('Coivd-19 deaths')\n"
   ]
  },
  {
   "cell_type": "markdown",
   "id": "3719cf11",
   "metadata": {},
   "source": [
    "# Comprehension\n",
    "\n",
    "## List comprehension\n",
    "\n",
    "Reference: https://realpython.com/list-comprehension-python/\n",
    "\n",
    "From the above:\n",
    "\n",
    "Every list comprehension in Python includes three elements:\n",
    "\n",
    "1. expression is the member itself, a call to a method, or any other valid expression that returns a value. In the example above, the expression i * i is the square of the member value.\n",
    "1. member is the object or value in the list or iterable. In the example above, the member value is i.\n",
    "1. iterable is a list, set, sequence, generator, or any other object that can return its elements one at a time. In the example above, the iterable is range(10)."
   ]
  },
  {
   "cell_type": "code",
   "execution_count": 30,
   "id": "ece754ca",
   "metadata": {},
   "outputs": [
    {
     "data": {
      "text/plain": [
       "[0, 1, 4, 9, 16, 25, 36, 49, 64, 81]"
      ]
     },
     "execution_count": 30,
     "metadata": {},
     "output_type": "execute_result"
    }
   ],
   "source": [
    "# Regular way\n",
    "squares = []                # init empty list\n",
    "for i in range(10):         # iterate on something\n",
    "    square = i * i          # calculate something\n",
    "    squares.append(square)  # add it to the list\n",
    "squares"
   ]
  },
  {
   "cell_type": "code",
   "execution_count": 31,
   "id": "3e30e9ab",
   "metadata": {},
   "outputs": [
    {
     "data": {
      "text/plain": [
       "[0, 1, 4, 9, 16, 25, 36, 49, 64, 81]"
      ]
     },
     "execution_count": 31,
     "metadata": {},
     "output_type": "execute_result"
    }
   ],
   "source": [
    "# list comprehension does it all in one line\n",
    "squares = [i*i for i in range(10)]\n",
    "squares"
   ]
  },
  {
   "cell_type": "markdown",
   "id": "28163f62",
   "metadata": {},
   "source": [
    "## Dictionary comprehension\n",
    "\n",
    "While list comprehension builds a list, one element at a time, dictionary comprehension builds the dictionary with a key and value (separated by a : )\n",
    "\n",
    "Extensive examples: https://towardsdatascience.com/10-examples-to-master-python-dictionary-comprehensions-7aaa536f5960"
   ]
  },
  {
   "cell_type": "code",
   "execution_count": 32,
   "id": "640257da",
   "metadata": {},
   "outputs": [],
   "source": [
    "words = ['data', 'science', 'machine', 'learning']\n",
    "#list comprehension\n",
    "l1 = [len(i) for i in words]  # [4, 7, 7, 8]\n",
    "\n",
    "#dictionary comprehension\n",
    "d1 = {i:len(i) for i in words} # {'data': 4, 'science': 7, 'machine': 7, 'learning': 8}"
   ]
  },
  {
   "cell_type": "markdown",
   "id": "99282021",
   "metadata": {},
   "source": [
    "## Nested Loops\n",
    "\n",
    "- We indent for each loop. \n",
    "- Innermost loops are the fastest.\n",
    "- break will break out of the current loop\n",
    "\n",
    "Recall from Module 4.\n",
    "```python\n",
    "for b in b_vec:\n",
    "    for c in c_vec:\n",
    "        a = sqrt(b*b + c*c)\n",
    "        a_vec.append(a\n",
    "```"
   ]
  },
  {
   "cell_type": "code",
   "execution_count": 33,
   "id": "546a16c1",
   "metadata": {},
   "outputs": [
    {
     "name": "stdout",
     "output_type": "stream",
     "text": [
      " 1.414  2.236  3.162  4.123 \n",
      "\n",
      " 2.236  2.828  3.606  4.472 \n",
      "\n",
      " 3.162  3.606  4.243  5.000 \n",
      "\n",
      " 4.123  4.472  5.000  5.657 \n",
      "\n"
     ]
    }
   ],
   "source": [
    "from math import sqrt\n",
    "_MAX = 5\n",
    "b_vec = list(range(1, _MAX))\n",
    "c_vec = list(range(1, _MAX))\n",
    "a_vec = []\n",
    "for b in b_vec:\n",
    "    for c in c_vec:\n",
    "        a = sqrt(b*b + c*c)\n",
    "        a_vec.append(a)\n",
    "for i, el in enumerate(a_vec, 1):\n",
    "    print(f'{el:6.3f}', end=' ')\n",
    "    if i % (_MAX - 1) == 0:\n",
    "        print('\\n')"
   ]
  },
  {
   "cell_type": "code",
   "execution_count": 34,
   "id": "a9062347",
   "metadata": {},
   "outputs": [
    {
     "name": "stdout",
     "output_type": "stream",
     "text": [
      "1 + 1\n",
      "1 + 2\n",
      "1 + 3\n",
      "1 + 4\n",
      "1 + 5\n",
      "1 + 6\n",
      "2 + 1\n",
      "2 + 2\n",
      "2 + 3\n",
      "2 + 4\n",
      "2 + 5\n",
      "2 + 6\n",
      "3 + 1\n",
      "3 + 2\n",
      "3 + 3\n",
      "3 + 4\n",
      "3 + 5\n",
      "3 + 6\n",
      "4 + 1\n",
      "4 + 2\n",
      "4 + 3\n",
      "4 + 4\n",
      "4 + 5\n",
      "4 + 6\n",
      "5 + 1\n",
      "5 + 2\n",
      "5 + 3\n",
      "5 + 4\n",
      "5 + 5\n",
      "6 + 1\n",
      "6 + 2\n",
      "6 + 3\n",
      "6 + 4\n"
     ]
    }
   ],
   "source": [
    "_SIDES = 6\n",
    "for die1 in range(1, _SIDES + 1):\n",
    "    for die2 in range(1, _SIDES + 1):\n",
    "        print(f'{die1} + {die2}')\n",
    "        if die1 + die2 >= 10:\n",
    "            break"
   ]
  }
 ],
 "metadata": {
  "kernelspec": {
   "display_name": "Python 3 (ipykernel)",
   "language": "python",
   "name": "python3"
  },
  "language_info": {
   "codemirror_mode": {
    "name": "ipython",
    "version": 3
   },
   "file_extension": ".py",
   "mimetype": "text/x-python",
   "name": "python",
   "nbconvert_exporter": "python",
   "pygments_lexer": "ipython3",
   "version": "3.9.7"
  }
 },
 "nbformat": 4,
 "nbformat_minor": 5
}
