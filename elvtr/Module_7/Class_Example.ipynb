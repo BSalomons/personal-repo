{
 "cells": [
  {
   "cell_type": "code",
   "execution_count": 7,
   "id": "5ebe7946",
   "metadata": {},
   "outputs": [
    {
     "name": "stdout",
     "output_type": "stream",
     "text": [
      "Foo Bar\n",
      "Foo  Bar is now Baz\n",
      "Foo \n",
      "yyy\n",
      "in method (args): 1 2 \n",
      "xxx\n",
      "in method (attributes): bar  Bar is now Baz\n",
      "in method (args): 1 2 \n",
      "xxx\n",
      "in method (attributes): bar  Bar is now Baz\n",
      "Foo Bar\n",
      "Foo  Bar is now Baz\n",
      "something \n",
      "zzz\n",
      "Foo\n"
     ]
    }
   ],
   "source": [
    "class Foo          (object):\n",
    "    # ^class name  #^ inherits from object\n",
    "\n",
    "    bar = \"Bar\" #Class attribute.\n",
    "\n",
    "    def __init__(self):\n",
    "        #        #^ The first variable is the class instance in methods.  \n",
    "        #        #  This is called \"self\" by convention, but could be any name you want.\n",
    "        #^ double underscore (dunder) methods are usually special.  This one \n",
    "        #  gets called immediately after a new instance is created.\n",
    "\n",
    "        self.variable = \"Foo\" #instance attribute.\n",
    "        print (self.variable, self.bar)  #<---self.bar references class attribute\n",
    "        self.bar = \" Bar is now Baz\"   #<---self.bar is now an instance attribute\n",
    "        print (self.variable, self.bar)  \n",
    "\n",
    "    def method(self, arg1, arg2):\n",
    "        #This method has arguments.  You would call it like this:  instance.method(1, 2)\n",
    "        print (\"in method (args):\", arg1, arg2, '\\nxxx')\n",
    "        print (\"in method (attributes):\", self.variable, self.bar)\n",
    "\n",
    "\n",
    "a = Foo() # this calls __init__ (indirectly), output:\n",
    "                 # Foo bar\n",
    "                 # Foo  Bar is now Baz\n",
    "print (a.variable,\"\\nyyy\") # Foo\n",
    "a.variable = \"bar\"\n",
    "a.method(1, 2) # output:\n",
    "               # in method (args): 1 2\n",
    "               # in method (attributes): bar  Bar is now Baz\n",
    "Foo.method(a, 1, 2) #<--- Same as a.method(1, 2).  This makes it a little more explicit what the argument \"self\" actually is.\n",
    "\n",
    "class Bar(object):\n",
    "    def __init__(self, arg):\n",
    "        self.arg = arg\n",
    "        self.Foo = Foo()\n",
    "\n",
    "b = Bar(a)\n",
    "b.arg.variable = \"something\"\n",
    "print (a.variable, \"\\nzzz\") # something\n",
    "print (b.Foo.variable) # Foo"
   ]
  },
  {
   "cell_type": "code",
   "execution_count": 12,
   "id": "27605069",
   "metadata": {},
   "outputs": [
    {
     "name": "stdout",
     "output_type": "stream",
     "text": [
      "Foo Bar\n",
      "Foo  Bar is now Baz\n",
      "Foo \n",
      "yyy\n",
      "in method (args): 1 2 \n",
      "xxx\n",
      "in method (attributes): bar  Bar is now Baz\n",
      "in method (args): 1 2 \n",
      "xxx\n",
      "in method (attributes): bar  Bar is now Baz\n",
      "Foo Bar\n",
      "Foo  Bar is now Baz\n",
      "something \n",
      "zzz\n",
      "Foo\n",
      "in method (args): 3 4 \n",
      "xxx\n",
      "in method (attributes): something  Bar is now Baz\n"
     ]
    }
   ],
   "source": [
    "class Foo(object):\n",
    "    \n",
    "    bar = \"Bar\" \n",
    "\n",
    "    def __init__(self):\n",
    "        self.variable = \"Foo\" \n",
    "        print (self.variable, self.bar)  \n",
    "        \n",
    "        self.bar = \" Bar is now Baz\"   \n",
    "        print (self.variable, self.bar)  \n",
    "\n",
    "    def method(self, arg1, arg2):\n",
    "        print (\"in method (args):\", arg1, arg2, '\\nxxx')\n",
    "        print (\"in method (attributes):\", self.variable, self.bar)\n",
    "\n",
    "\n",
    "class Bar(object):\n",
    "    def __init__(self, arg):\n",
    "        self.arg = arg\n",
    "        self.Foo = Foo()\n",
    "    \n",
    "\n",
    "a = Foo() \n",
    "print (a.variable,\"\\nyyy\") \n",
    "\n",
    "a.variable = \"bar\"\n",
    "a.method(1, 2) \n",
    "\n",
    "Foo.method(a, 1, 2)\n",
    "\n",
    "b = Bar(a)\n",
    "b.arg.variable = \"something\"\n",
    "print (a.variable, \"\\nzzz\") \n",
    "print (b.Foo.variable) \n",
    "a.method(3, 4)"
   ]
  },
  {
   "cell_type": "code",
   "execution_count": null,
   "id": "87888891",
   "metadata": {},
   "outputs": [],
   "source": []
  }
 ],
 "metadata": {
  "kernelspec": {
   "display_name": "Python 3 (ipykernel)",
   "language": "python",
   "name": "python3"
  },
  "language_info": {
   "codemirror_mode": {
    "name": "ipython",
    "version": 3
   },
   "file_extension": ".py",
   "mimetype": "text/x-python",
   "name": "python",
   "nbconvert_exporter": "python",
   "pygments_lexer": "ipython3",
   "version": "3.10.2"
  }
 },
 "nbformat": 4,
 "nbformat_minor": 5
}
