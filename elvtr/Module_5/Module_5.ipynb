{
 "cells": [
  {
   "cell_type": "code",
   "execution_count": 21,
   "id": "205ccf61",
   "metadata": {},
   "outputs": [],
   "source": [
    "# Reading from FRED and French\n",
    "## Downloading M2REAL Excel spreadsheet"
   ]
  },
  {
   "cell_type": "code",
   "execution_count": 22,
   "id": "b959711a",
   "metadata": {},
   "outputs": [
    {
     "name": "stdout",
     "output_type": "stream",
     "text": [
      "Read in 755 records from M2REAL.xls.\n"
     ]
    },
    {
     "data": {
      "text/html": [
       "<div>\n",
       "<style scoped>\n",
       "    .dataframe tbody tr th:only-of-type {\n",
       "        vertical-align: middle;\n",
       "    }\n",
       "\n",
       "    .dataframe tbody tr th {\n",
       "        vertical-align: top;\n",
       "    }\n",
       "\n",
       "    .dataframe thead th {\n",
       "        text-align: right;\n",
       "    }\n",
       "</style>\n",
       "<table border=\"1\" class=\"dataframe\">\n",
       "  <thead>\n",
       "    <tr style=\"text-align: right;\">\n",
       "      <th></th>\n",
       "      <th>observation_date</th>\n",
       "      <th>M2REAL</th>\n",
       "    </tr>\n",
       "  </thead>\n",
       "  <tbody>\n",
       "    <tr>\n",
       "      <th>0</th>\n",
       "      <td>1959-01-01</td>\n",
       "      <td>987.9</td>\n",
       "    </tr>\n",
       "    <tr>\n",
       "      <th>1</th>\n",
       "      <td>1959-02-01</td>\n",
       "      <td>992.1</td>\n",
       "    </tr>\n",
       "    <tr>\n",
       "      <th>2</th>\n",
       "      <td>1959-03-01</td>\n",
       "      <td>998.3</td>\n",
       "    </tr>\n",
       "    <tr>\n",
       "      <th>3</th>\n",
       "      <td>1959-04-01</td>\n",
       "      <td>1001.0</td>\n",
       "    </tr>\n",
       "    <tr>\n",
       "      <th>4</th>\n",
       "      <td>1959-05-01</td>\n",
       "      <td>1006.2</td>\n",
       "    </tr>\n",
       "  </tbody>\n",
       "</table>\n",
       "</div>"
      ],
      "text/plain": [
       "  observation_date  M2REAL\n",
       "0       1959-01-01   987.9\n",
       "1       1959-02-01   992.1\n",
       "2       1959-03-01   998.3\n",
       "3       1959-04-01  1001.0\n",
       "4       1959-05-01  1006.2"
      ]
     },
     "execution_count": 22,
     "metadata": {},
     "output_type": "execute_result"
    }
   ],
   "source": [
    "import pandas as pd\n",
    "filename = 'M2REAL.xls'\n",
    "m2_df = pd.read_excel(filename, sheet_name='FRED Graph', header=10)\n",
    "print(f'Read in {len(m2_df)} records from {filename}.')\n",
    "m2_df.head()"
   ]
  },
  {
   "cell_type": "code",
   "execution_count": 23,
   "id": "dd49cb8d",
   "metadata": {},
   "outputs": [
    {
     "data": {
      "text/plain": [
       "0     1959-01-01\n",
       "1     1959-02-01\n",
       "2     1959-03-01\n",
       "3     1959-04-01\n",
       "4     1959-05-01\n",
       "         ...    \n",
       "750   2021-07-01\n",
       "751   2021-08-01\n",
       "752   2021-09-01\n",
       "753   2021-10-01\n",
       "754   2021-11-01\n",
       "Name: observation_date, Length: 755, dtype: datetime64[ns]"
      ]
     },
     "execution_count": 23,
     "metadata": {},
     "output_type": "execute_result"
    }
   ],
   "source": [
    "m2_df['observation_date']"
   ]
  },
  {
   "cell_type": "code",
   "execution_count": 24,
   "id": "a00d5dc2",
   "metadata": {},
   "outputs": [
    {
     "name": "stdout",
     "output_type": "stream",
     "text": [
      "Read in 1242 records from F-F_Research_Data_Factors.CSV.\n"
     ]
    },
    {
     "data": {
      "text/html": [
       "<div>\n",
       "<style scoped>\n",
       "    .dataframe tbody tr th:only-of-type {\n",
       "        vertical-align: middle;\n",
       "    }\n",
       "\n",
       "    .dataframe tbody tr th {\n",
       "        vertical-align: top;\n",
       "    }\n",
       "\n",
       "    .dataframe thead th {\n",
       "        text-align: right;\n",
       "    }\n",
       "</style>\n",
       "<table border=\"1\" class=\"dataframe\">\n",
       "  <thead>\n",
       "    <tr style=\"text-align: right;\">\n",
       "      <th></th>\n",
       "      <th>Unnamed: 0</th>\n",
       "      <th>Mkt-RF</th>\n",
       "      <th>SMB</th>\n",
       "      <th>HML</th>\n",
       "      <th>RF</th>\n",
       "    </tr>\n",
       "  </thead>\n",
       "  <tbody>\n",
       "    <tr>\n",
       "      <th>0</th>\n",
       "      <td>192607</td>\n",
       "      <td>2.96</td>\n",
       "      <td>-2.38</td>\n",
       "      <td>-2.73</td>\n",
       "      <td>0.22</td>\n",
       "    </tr>\n",
       "    <tr>\n",
       "      <th>1</th>\n",
       "      <td>192608</td>\n",
       "      <td>2.64</td>\n",
       "      <td>-1.47</td>\n",
       "      <td>4.14</td>\n",
       "      <td>0.25</td>\n",
       "    </tr>\n",
       "    <tr>\n",
       "      <th>2</th>\n",
       "      <td>192609</td>\n",
       "      <td>0.36</td>\n",
       "      <td>-1.39</td>\n",
       "      <td>0.12</td>\n",
       "      <td>0.23</td>\n",
       "    </tr>\n",
       "    <tr>\n",
       "      <th>3</th>\n",
       "      <td>192610</td>\n",
       "      <td>-3.24</td>\n",
       "      <td>-0.13</td>\n",
       "      <td>0.65</td>\n",
       "      <td>0.32</td>\n",
       "    </tr>\n",
       "    <tr>\n",
       "      <th>4</th>\n",
       "      <td>192611</td>\n",
       "      <td>2.53</td>\n",
       "      <td>-0.16</td>\n",
       "      <td>-0.38</td>\n",
       "      <td>0.31</td>\n",
       "    </tr>\n",
       "  </tbody>\n",
       "</table>\n",
       "</div>"
      ],
      "text/plain": [
       "  Unnamed: 0    Mkt-RF       SMB       HML        RF\n",
       "0     192607      2.96     -2.38     -2.73      0.22\n",
       "1     192608      2.64     -1.47      4.14      0.25\n",
       "2     192609      0.36     -1.39      0.12      0.23\n",
       "3     192610     -3.24     -0.13      0.65      0.32\n",
       "4     192611      2.53     -0.16     -0.38      0.31"
      ]
     },
     "execution_count": 24,
     "metadata": {},
     "output_type": "execute_result"
    }
   ],
   "source": [
    "filename = 'F-F_Research_Data_Factors.CSV'\n",
    "ff_df = pd.read_csv(filename, skiprows=2)\n",
    "print(f'Read in {len(ff_df)} records from {filename}.')\n",
    "ff_df.head()"
   ]
  },
  {
   "cell_type": "code",
   "execution_count": 25,
   "id": "24da6894",
   "metadata": {},
   "outputs": [
    {
     "data": {
      "text/html": [
       "<div>\n",
       "<style scoped>\n",
       "    .dataframe tbody tr th:only-of-type {\n",
       "        vertical-align: middle;\n",
       "    }\n",
       "\n",
       "    .dataframe tbody tr th {\n",
       "        vertical-align: top;\n",
       "    }\n",
       "\n",
       "    .dataframe thead th {\n",
       "        text-align: right;\n",
       "    }\n",
       "</style>\n",
       "<table border=\"1\" class=\"dataframe\">\n",
       "  <thead>\n",
       "    <tr style=\"text-align: right;\">\n",
       "      <th></th>\n",
       "      <th>yyyymm</th>\n",
       "      <th>Mkt_minus_RF</th>\n",
       "      <th>SMB</th>\n",
       "      <th>HML</th>\n",
       "      <th>RF</th>\n",
       "    </tr>\n",
       "  </thead>\n",
       "  <tbody>\n",
       "    <tr>\n",
       "      <th>1237</th>\n",
       "      <td>2017</td>\n",
       "      <td>21.51</td>\n",
       "      <td>-4.95</td>\n",
       "      <td>-13.48</td>\n",
       "      <td>0.80</td>\n",
       "    </tr>\n",
       "    <tr>\n",
       "      <th>1238</th>\n",
       "      <td>2018</td>\n",
       "      <td>-6.93</td>\n",
       "      <td>-3.34</td>\n",
       "      <td>-9.80</td>\n",
       "      <td>1.81</td>\n",
       "    </tr>\n",
       "    <tr>\n",
       "      <th>1239</th>\n",
       "      <td>2019</td>\n",
       "      <td>28.28</td>\n",
       "      <td>-6.06</td>\n",
       "      <td>-10.48</td>\n",
       "      <td>2.14</td>\n",
       "    </tr>\n",
       "    <tr>\n",
       "      <th>1240</th>\n",
       "      <td>2020</td>\n",
       "      <td>23.67</td>\n",
       "      <td>12.78</td>\n",
       "      <td>-46.31</td>\n",
       "      <td>0.44</td>\n",
       "    </tr>\n",
       "    <tr>\n",
       "      <th>1241</th>\n",
       "      <td>Copyright 2021 Kenneth R. French</td>\n",
       "      <td>NaN</td>\n",
       "      <td>NaN</td>\n",
       "      <td>NaN</td>\n",
       "      <td>NaN</td>\n",
       "    </tr>\n",
       "  </tbody>\n",
       "</table>\n",
       "</div>"
      ],
      "text/plain": [
       "                                yyyymm Mkt_minus_RF       SMB       HML  \\\n",
       "1237                              2017        21.51     -4.95    -13.48   \n",
       "1238                              2018        -6.93     -3.34     -9.80   \n",
       "1239                              2019        28.28     -6.06    -10.48   \n",
       "1240                              2020        23.67     12.78    -46.31   \n",
       "1241  Copyright 2021 Kenneth R. French          NaN       NaN       NaN   \n",
       "\n",
       "            RF  \n",
       "1237      0.80  \n",
       "1238      1.81  \n",
       "1239      2.14  \n",
       "1240      0.44  \n",
       "1241       NaN  "
      ]
     },
     "execution_count": 25,
     "metadata": {},
     "output_type": "execute_result"
    }
   ],
   "source": [
    "# Let's rename that first col to yyyymm\n",
    "ff_df.rename(columns={\"Unnamed: 0\": \"yyyymm\", \"Mkt-RF\": \"Mkt_minus_RF\"}, inplace=True)\n",
    "ff_df.tail()"
   ]
  },
  {
   "cell_type": "markdown",
   "id": "86583c77",
   "metadata": {},
   "source": [
    "# We need to do some data cleansing\n",
    "\n",
    "Drop N/As"
   ]
  },
  {
   "cell_type": "code",
   "execution_count": 26,
   "id": "e78fb90a",
   "metadata": {},
   "outputs": [
    {
     "name": "stdout",
     "output_type": "stream",
     "text": [
      "Len at the beginning: 1242\n"
     ]
    }
   ],
   "source": [
    "# Length before?\n",
    "print(f'Len at the beginning: {len(ff_df)}')"
   ]
  },
  {
   "cell_type": "code",
   "execution_count": 27,
   "id": "cd871b13",
   "metadata": {},
   "outputs": [
    {
     "name": "stdout",
     "output_type": "stream",
     "text": [
      "Len after dropping NA: 1240\n"
     ]
    }
   ],
   "source": [
    "ff_df.dropna(axis='index', how='any', subset=['Mkt_minus_RF', 'SMB', 'HML', 'RF'], inplace=True)\n",
    "print(f'Len after dropping NA: {len(ff_df)}')"
   ]
  },
  {
   "cell_type": "code",
   "execution_count": 28,
   "id": "ca23ae32",
   "metadata": {},
   "outputs": [
    {
     "data": {
      "text/plain": [
       "0       192607\n",
       "1       192608\n",
       "2       192609\n",
       "3       192610\n",
       "4       192611\n",
       "         ...  \n",
       "1236      2016\n",
       "1237      2017\n",
       "1238      2018\n",
       "1239      2019\n",
       "1240      2020\n",
       "Name: yyyymm, Length: 1240, dtype: object"
      ]
     },
     "execution_count": 28,
     "metadata": {},
     "output_type": "execute_result"
    }
   ],
   "source": [
    "ff_df['yyyymm'] # dtype: object\n",
    "# pd.to_numeric(ff_df['yyyymm'])  # Coerce to an int\n",
    "ff_df['yyyymm'] = ff_df['yyyymm'].astype(str) # Coerce to a string\n",
    "ff_df['yyyymm']"
   ]
  },
  {
   "cell_type": "code",
   "execution_count": 29,
   "id": "951cba53",
   "metadata": {},
   "outputs": [
    {
     "name": "stdout",
     "output_type": "stream",
     "text": [
      "Len after dropping yyyy: 1145\n"
     ]
    },
    {
     "data": {
      "text/html": [
       "<div>\n",
       "<style scoped>\n",
       "    .dataframe tbody tr th:only-of-type {\n",
       "        vertical-align: middle;\n",
       "    }\n",
       "\n",
       "    .dataframe tbody tr th {\n",
       "        vertical-align: top;\n",
       "    }\n",
       "\n",
       "    .dataframe thead th {\n",
       "        text-align: right;\n",
       "    }\n",
       "</style>\n",
       "<table border=\"1\" class=\"dataframe\">\n",
       "  <thead>\n",
       "    <tr style=\"text-align: right;\">\n",
       "      <th></th>\n",
       "      <th>yyyymm</th>\n",
       "      <th>Mkt_minus_RF</th>\n",
       "      <th>SMB</th>\n",
       "      <th>HML</th>\n",
       "      <th>RF</th>\n",
       "    </tr>\n",
       "  </thead>\n",
       "  <tbody>\n",
       "    <tr>\n",
       "      <th>1140</th>\n",
       "      <td>202107</td>\n",
       "      <td>1.27</td>\n",
       "      <td>-3.96</td>\n",
       "      <td>-1.75</td>\n",
       "      <td>0.00</td>\n",
       "    </tr>\n",
       "    <tr>\n",
       "      <th>1141</th>\n",
       "      <td>202108</td>\n",
       "      <td>2.90</td>\n",
       "      <td>-0.48</td>\n",
       "      <td>-0.13</td>\n",
       "      <td>0.00</td>\n",
       "    </tr>\n",
       "    <tr>\n",
       "      <th>1142</th>\n",
       "      <td>202109</td>\n",
       "      <td>-4.37</td>\n",
       "      <td>0.80</td>\n",
       "      <td>5.09</td>\n",
       "      <td>0.00</td>\n",
       "    </tr>\n",
       "    <tr>\n",
       "      <th>1143</th>\n",
       "      <td>202110</td>\n",
       "      <td>6.65</td>\n",
       "      <td>-2.28</td>\n",
       "      <td>-0.44</td>\n",
       "      <td>0.00</td>\n",
       "    </tr>\n",
       "    <tr>\n",
       "      <th>1144</th>\n",
       "      <td>202111</td>\n",
       "      <td>-1.55</td>\n",
       "      <td>-1.35</td>\n",
       "      <td>-0.52</td>\n",
       "      <td>0.00</td>\n",
       "    </tr>\n",
       "  </tbody>\n",
       "</table>\n",
       "</div>"
      ],
      "text/plain": [
       "      yyyymm Mkt_minus_RF       SMB       HML        RF\n",
       "1140  202107         1.27     -3.96     -1.75      0.00\n",
       "1141  202108         2.90     -0.48     -0.13      0.00\n",
       "1142  202109        -4.37      0.80      5.09      0.00\n",
       "1143  202110         6.65     -2.28     -0.44      0.00\n",
       "1144  202111        -1.55     -1.35     -0.52      0.00"
      ]
     },
     "execution_count": 29,
     "metadata": {},
     "output_type": "execute_result"
    }
   ],
   "source": [
    "# Drop if the yyyymm is just a year.\n",
    "ff_df.index # 0, 1, ... , 1240\n",
    "ff_df.iloc[range(1140, 1153)] # 1144 is the last one we want. drop 1146 to 1240\n",
    "ff_df.tail() #1240 is our last, but range needs 1 more\n",
    "ff_df.drop(range(1146, 1241), inplace=True)\n",
    "print(f'Len after dropping yyyy: {len(ff_df)}')\n",
    "ff_df.tail()"
   ]
  },
  {
   "cell_type": "code",
   "execution_count": 30,
   "id": "6b8a431a",
   "metadata": {},
   "outputs": [],
   "source": [
    "# Pandas to datetime: https://pandas.pydata.org/pandas-docs/stable/reference/api/pandas.to_datetime.html\n",
    "# Parsing datetime:   https://docs.python.org/3/library/datetime.html#strftime-and-strptime-behavior\n",
    "ff_df['Date'] = pd.to_datetime(ff_df.yyyymm, format='%Y%m')\n"
   ]
  },
  {
   "cell_type": "code",
   "execution_count": 32,
   "id": "80cef905",
   "metadata": {},
   "outputs": [
    {
     "data": {
      "text/html": [
       "<div>\n",
       "<style scoped>\n",
       "    .dataframe tbody tr th:only-of-type {\n",
       "        vertical-align: middle;\n",
       "    }\n",
       "\n",
       "    .dataframe tbody tr th {\n",
       "        vertical-align: top;\n",
       "    }\n",
       "\n",
       "    .dataframe thead th {\n",
       "        text-align: right;\n",
       "    }\n",
       "</style>\n",
       "<table border=\"1\" class=\"dataframe\">\n",
       "  <thead>\n",
       "    <tr style=\"text-align: right;\">\n",
       "      <th></th>\n",
       "      <th>Mkt_minus_RF</th>\n",
       "      <th>SMB</th>\n",
       "      <th>HML</th>\n",
       "      <th>RF</th>\n",
       "    </tr>\n",
       "    <tr>\n",
       "      <th>Date</th>\n",
       "      <th></th>\n",
       "      <th></th>\n",
       "      <th></th>\n",
       "      <th></th>\n",
       "    </tr>\n",
       "  </thead>\n",
       "  <tbody>\n",
       "    <tr>\n",
       "      <th>1926-07-01</th>\n",
       "      <td>2.96</td>\n",
       "      <td>-2.38</td>\n",
       "      <td>-2.73</td>\n",
       "      <td>0.22</td>\n",
       "    </tr>\n",
       "    <tr>\n",
       "      <th>1926-08-01</th>\n",
       "      <td>2.64</td>\n",
       "      <td>-1.47</td>\n",
       "      <td>4.14</td>\n",
       "      <td>0.25</td>\n",
       "    </tr>\n",
       "    <tr>\n",
       "      <th>1926-09-01</th>\n",
       "      <td>0.36</td>\n",
       "      <td>-1.39</td>\n",
       "      <td>0.12</td>\n",
       "      <td>0.23</td>\n",
       "    </tr>\n",
       "    <tr>\n",
       "      <th>1926-10-01</th>\n",
       "      <td>-3.24</td>\n",
       "      <td>-0.13</td>\n",
       "      <td>0.65</td>\n",
       "      <td>0.32</td>\n",
       "    </tr>\n",
       "    <tr>\n",
       "      <th>1926-11-01</th>\n",
       "      <td>2.53</td>\n",
       "      <td>-0.16</td>\n",
       "      <td>-0.38</td>\n",
       "      <td>0.31</td>\n",
       "    </tr>\n",
       "    <tr>\n",
       "      <th>...</th>\n",
       "      <td>...</td>\n",
       "      <td>...</td>\n",
       "      <td>...</td>\n",
       "      <td>...</td>\n",
       "    </tr>\n",
       "    <tr>\n",
       "      <th>2021-07-01</th>\n",
       "      <td>1.27</td>\n",
       "      <td>-3.96</td>\n",
       "      <td>-1.75</td>\n",
       "      <td>0.00</td>\n",
       "    </tr>\n",
       "    <tr>\n",
       "      <th>2021-08-01</th>\n",
       "      <td>2.90</td>\n",
       "      <td>-0.48</td>\n",
       "      <td>-0.13</td>\n",
       "      <td>0.00</td>\n",
       "    </tr>\n",
       "    <tr>\n",
       "      <th>2021-09-01</th>\n",
       "      <td>-4.37</td>\n",
       "      <td>0.80</td>\n",
       "      <td>5.09</td>\n",
       "      <td>0.00</td>\n",
       "    </tr>\n",
       "    <tr>\n",
       "      <th>2021-10-01</th>\n",
       "      <td>6.65</td>\n",
       "      <td>-2.28</td>\n",
       "      <td>-0.44</td>\n",
       "      <td>0.00</td>\n",
       "    </tr>\n",
       "    <tr>\n",
       "      <th>2021-11-01</th>\n",
       "      <td>-1.55</td>\n",
       "      <td>-1.35</td>\n",
       "      <td>-0.52</td>\n",
       "      <td>0.00</td>\n",
       "    </tr>\n",
       "  </tbody>\n",
       "</table>\n",
       "<p>1145 rows × 4 columns</p>\n",
       "</div>"
      ],
      "text/plain": [
       "           Mkt_minus_RF       SMB       HML        RF\n",
       "Date                                                 \n",
       "1926-07-01         2.96     -2.38     -2.73      0.22\n",
       "1926-08-01         2.64     -1.47      4.14      0.25\n",
       "1926-09-01         0.36     -1.39      0.12      0.23\n",
       "1926-10-01        -3.24     -0.13      0.65      0.32\n",
       "1926-11-01         2.53     -0.16     -0.38      0.31\n",
       "...                 ...       ...       ...       ...\n",
       "2021-07-01         1.27     -3.96     -1.75      0.00\n",
       "2021-08-01         2.90     -0.48     -0.13      0.00\n",
       "2021-09-01        -4.37      0.80      5.09      0.00\n",
       "2021-10-01         6.65     -2.28     -0.44      0.00\n",
       "2021-11-01        -1.55     -1.35     -0.52      0.00\n",
       "\n",
       "[1145 rows x 4 columns]"
      ]
     },
     "execution_count": 32,
     "metadata": {},
     "output_type": "execute_result"
    }
   ],
   "source": [
    "# Drop the old yyyymm column \n",
    "ff_df.drop(columns='yyyymm', inplace=True)\n",
    "# Make the Date an index field\n",
    "ff_df.set_index('Date', inplace=True)\n",
    "ff_df"
   ]
  },
  {
   "cell_type": "markdown",
   "id": "e647a781",
   "metadata": {},
   "source": [
    "# Data Visualization\n",
    "\n",
    "## Matplotlib and pyplot\n",
    "\n",
    "Comes from Matlab\n",
    "\n",
    "Reference: https://matplotlib.org/stable/tutorials/introductory/usage.html\n",
    "\n",
    "### lines"
   ]
  },
  {
   "cell_type": "code",
   "execution_count": 11,
   "id": "73cc0757",
   "metadata": {},
   "outputs": [],
   "source": [
    "import matplotlib as mpl\n",
    "import matplotlib.pyplot as plt\n",
    "import numpy as np\n",
    "import pandas as pd"
   ]
  },
  {
   "cell_type": "code",
   "execution_count": 12,
   "id": "12cc514d",
   "metadata": {},
   "outputs": [
    {
     "data": {
      "text/plain": [
       "array([ 2,  6, 10, 14, 18, 22, 26, 30, 34, 38])"
      ]
     },
     "execution_count": 12,
     "metadata": {},
     "output_type": "execute_result"
    }
   ],
   "source": [
    "\n",
    "x = np.array(np.arange(1,11)) # 1 .. 10\n",
    "y = np.array(np.arange(2, 39, 4)) # 2 .. 38\n",
    "y\n",
    "#print(f'b is a matrix\\n {b} \\nwith a shape of {b.shape}')"
   ]
  },
  {
   "cell_type": "code",
   "execution_count": 13,
   "id": "fd4a54e3",
   "metadata": {},
   "outputs": [
    {
     "data": {
      "image/png": "[encoded data removed]",
      "text/plain": [
       "<Figure size 432x288 with 1 Axes>"
      ]
     },
     "metadata": {
      "needs_background": "light"
     },
     "output_type": "display_data"
    }
   ],
   "source": [
    "fig, ax = plt.subplots()  # Create a figure containing a single axes.\n",
    "ax.plot(x, y);  # Plot some data on the axes."
   ]
  },
  {
   "cell_type": "code",
   "execution_count": 14,
   "id": "e263179d",
   "metadata": {},
   "outputs": [
    {
     "data": {
      "text/plain": [
       "array([ 0.00000000e+00,  7.07106781e-01,  1.00000000e+00,  7.07106781e-01,\n",
       "        1.22464680e-16, -7.07106781e-01, -1.00000000e+00, -7.07106781e-01,\n",
       "       -2.44929360e-16])"
      ]
     },
     "execution_count": 14,
     "metadata": {},
     "output_type": "execute_result"
    }
   ],
   "source": [
    "x = np.linspace(0, 2 * np.pi, 9) # unit circle: 0 to 2*pi in 8\n",
    "y = np.sin(x)  # Caclulate sin(x) for each point in the vector\n",
    "y"
   ]
  },
  {
   "cell_type": "code",
   "execution_count": 15,
   "id": "9453f881",
   "metadata": {},
   "outputs": [
    {
     "data": {
      "text/plain": [
       "[<matplotlib.lines.Line2D at 0x2bb0cca37c0>]"
      ]
     },
     "execution_count": 15,
     "metadata": {},
     "output_type": "execute_result"
    },
    {
     "data": {
      "image/png": "[encoded data removed]",
      "text/plain": [
       "<Figure size 432x288 with 1 Axes>"
      ]
     },
     "metadata": {
      "needs_background": "light"
     },
     "output_type": "display_data"
    }
   ],
   "source": [
    "fig, ax = plt.subplots()  # Create a figure containing a single axes.\n",
    "ax.plot(x, y)"
   ]
  },
  {
   "cell_type": "markdown",
   "id": "7afc1f17",
   "metadata": {},
   "source": [
    "## pyplot\n",
    "\n",
    "\"matplotlib.pyplot is a state-based interface to matplotlib\"\n",
    "\n",
    "Reference: https://matplotlib.org/stable/api/_as_gen/matplotlib.pyplot.html"
   ]
  },
  {
   "cell_type": "code",
   "execution_count": 16,
   "id": "1d6a01bf",
   "metadata": {},
   "outputs": [
    {
     "data": {
      "text/plain": [
       "[<matplotlib.lines.Line2D at 0x2bb0cd14880>]"
      ]
     },
     "execution_count": 16,
     "metadata": {},
     "output_type": "execute_result"
    },
    {
     "data": {
      "image/png": "[encoded data removed]",
      "text/plain": [
       "<Figure size 432x288 with 1 Axes>"
      ]
     },
     "metadata": {
      "needs_background": "light"
     },
     "output_type": "display_data"
    }
   ],
   "source": [
    "import matplotlib.pyplot as plt\n",
    "\n",
    "x = np.arange(0, 2.0 * np.pi, 0.1)\n",
    "y = np.sin(x)\n",
    "plt.plot(x, y)"
   ]
  },
  {
   "cell_type": "markdown",
   "id": "46cf99ab",
   "metadata": {},
   "source": [
    "## bar charts \n",
    "\n",
    "Bar chart for graphics cards.\n",
    "\n",
    "Source for high-end graphics cards: https://www.videocardbenchmark.net/high_end_gpus.html\n",
    "        \n",
    "Reference: https://matplotlib.org/stable/api/_as_gen/matplotlib.pyplot.bar.html\n",
    "        \n",
    "Helpful example: https://pythonspot.com/matplotlib-bar-chart/"
   ]
  },
  {
   "cell_type": "code",
   "execution_count": 17,
   "id": "005809a4",
   "metadata": {},
   "outputs": [
    {
     "data": {
      "text/html": [
       "<div>\n",
       "<style scoped>\n",
       "    .dataframe tbody tr th:only-of-type {\n",
       "        vertical-align: middle;\n",
       "    }\n",
       "\n",
       "    .dataframe tbody tr th {\n",
       "        vertical-align: top;\n",
       "    }\n",
       "\n",
       "    .dataframe thead th {\n",
       "        text-align: right;\n",
       "    }\n",
       "</style>\n",
       "<table border=\"1\" class=\"dataframe\">\n",
       "  <thead>\n",
       "    <tr style=\"text-align: right;\">\n",
       "      <th></th>\n",
       "      <th>Videocard</th>\n",
       "      <th>G3D_mark</th>\n",
       "      <th>Price</th>\n",
       "    </tr>\n",
       "  </thead>\n",
       "  <tbody>\n",
       "    <tr>\n",
       "      <th>0</th>\n",
       "      <td>GeForce RTX 3080 Ti</td>\n",
       "      <td>26677</td>\n",
       "      <td>2023.02</td>\n",
       "    </tr>\n",
       "    <tr>\n",
       "      <th>1</th>\n",
       "      <td>GeForce RTX 3090</td>\n",
       "      <td>26054</td>\n",
       "      <td>3097.93</td>\n",
       "    </tr>\n",
       "    <tr>\n",
       "      <th>2</th>\n",
       "      <td>Radeon RX 6900 XT</td>\n",
       "      <td>25344</td>\n",
       "      <td>1759.99</td>\n",
       "    </tr>\n",
       "    <tr>\n",
       "      <th>3</th>\n",
       "      <td>GeForce RTX 3080</td>\n",
       "      <td>24544</td>\n",
       "      <td>3799.99</td>\n",
       "    </tr>\n",
       "    <tr>\n",
       "      <th>4</th>\n",
       "      <td>RTX A5000</td>\n",
       "      <td>23583</td>\n",
       "      <td>NaN</td>\n",
       "    </tr>\n",
       "  </tbody>\n",
       "</table>\n",
       "</div>"
      ],
      "text/plain": [
       "             Videocard  G3D_mark    Price\n",
       "0  GeForce RTX 3080 Ti     26677  2023.02\n",
       "1     GeForce RTX 3090     26054  3097.93\n",
       "2    Radeon RX 6900 XT     25344  1759.99\n",
       "3     GeForce RTX 3080     24544  3799.99\n",
       "4            RTX A5000     23583      NaN"
      ]
     },
     "execution_count": 17,
     "metadata": {},
     "output_type": "execute_result"
    }
   ],
   "source": [
    "graphics_data = {\n",
    "    'Videocard': ['GeForce RTX 3080 Ti', 'GeForce RTX 3090', 'Radeon RX 6900 XT', 'GeForce RTX 3080', 'RTX A5000', ],\n",
    "    'G3D_mark': [26677, 26054, 25344, 24544, 23583,],\n",
    "    'Price': [2023.02, 3097.93, 1759.99, 3799.99, np.nan, ]\n",
    "                }\n",
    "graphics_df = pd.DataFrame(graphics_data)\n",
    "graphics_df"
   ]
  },
  {
   "cell_type": "code",
   "execution_count": 18,
   "id": "10719258",
   "metadata": {},
   "outputs": [
    {
     "data": {
      "text/plain": [
       "array([0, 1, 2, 3, 4])"
      ]
     },
     "execution_count": 18,
     "metadata": {},
     "output_type": "execute_result"
    }
   ],
   "source": [
    "cards = list(graphics_df.Videocard)\n",
    "benchmark = list(graphics_df.G3D_mark)\n",
    "y_pos = np.arange(len(cards)) # simple array([0, 1, 2, 3, 4])\n",
    "y_pos"
   ]
  },
  {
   "cell_type": "code",
   "execution_count": 19,
   "id": "82d5e99b",
   "metadata": {},
   "outputs": [
    {
     "data": {
      "image/png": "[encoded data removed]",
      "text/plain": [
       "<Figure size 720x360 with 1 Axes>"
      ]
     },
     "metadata": {
      "needs_background": "light"
     },
     "output_type": "display_data"
    }
   ],
   "source": [
    "fig = plt.figure(figsize = (10, 5)) # or the words get smashed together\n",
    "plt.bar(y_pos, benchmark, align='center', alpha=0.5)\n",
    "plt.xticks(y_pos, cards)\n",
    "plt.ylabel('Benchmark')\n",
    "plt.title('High-end graphics card comparison')\n",
    "\n",
    "plt.show()"
   ]
  },
  {
   "cell_type": "markdown",
   "id": "67c6d5b6",
   "metadata": {},
   "source": [
    "# Seaborn\n",
    "\n",
    "Depends on Matplotlib and its way of plotting.\n",
    "\n",
    "Reference: https://seaborn.pydata.org/tutorial.html\n",
    "\n",
    "Gallery: https://seaborn.pydata.org/examples/index.html\n",
    "\n",
    "Official intro: https://seaborn.pydata.org/introduction.html\n",
    "\n",
    "Tutorial: https://www.geeksforgeeks.org/python-seaborn-tutorial/\n",
    "\n",
    "An in-joke (and why we `import seaborn as sns`): https://stackoverflow.com/questions/41499857/seaborn-why-import-as-sns"
   ]
  },
  {
   "cell_type": "code",
   "execution_count": 20,
   "id": "5bbd399e",
   "metadata": {},
   "outputs": [],
   "source": [
    "import seaborn as sns \n",
    "import matplotlib.pyplot as plt "
   ]
  },
  {
   "cell_type": "code",
   "execution_count": 25,
   "id": "d77c9e7a",
   "metadata": {},
   "outputs": [
    {
     "data": {
      "text/plain": [
       "<AxesSubplot:>"
      ]
     },
     "execution_count": 25,
     "metadata": {},
     "output_type": "execute_result"
    },
    {
     "data": {
      "image/png": "[encoded data removed]",
      "text/plain": [
       "<Figure size 360x216 with 1 Axes>"
      ]
     },
     "metadata": {
      "needs_background": "light"
     },
     "output_type": "display_data"
    }
   ],
   "source": [
    "plt.figure(figsize = (5, 3)) # 5 inches by 3 inches\n",
    "sns.lineplot(data=graphics_df) # Using the dataframe as input"
   ]
  },
  {
   "cell_type": "code",
   "execution_count": 29,
   "id": "06081c46",
   "metadata": {},
   "outputs": [
    {
     "data": {
      "text/html": [
       "<div>\n",
       "<style scoped>\n",
       "    .dataframe tbody tr th:only-of-type {\n",
       "        vertical-align: middle;\n",
       "    }\n",
       "\n",
       "    .dataframe tbody tr th {\n",
       "        vertical-align: top;\n",
       "    }\n",
       "\n",
       "    .dataframe thead th {\n",
       "        text-align: right;\n",
       "    }\n",
       "</style>\n",
       "<table border=\"1\" class=\"dataframe\">\n",
       "  <thead>\n",
       "    <tr style=\"text-align: right;\">\n",
       "      <th></th>\n",
       "      <th>Videocard</th>\n",
       "      <th>pctg</th>\n",
       "      <th>G3D Mark</th>\n",
       "      <th>Price</th>\n",
       "    </tr>\n",
       "  </thead>\n",
       "  <tbody>\n",
       "    <tr>\n",
       "      <th>0</th>\n",
       "      <td>Radeon RX 6900 XT</td>\n",
       "      <td>-0.82</td>\n",
       "      <td>25344</td>\n",
       "      <td>1759.99</td>\n",
       "    </tr>\n",
       "    <tr>\n",
       "      <th>1</th>\n",
       "      <td>GeForce RTX 3080</td>\n",
       "      <td>-0.80</td>\n",
       "      <td>24544</td>\n",
       "      <td>3799.90</td>\n",
       "    </tr>\n",
       "    <tr>\n",
       "      <th>2</th>\n",
       "      <td>RTX A5000</td>\n",
       "      <td>-0.76</td>\n",
       "      <td>23583</td>\n",
       "      <td>NaN</td>\n",
       "    </tr>\n",
       "    <tr>\n",
       "      <th>3</th>\n",
       "      <td>Radeon RX 6800 XT</td>\n",
       "      <td>-0.75</td>\n",
       "      <td>23058</td>\n",
       "      <td>1478.87</td>\n",
       "    </tr>\n",
       "    <tr>\n",
       "      <th>4</th>\n",
       "      <td>GeForce RTX 3070 Ti</td>\n",
       "      <td>-0.73</td>\n",
       "      <td>22651</td>\n",
       "      <td>1268.29</td>\n",
       "    </tr>\n",
       "    <tr>\n",
       "      <th>5</th>\n",
       "      <td>RTX A6000</td>\n",
       "      <td>-0.73</td>\n",
       "      <td>22563</td>\n",
       "      <td>4999.00</td>\n",
       "    </tr>\n",
       "    <tr>\n",
       "      <th>6</th>\n",
       "      <td>GeForce RTX 3070</td>\n",
       "      <td>-0.71</td>\n",
       "      <td>21934</td>\n",
       "      <td>1097.19</td>\n",
       "    </tr>\n",
       "    <tr>\n",
       "      <th>7</th>\n",
       "      <td>GeForce RTX 2080 Ti</td>\n",
       "      <td>-0.70</td>\n",
       "      <td>21716</td>\n",
       "      <td>1291.94</td>\n",
       "    </tr>\n",
       "    <tr>\n",
       "      <th>8</th>\n",
       "      <td>Radeon RX 6800</td>\n",
       "      <td>-0.67</td>\n",
       "      <td>20768</td>\n",
       "      <td>1529.99</td>\n",
       "    </tr>\n",
       "  </tbody>\n",
       "</table>\n",
       "</div>"
      ],
      "text/plain": [
       "             Videocard  pctg  G3D Mark    Price\n",
       "0    Radeon RX 6900 XT -0.82     25344  1759.99\n",
       "1     GeForce RTX 3080 -0.80     24544  3799.90\n",
       "2            RTX A5000 -0.76     23583      NaN\n",
       "3    Radeon RX 6800 XT -0.75     23058  1478.87\n",
       "4  GeForce RTX 3070 Ti -0.73     22651  1268.29\n",
       "5            RTX A6000 -0.73     22563  4999.00\n",
       "6     GeForce RTX 3070 -0.71     21934  1097.19\n",
       "7  GeForce RTX 2080 Ti -0.70     21716  1291.94\n",
       "8       Radeon RX 6800 -0.67     20768  1529.99"
      ]
     },
     "execution_count": 29,
     "metadata": {},
     "output_type": "execute_result"
    }
   ],
   "source": [
    "# slightly longer graphics card example\n",
    "filename = \"graphics_cards.xlsx\"\n",
    "graphics2_df = pd.read_excel(filename, sheet_name='graphics')\n",
    "graphics2_df"
   ]
  },
  {
   "cell_type": "code",
   "execution_count": 33,
   "id": "2e90e551",
   "metadata": {},
   "outputs": [
    {
     "data": {
      "text/html": [
       "<div>\n",
       "<style scoped>\n",
       "    .dataframe tbody tr th:only-of-type {\n",
       "        vertical-align: middle;\n",
       "    }\n",
       "\n",
       "    .dataframe tbody tr th {\n",
       "        vertical-align: top;\n",
       "    }\n",
       "\n",
       "    .dataframe thead th {\n",
       "        text-align: right;\n",
       "    }\n",
       "</style>\n",
       "<table border=\"1\" class=\"dataframe\">\n",
       "  <thead>\n",
       "    <tr style=\"text-align: right;\">\n",
       "      <th></th>\n",
       "      <th>Videocard</th>\n",
       "      <th>G3D Mark</th>\n",
       "      <th>Price</th>\n",
       "    </tr>\n",
       "  </thead>\n",
       "  <tbody>\n",
       "    <tr>\n",
       "      <th>0</th>\n",
       "      <td>Radeon RX 6900 XT</td>\n",
       "      <td>25344</td>\n",
       "      <td>1759.99</td>\n",
       "    </tr>\n",
       "    <tr>\n",
       "      <th>1</th>\n",
       "      <td>GeForce RTX 3080</td>\n",
       "      <td>24544</td>\n",
       "      <td>3799.90</td>\n",
       "    </tr>\n",
       "    <tr>\n",
       "      <th>3</th>\n",
       "      <td>Radeon RX 6800 XT</td>\n",
       "      <td>23058</td>\n",
       "      <td>1478.87</td>\n",
       "    </tr>\n",
       "    <tr>\n",
       "      <th>4</th>\n",
       "      <td>GeForce RTX 3070 Ti</td>\n",
       "      <td>22651</td>\n",
       "      <td>1268.29</td>\n",
       "    </tr>\n",
       "    <tr>\n",
       "      <th>5</th>\n",
       "      <td>RTX A6000</td>\n",
       "      <td>22563</td>\n",
       "      <td>4999.00</td>\n",
       "    </tr>\n",
       "    <tr>\n",
       "      <th>6</th>\n",
       "      <td>GeForce RTX 3070</td>\n",
       "      <td>21934</td>\n",
       "      <td>1097.19</td>\n",
       "    </tr>\n",
       "    <tr>\n",
       "      <th>7</th>\n",
       "      <td>GeForce RTX 2080 Ti</td>\n",
       "      <td>21716</td>\n",
       "      <td>1291.94</td>\n",
       "    </tr>\n",
       "    <tr>\n",
       "      <th>8</th>\n",
       "      <td>Radeon RX 6800</td>\n",
       "      <td>20768</td>\n",
       "      <td>1529.99</td>\n",
       "    </tr>\n",
       "  </tbody>\n",
       "</table>\n",
       "</div>"
      ],
      "text/plain": [
       "             Videocard  G3D Mark    Price\n",
       "0    Radeon RX 6900 XT     25344  1759.99\n",
       "1     GeForce RTX 3080     24544  3799.90\n",
       "3    Radeon RX 6800 XT     23058  1478.87\n",
       "4  GeForce RTX 3070 Ti     22651  1268.29\n",
       "5            RTX A6000     22563  4999.00\n",
       "6     GeForce RTX 3070     21934  1097.19\n",
       "7  GeForce RTX 2080 Ti     21716  1291.94\n",
       "8       Radeon RX 6800     20768  1529.99"
      ]
     },
     "execution_count": 33,
     "metadata": {},
     "output_type": "execute_result"
    }
   ],
   "source": [
    "graphics2_df.dropna(how='any', inplace=True)\n",
    "graphics2_df.drop(columns='pctg', inplace=True)\n",
    "graphics2_df"
   ]
  },
  {
   "cell_type": "code",
   "execution_count": 36,
   "id": "22653d7f",
   "metadata": {},
   "outputs": [
    {
     "data": {
      "text/plain": [
       "['Radeon',\n",
       " 'GeForce',\n",
       " 'Radeon',\n",
       " 'GeForce',\n",
       " 'other',\n",
       " 'GeForce',\n",
       " 'GeForce',\n",
       " 'Radeon']"
      ]
     },
     "execution_count": 36,
     "metadata": {},
     "output_type": "execute_result"
    }
   ],
   "source": [
    "vid_col = list(graphics2_df.Videocard) # ['Radeon RX 6900 XT', ... 'Radeon RX 6800']\n",
    "new_col = []\n",
    "for el in vid_col:\n",
    "    if 'Radeon' in el:\n",
    "        append_me = 'Radeon'\n",
    "    elif 'GeForce' in el:\n",
    "        append_me = 'GeForce'\n",
    "    else:\n",
    "        append_me = 'other'\n",
    "    new_col.append(append_me)\n",
    "new_col"
   ]
  },
  {
   "cell_type": "code",
   "execution_count": 37,
   "id": "ae4605aa",
   "metadata": {},
   "outputs": [
    {
     "data": {
      "text/html": [
       "<div>\n",
       "<style scoped>\n",
       "    .dataframe tbody tr th:only-of-type {\n",
       "        vertical-align: middle;\n",
       "    }\n",
       "\n",
       "    .dataframe tbody tr th {\n",
       "        vertical-align: top;\n",
       "    }\n",
       "\n",
       "    .dataframe thead th {\n",
       "        text-align: right;\n",
       "    }\n",
       "</style>\n",
       "<table border=\"1\" class=\"dataframe\">\n",
       "  <thead>\n",
       "    <tr style=\"text-align: right;\">\n",
       "      <th></th>\n",
       "      <th>Videocard</th>\n",
       "      <th>G3D Mark</th>\n",
       "      <th>Price</th>\n",
       "      <th>Brand</th>\n",
       "    </tr>\n",
       "  </thead>\n",
       "  <tbody>\n",
       "    <tr>\n",
       "      <th>0</th>\n",
       "      <td>Radeon RX 6900 XT</td>\n",
       "      <td>25344</td>\n",
       "      <td>1759.99</td>\n",
       "      <td>Radeon</td>\n",
       "    </tr>\n",
       "    <tr>\n",
       "      <th>1</th>\n",
       "      <td>GeForce RTX 3080</td>\n",
       "      <td>24544</td>\n",
       "      <td>3799.90</td>\n",
       "      <td>GeForce</td>\n",
       "    </tr>\n",
       "    <tr>\n",
       "      <th>3</th>\n",
       "      <td>Radeon RX 6800 XT</td>\n",
       "      <td>23058</td>\n",
       "      <td>1478.87</td>\n",
       "      <td>Radeon</td>\n",
       "    </tr>\n",
       "    <tr>\n",
       "      <th>4</th>\n",
       "      <td>GeForce RTX 3070 Ti</td>\n",
       "      <td>22651</td>\n",
       "      <td>1268.29</td>\n",
       "      <td>GeForce</td>\n",
       "    </tr>\n",
       "    <tr>\n",
       "      <th>5</th>\n",
       "      <td>RTX A6000</td>\n",
       "      <td>22563</td>\n",
       "      <td>4999.00</td>\n",
       "      <td>other</td>\n",
       "    </tr>\n",
       "    <tr>\n",
       "      <th>6</th>\n",
       "      <td>GeForce RTX 3070</td>\n",
       "      <td>21934</td>\n",
       "      <td>1097.19</td>\n",
       "      <td>GeForce</td>\n",
       "    </tr>\n",
       "    <tr>\n",
       "      <th>7</th>\n",
       "      <td>GeForce RTX 2080 Ti</td>\n",
       "      <td>21716</td>\n",
       "      <td>1291.94</td>\n",
       "      <td>GeForce</td>\n",
       "    </tr>\n",
       "    <tr>\n",
       "      <th>8</th>\n",
       "      <td>Radeon RX 6800</td>\n",
       "      <td>20768</td>\n",
       "      <td>1529.99</td>\n",
       "      <td>Radeon</td>\n",
       "    </tr>\n",
       "  </tbody>\n",
       "</table>\n",
       "</div>"
      ],
      "text/plain": [
       "             Videocard  G3D Mark    Price    Brand\n",
       "0    Radeon RX 6900 XT     25344  1759.99   Radeon\n",
       "1     GeForce RTX 3080     24544  3799.90  GeForce\n",
       "3    Radeon RX 6800 XT     23058  1478.87   Radeon\n",
       "4  GeForce RTX 3070 Ti     22651  1268.29  GeForce\n",
       "5            RTX A6000     22563  4999.00    other\n",
       "6     GeForce RTX 3070     21934  1097.19  GeForce\n",
       "7  GeForce RTX 2080 Ti     21716  1291.94  GeForce\n",
       "8       Radeon RX 6800     20768  1529.99   Radeon"
      ]
     },
     "execution_count": 37,
     "metadata": {},
     "output_type": "execute_result"
    }
   ],
   "source": [
    "graphics2_df['Brand'] = new_col\n",
    "graphics2_df"
   ]
  },
  {
   "cell_type": "markdown",
   "id": "fc627fc7",
   "metadata": {},
   "source": [
    "# Let's look at the graphics2_df\n",
    "\n",
    "Reference: https://seaborn.pydata.org/tutorial/categorical.html"
   ]
  },
  {
   "cell_type": "code",
   "execution_count": 38,
   "id": "d55ddb25",
   "metadata": {},
   "outputs": [
    {
     "data": {
      "text/plain": [
       "<seaborn.axisgrid.FacetGrid at 0x2bb0d5cb370>"
      ]
     },
     "execution_count": 38,
     "metadata": {},
     "output_type": "execute_result"
    },
    {
     "data": {
      "image/png": "[encoded data removed]",
      "text/plain": [
       "<Figure size 360x360 with 1 Axes>"
      ]
     },
     "metadata": {
      "needs_background": "light"
     },
     "output_type": "display_data"
    }
   ],
   "source": [
    "sns.catplot(x=\"Brand\", y=\"Price\", data=graphics2_df)"
   ]
  },
  {
   "cell_type": "markdown",
   "id": "d475920d",
   "metadata": {},
   "source": [
    "## Box & Whisker plots"
   ]
  },
  {
   "cell_type": "code",
   "execution_count": 39,
   "id": "0cb27ebb",
   "metadata": {},
   "outputs": [
    {
     "data": {
      "text/plain": [
       "<seaborn.axisgrid.FacetGrid at 0x2bb0d0b8c10>"
      ]
     },
     "execution_count": 39,
     "metadata": {},
     "output_type": "execute_result"
    },
    {
     "data": {
      "image/png": "[encoded data removed]",
      "text/plain": [
       "<Figure size 360x360 with 1 Axes>"
      ]
     },
     "metadata": {
      "needs_background": "light"
     },
     "output_type": "display_data"
    }
   ],
   "source": [
    "sns.catplot(x=\"Brand\", y=\"Price\", kind=\"box\", data=graphics2_df)"
   ]
  },
  {
   "cell_type": "code",
   "execution_count": null,
   "id": "89f85a3e",
   "metadata": {},
   "outputs": [],
   "source": [
    "## Linear regression\n",
    "\n",
    "Reference: https://seaborn.pydata.org/tutorial/regression.html"
   ]
  },
  {
   "cell_type": "code",
   "execution_count": 40,
   "id": "250b8613",
   "metadata": {},
   "outputs": [
    {
     "data": {
      "text/plain": [
       "<AxesSubplot:xlabel='G3D Mark', ylabel='Price'>"
      ]
     },
     "execution_count": 40,
     "metadata": {},
     "output_type": "execute_result"
    },
    {
     "data": {
      "image/png": "[encoded data removed]",
      "text/plain": [
       "<Figure size 432x288 with 1 Axes>"
      ]
     },
     "metadata": {
      "needs_background": "light"
     },
     "output_type": "display_data"
    }
   ],
   "source": [
    "sns.regplot(x=\"G3D Mark\", y=\"Price\", data=graphics2_df)"
   ]
  },
  {
   "cell_type": "code",
   "execution_count": 41,
   "id": "85e7ff16",
   "metadata": {},
   "outputs": [
    {
     "data": {
      "text/plain": [
       "<seaborn.axisgrid.FacetGrid at 0x2bb0e81f8e0>"
      ]
     },
     "execution_count": 41,
     "metadata": {},
     "output_type": "execute_result"
    },
    {
     "data": {
      "image/png": "[encoded data removed]",
      "text/plain": [
       "<Figure size 436.75x360 with 1 Axes>"
      ]
     },
     "metadata": {
      "needs_background": "light"
     },
     "output_type": "display_data"
    }
   ],
   "source": [
    "sns.lmplot(x=\"G3D Mark\", y=\"Price\", hue=\"Brand\", data=graphics2_df)"
   ]
  },
  {
   "cell_type": "markdown",
   "id": "be18b194",
   "metadata": {},
   "source": [
    "# More on lists\n",
    "\n",
    "- By index\n",
    "- Slicing"
   ]
  },
  {
   "cell_type": "code",
   "execution_count": 49,
   "id": "1d432ab7",
   "metadata": {},
   "outputs": [
    {
     "data": {
      "text/plain": [
       "50"
      ]
     },
     "execution_count": 49,
     "metadata": {},
     "output_type": "execute_result"
    }
   ],
   "source": [
    "nums = list(range(10, 101, 10)) # [10, 20, 30, 40, 50, 60, 70, 80, 90, 100]\n",
    "first = nums[0] # 10\n",
    "last = nums[len(nums) - 1] # correct, but not pythonic\n",
    "last = nums[-1] # better... 100\n",
    "index = 4\n",
    "nums[index] # 50"
   ]
  },
  {
   "cell_type": "markdown",
   "id": "fa99f1ad",
   "metadata": {},
   "source": [
    "# slicing\n",
    "\n",
    "reference: https://www.geeksforgeeks.org/python-list/?ref=gcse#sl\n",
    "\n",
    "list[first:last]\n",
    "\n",
    "list[-xx]"
   ]
  },
  {
   "cell_type": "code",
   "execution_count": 55,
   "id": "25227cb6",
   "metadata": {},
   "outputs": [
    {
     "data": {
      "text/plain": [
       "[80, 90, 100]"
      ]
     },
     "execution_count": 55,
     "metadata": {},
     "output_type": "execute_result"
    }
   ],
   "source": [
    "middle = nums[3:7] # [40, 50, 60, 70]\n",
    "start = nums[:3] # [10, 20, 30]\n",
    "end = nums[7:] # [80, 90, 100]\n",
    "last_one = nums[-1:]\n",
    "last_three = nums[-3:] # same as nums[7:]"
   ]
  },
  {
   "cell_type": "markdown",
   "id": "62c88775",
   "metadata": {},
   "source": [
    "## extend\n",
    "\n",
    "Adds a single thing. If adding a list, add it one element at a time. If adding a string, add it one character at a time. \n",
    "\n",
    "## append\n",
    "\n",
    "I use this one more often.\n",
    "If adding a list, add the entire list. If adding a string, add the entire string. \n",
    "\n",
    "## insert\n",
    "\n",
    "Tell it where to insert the single thing.\n",
    "\n",
    "## remove\n",
    "\n",
    "Removes a particular element\n",
    "\n",
    "## pop\n",
    "\n",
    "Removes the last element *and* returns it."
   ]
  },
  {
   "cell_type": "code",
   "execution_count": 72,
   "id": "d86ec5c0",
   "metadata": {},
   "outputs": [],
   "source": [
    "lst1 = ['a', 'b', 'c', 'd']\n",
    "lst2 = [1, 2, 3]"
   ]
  },
  {
   "cell_type": "code",
   "execution_count": 73,
   "id": "2915fd08",
   "metadata": {},
   "outputs": [
    {
     "data": {
      "text/plain": [
       "['a', 'b', 'c', 'd', 1, 2, 3]"
      ]
     },
     "execution_count": 73,
     "metadata": {},
     "output_type": "execute_result"
    }
   ],
   "source": [
    "lst1.extend(lst2) # Returns a None\n",
    "lst1"
   ]
  },
  {
   "cell_type": "code",
   "execution_count": 74,
   "id": "59657ff9",
   "metadata": {},
   "outputs": [
    {
     "data": {
      "text/plain": [
       "['a', 'b', 'c', 'd', 1, 2, 3, [1, 2, 3]]"
      ]
     },
     "execution_count": 74,
     "metadata": {},
     "output_type": "execute_result"
    }
   ],
   "source": [
    "appended = lst1.append(lst2)\n",
    "appended  # pitfall: It's a None\n",
    "lst1 # last element is [1, 2, 3]"
   ]
  },
  {
   "cell_type": "code",
   "execution_count": 79,
   "id": "1f2894fa",
   "metadata": {},
   "outputs": [
    {
     "data": {
      "text/plain": [
       "['apples', 'peaches', 'pumpkin', 'pie']"
      ]
     },
     "execution_count": 79,
     "metadata": {},
     "output_type": "execute_result"
    }
   ],
   "source": [
    "lst3 = ['apples', 'peaches', 'pumpkin']\n",
    "lst4 = ['apples', 'peaches', 'pumpkin']\n",
    "lst3.append('pie')\n",
    "lst3"
   ]
  },
  {
   "cell_type": "code",
   "execution_count": 80,
   "id": "e6802084",
   "metadata": {},
   "outputs": [
    {
     "data": {
      "text/plain": [
       "['apples', 'peaches', 'pumpkin', 'p', 'i', 'e']"
      ]
     },
     "execution_count": 80,
     "metadata": {},
     "output_type": "execute_result"
    }
   ],
   "source": [
    "lst4.extend('pie')\n",
    "lst4"
   ]
  },
  {
   "cell_type": "code",
   "execution_count": 87,
   "id": "461241bb",
   "metadata": {},
   "outputs": [
    {
     "name": "stdout",
     "output_type": "stream",
     "text": [
      "At the start, the list is: [10, 15, 20]\n",
      "after inserting at position 0, the list is ['first', 10, 15, 20]\n",
      "after inserting at position -1, the list is ['first', 10, 15, 'penultimate', 20]\n",
      "after inserting at position 3, the list is ['first', 10, 15, 'middle', 'penultimate', 20]\n"
     ]
    }
   ],
   "source": [
    "lst5 = list(range(10, 21, 5))\n",
    "print(f'At the start, the list is: {lst5}')\n",
    "\n",
    "pos = 0\n",
    "lst5.insert(pos, 'first')\n",
    "print(f'after inserting at position {pos}, the list is {lst5}')\n",
    "\n",
    "pos = -1  # negative index goes from the end of the list, like slicing\n",
    "lst5.insert(pos, 'penultimate')\n",
    "print(f'after inserting at position {pos}, the list is {lst5}')\n",
    "\n",
    "pos = 3\n",
    "lst5.insert(pos, 'middle')\n",
    "print(f'after inserting at position {pos}, the list is {lst5}')"
   ]
  },
  {
   "cell_type": "code",
   "execution_count": 91,
   "id": "3f50a205",
   "metadata": {},
   "outputs": [
    {
     "data": {
      "text/plain": [
       "['a', 'b', 'd', 1, 2, 3, [1, 2, 3]]"
      ]
     },
     "execution_count": 91,
     "metadata": {},
     "output_type": "execute_result"
    }
   ],
   "source": [
    "lst1 # ['a', 'b', 'c', 'd', 1, 2, 3, [1, 2, 3]]\n",
    "lst1.remove('c')\n",
    "lst1"
   ]
  },
  {
   "cell_type": "code",
   "execution_count": 92,
   "id": "f57c2bb6",
   "metadata": {},
   "outputs": [
    {
     "ename": "ValueError",
     "evalue": "list.remove(x): x not in list",
     "output_type": "error",
     "traceback": [
      "\u001b[1;31m---------------------------------------------------------------------------\u001b[0m",
      "\u001b[1;31mValueError\u001b[0m                                Traceback (most recent call last)",
      "\u001b[1;32m~\\AppData\\Local\\Temp/ipykernel_29428/3771057342.py\u001b[0m in \u001b[0;36m<module>\u001b[1;34m\u001b[0m\n\u001b[0;32m      1\u001b[0m \u001b[1;31m# What happens if I try to remove something that's not there?\u001b[0m\u001b[1;33m\u001b[0m\u001b[1;33m\u001b[0m\u001b[0m\n\u001b[0;32m      2\u001b[0m \u001b[1;33m\u001b[0m\u001b[0m\n\u001b[1;32m----> 3\u001b[1;33m \u001b[0mlst1\u001b[0m\u001b[1;33m.\u001b[0m\u001b[0mremove\u001b[0m\u001b[1;33m(\u001b[0m\u001b[1;34m'x'\u001b[0m\u001b[1;33m)\u001b[0m\u001b[1;33m\u001b[0m\u001b[1;33m\u001b[0m\u001b[0m\n\u001b[0m",
      "\u001b[1;31mValueError\u001b[0m: list.remove(x): x not in list"
     ]
    }
   ],
   "source": [
    "# What happens if I try to remove something that's not there?\n",
    "\n",
    "lst1.remove('x')"
   ]
  },
  {
   "cell_type": "code",
   "execution_count": 93,
   "id": "64571a3b",
   "metadata": {},
   "outputs": [
    {
     "name": "stdout",
     "output_type": "stream",
     "text": [
      "I popped [1, 2, 3] off the list. Now the list is ['a', 'b', 'd', 1, 2, 3]\n"
     ]
    }
   ],
   "source": [
    "popped_this = lst1.pop()\n",
    "print(f'I popped {popped_this} off the list. Now the list is {lst1}')"
   ]
  },
  {
   "cell_type": "markdown",
   "id": "8bac65a8",
   "metadata": {},
   "source": [
    "## Iterating over lists\n",
    "\n",
    "Fortran a C-like, with an index\n",
    "\n",
    "Pythonic, accessing each element\n",
    "\n",
    "Pythonic, Both index and element, with enumerate."
   ]
  },
  {
   "cell_type": "code",
   "execution_count": 60,
   "id": "0834faf9",
   "metadata": {},
   "outputs": [
    {
     "name": "stdout",
     "output_type": "stream",
     "text": [
      "0: E\n",
      "1: l\n",
      "2: v\n",
      "3: t\n",
      "4: r\n"
     ]
    }
   ],
   "source": [
    "my_str = 'Elvtr'\n",
    "\n",
    "for i in range(len(my_str)):\n",
    "    print (f'{i}: {my_str[i]}')"
   ]
  },
  {
   "cell_type": "code",
   "execution_count": 61,
   "id": "fb6bd276",
   "metadata": {},
   "outputs": [
    {
     "name": "stdout",
     "output_type": "stream",
     "text": [
      "E\n",
      "l\n",
      "v\n",
      "t\n",
      "r\n"
     ]
    }
   ],
   "source": [
    "for ch in my_str:\n",
    "    print(ch)"
   ]
  },
  {
   "cell_type": "code",
   "execution_count": 62,
   "id": "97bae627",
   "metadata": {},
   "outputs": [
    {
     "name": "stdout",
     "output_type": "stream",
     "text": [
      "0: E\n",
      "1: l\n",
      "2: v\n",
      "3: t\n",
      "4: r\n"
     ]
    }
   ],
   "source": [
    "for i, ch in enumerate(my_str):\n",
    "    print (f'{i}: {ch}')"
   ]
  },
  {
   "cell_type": "markdown",
   "id": "d99d7424",
   "metadata": {},
   "source": [
    "## Testing for an empty list\n",
    "\n",
    "Can just use the list name in an if statement"
   ]
  },
  {
   "cell_type": "code",
   "execution_count": 95,
   "id": "feb88645",
   "metadata": {},
   "outputs": [
    {
     "name": "stdout",
     "output_type": "stream",
     "text": [
      "The list is empty.\n",
      "The list has 2 elements.\n"
     ]
    }
   ],
   "source": [
    "def size_or_empty(lst: list):\n",
    "    if lst:\n",
    "        print(f'The list has {len(lst)} elements.')\n",
    "    else:\n",
    "        print('The list is empty.')\n",
    "    return\n",
    "\n",
    "empty_lst = []\n",
    "regular_lst = [1, 2]\n",
    "\n",
    "size_or_empty(empty_lst)\n",
    "size_or_empty(regular_lst)"
   ]
  },
  {
   "cell_type": "code",
   "execution_count": 97,
   "id": "dd7ab133",
   "metadata": {},
   "outputs": [
    {
     "name": "stdout",
     "output_type": "stream",
     "text": [
      "The list has 5 elements.\n",
      "  popped: 5\n",
      "  popped: 4\n",
      "  popped: 3\n",
      "  popped: 2\n",
      "  popped: 1\n",
      "The list is empty.\n"
     ]
    }
   ],
   "source": [
    "lst_len = 5\n",
    "lst6 = list(range(1, lst_len+1))\n",
    "size_or_empty(lst6)\n",
    "\n",
    "for i in range(lst_len):\n",
    "    print(f'  popped: {lst6.pop()}')\n",
    "    \n",
    "size_or_empty(lst6)"
   ]
  },
  {
   "cell_type": "code",
   "execution_count": 99,
   "id": "04d2bec1",
   "metadata": {},
   "outputs": [
    {
     "name": "stdout",
     "output_type": "stream",
     "text": [
      "The list has 3 elements.\n",
      "  popped: 3\n",
      "  popped: 2\n",
      "  popped: 1\n"
     ]
    }
   ],
   "source": [
    "lst_len = 3\n",
    "lst7 = list(range(1, lst_len+1))\n",
    "size_or_empty(lst7)\n",
    "\n",
    "while lst7:\n",
    "    print(f'  popped: {lst7.pop()}')"
   ]
  }
 ],
 "metadata": {
  "kernelspec": {
   "display_name": "Python 3 (ipykernel)",
   "language": "python",
   "name": "python3"
  },
  "language_info": {
   "codemirror_mode": {
    "name": "ipython",
    "version": 3
   },
   "file_extension": ".py",
   "mimetype": "text/x-python",
   "name": "python",
   "nbconvert_exporter": "python",
   "pygments_lexer": "ipython3",
   "version": "3.9.7"
  }
 },
 "nbformat": 4,
 "nbformat_minor": 5
}
